{
  "nbformat": 4,
  "nbformat_minor": 0,
  "metadata": {
    "colab": {
      "provenance": [],
      "toc_visible": true
    },
    "kernelspec": {
      "name": "python3",
      "display_name": "Python 3"
    },
    "language_info": {
      "name": "python"
    }
  },
  "cells": [
    {
      "cell_type": "markdown",
      "source": [
        "##The Task"
      ],
      "metadata": {
        "id": "wnFqmAHfdOgY"
      }
    },
    {
      "cell_type": "markdown",
      "source": [
        "###Description"
      ],
      "metadata": {
        "id": "1_7w7O9-ikCy"
      }
    },
    {
      "cell_type": "markdown",
      "source": [
        "The task is to explore and prepare data and build classical ML models. Ideally, the models' hyperparameters would be optimised and evaluated quantitativeley and qualitatively from several aspects.\n",
        "\n",
        "![Picture1.png](https://drive.google.com/uc?export=download&id=1iwZoGM87jMrkI6cSkOr6G7aD3ZheNZUk)"
      ],
      "metadata": {
        "id": "61k6HO2ydTvx"
      }
    },
    {
      "cell_type": "markdown",
      "source": [
        "###About the dataset"
      ],
      "metadata": {
        "id": "Wob7jK1Ps2P3"
      }
    },
    {
      "cell_type": "markdown",
      "source": [
        "The **SmartWatch Gestures Dataset** has been collected to evaluate several gesture recognition algorithms for interacting with mobile applications using arm gestures.\n",
        "\n",
        "Eight different users performed twenty repetitions of twenty different gestures, for a total of 3200 sequences. Each sequence contains acceleration data from the 3-axis accelerometer of a first generation Sony SmartWatch™, as well as timestamps from the different clock sources available on an Android device. The smartwatch was worn on the user's right wrist. The gestures have been manually segmented by the users performing them by tapping the smartwatch screen at the beginning and at the end of every repetition.\n",
        "\n",
        "Each row corresponds to one attempt of a particular gesture by a participant.\n",
        "The rows contain information about:\n",
        "- The identity of the participant\n",
        "- The gesture type of the 20 possible gestures (see image)\n",
        "- The attempt # by the participant of the gesture\n",
        "- The span of the “features/time_nanos” over the steps.\n",
        "\n",
        "The rows contain a description of each step recorded by the smartwatch for:\n",
        "- `features/accel_x`, `features/accel_y`, `features/accel_z`: acceleration values over the three spatial axes\n",
        "- `features/time_event`, `features/time_millis`, `features/time_nanos`: time-related values"
      ],
      "metadata": {
        "id": "Mh-sgW70s5GG"
      }
    },
    {
      "cell_type": "markdown",
      "source": [
        "##Data Preparation"
      ],
      "metadata": {
        "id": "_vMtE1XZiMJ0"
      }
    },
    {
      "cell_type": "markdown",
      "source": [
        "###Loading the Dataset"
      ],
      "metadata": {
        "id": "gAX5j72Ag-_l"
      }
    },
    {
      "cell_type": "markdown",
      "source": [
        "First we start with loading the required libraries"
      ],
      "metadata": {
        "id": "XOYra4lwi3DJ"
      }
    },
    {
      "cell_type": "code",
      "source": [
        "import pandas as pd\n",
        "import numpy as np\n",
        "from sklearn.model_selection import train_test_split\n",
        "from sklearn.preprocessing import StandardScaler\n",
        "from sklearn.linear_model import LinearRegression\n",
        "from sklearn.ensemble import RandomForestRegressor\n",
        "from sklearn.decomposition import PCA\n",
        "from sklearn.model_selection import learning_curve\n",
        "from sklearn.pipeline import Pipeline\n",
        "from sklearn.metrics import mean_absolute_error, mean_squared_error, r2_score\n",
        "import matplotlib.pyplot as plt\n",
        "\n"
      ],
      "metadata": {
        "id": "UlRwcvWNi8kC"
      },
      "execution_count": null,
      "outputs": []
    },
    {
      "cell_type": "markdown",
      "source": [
        "upload the .csv file"
      ],
      "metadata": {
        "id": "GcxEUuerjMil"
      }
    },
    {
      "cell_type": "code",
      "execution_count": null,
      "metadata": {
        "id": "xRxlP2S6ZvgH",
        "colab": {
          "base_uri": "https://localhost:8080/"
        },
        "outputId": "b2d00e3a-ee09-4ae8-831f-797326d84a88"
      },
      "outputs": [
        {
          "output_type": "stream",
          "name": "stdout",
          "text": [
            "--2024-04-09 03:38:35--  https://drive.google.com/uc?export=download&id=1jyqeonDqjWL-H9LhmwlQyuWpq8ggisR2\n",
            "Resolving drive.google.com (drive.google.com)... 142.251.2.102, 142.251.2.139, 142.251.2.138, ...\n",
            "Connecting to drive.google.com (drive.google.com)|142.251.2.102|:443... connected.\n",
            "HTTP request sent, awaiting response... 303 See Other\n",
            "Location: https://drive.usercontent.google.com/download?id=1jyqeonDqjWL-H9LhmwlQyuWpq8ggisR2&export=download [following]\n",
            "--2024-04-09 03:38:35--  https://drive.usercontent.google.com/download?id=1jyqeonDqjWL-H9LhmwlQyuWpq8ggisR2&export=download\n",
            "Resolving drive.usercontent.google.com (drive.usercontent.google.com)... 142.251.2.132, 2607:f8b0:4023:c0d::84\n",
            "Connecting to drive.usercontent.google.com (drive.usercontent.google.com)|142.251.2.132|:443... connected.\n",
            "HTTP request sent, awaiting response... 200 OK\n",
            "Length: 7444690 (7.1M) [application/octet-stream]\n",
            "Saving to: ‘smartwatch_gestures.csv’\n",
            "\n",
            "smartwatch_gestures 100%[===================>]   7.10M  29.7MB/s    in 0.2s    \n",
            "\n",
            "2024-04-09 03:38:38 (29.7 MB/s) - ‘smartwatch_gestures.csv’ saved [7444690/7444690]\n",
            "\n"
          ]
        }
      ],
      "source": [
        "!wget \"https://drive.google.com/uc?export=download&id=1jyqeonDqjWL-H9LhmwlQyuWpq8ggisR2\" -O smartwatch_gestures.csv\n"
      ]
    },
    {
      "cell_type": "markdown",
      "source": [
        "read the csv file"
      ],
      "metadata": {
        "id": "aoFofTkDjOLJ"
      }
    },
    {
      "cell_type": "code",
      "source": [
        "# Load the dataset\n",
        "df = pd.read_csv(\"/content/smartwatch_gestures.csv\")"
      ],
      "metadata": {
        "colab": {
          "base_uri": "https://localhost:8080/"
        },
        "id": "6n2Xd1_wtfbH",
        "outputId": "1045a49f-fa0f-4db6-fc9f-1235dbe7879b"
      },
      "execution_count": null,
      "outputs": [
        {
          "output_type": "stream",
          "name": "stderr",
          "text": [
            "<ipython-input-39-3dc34259b5c1>:2: DtypeWarning: Columns (0,1,2,3,4,5,6,7,8,9,10,11,12,13,14,15,16,17,18,19,20,21,22,23,24,25,26,27,28,29,30,31,32,33,34,35,36,37,38,39,40,41,42,43,44,45,46,47,48,49,50,51,52,53,54,55,56,57,58,59,60,61,62,63,64,65,66,67,68,69,70,71,72,73,74,75,76,77,78,79,80,81,82,83,84,85,86,87,88,89,90,91,92,93,94,95,96,97,98,99,100,101,102,103,104,105,106,107,108,109,110,111,112,113,114,115,116,117,118,119,120,121,122,123,124,125,126,127,128,129,130,131,132,133,134,135,136,137,138,139,140,141,142,143,144,145,146,147,148,149,150,151,152,153,154,155,156,157,158,159,160,161,162,163,164,165,166,167,168,169,170,171,172,173,174,175,176,177,178,179,180,181,182,183,184,185,186,187,188,189,190,191,192,193,194,195,196,197,198,199,200,201,202,203,204,205,206,207,208,209,210,211,212,213,214,215,216,217,218,219,220,221,222,223,224,225,226,227,228,229,230,231,232,233,234,235,236,237,238,239,240,241,242,243,244,245,246,247,248,249,250,251,252,253,254,255,256,257,258,259,260,261,262,263,264,265,266,267,268,269,270,271,272,273,274,275,276,277,278,279,280,281,282,283,284,285,286,287,288,289,290,291,292,293,294,295,296,297,298,299,300,301,302,303,304,305,306,307,308,309) have mixed types. Specify dtype option on import or set low_memory=False.\n",
            "  df = pd.read_csv(\"/content/smartwatch_gestures.csv\")\n"
          ]
        }
      ]
    },
    {
      "cell_type": "markdown",
      "source": [
        "Display the first few rows to understand the structure."
      ],
      "metadata": {
        "id": "PsHG_F_qjVKg"
      }
    },
    {
      "cell_type": "code",
      "source": [
        "df.head()"
      ],
      "metadata": {
        "colab": {
          "base_uri": "https://localhost:8080/",
          "height": 256
        },
        "id": "IyC-3_0hjY3j",
        "outputId": "fa781abf-348e-43e3-a6ca-f41b316034bb"
      },
      "execution_count": null,
      "outputs": [
        {
          "output_type": "execute_result",
          "data": {
            "text/plain": [
              "      info       info.1   info.2      info.3            step01  \\\n",
              "0  gesture  participant  attempt   nano_span  features/accel_x   \n",
              "1        3            4        5  1099334717         -0.153229   \n",
              "2       15            4        7  1646362304          3.217807   \n",
              "3       19            3        8  2299163819          8.274362   \n",
              "4        3            8        8  1340087890          -8.42759   \n",
              "\n",
              "           step01.1          step01.2             step01.3  \\\n",
              "0  features/accel_y  features/accel_z  features/time_event   \n",
              "1          0.459687         10.266337       428417000000.0   \n",
              "2          0.612916          9.346964       764273000000.0   \n",
              "3               0.0          6.282385      6308546000000.0   \n",
              "4         -0.919373          5.363012      2042136000000.0   \n",
              "\n",
              "               step01.4             step01.5  ...          step50.2  \\\n",
              "0  features/time_millis  features/time_nanos  ...  features/accel_z   \n",
              "1       1384350600000.0    141699000000000.0  ...               0.0   \n",
              "2       1384510100000.0     35549205000000.0  ...               0.0   \n",
              "3       1384269200000.0    116132694000000.0  ...               0.0   \n",
              "4       1387383200000.0    599449100000000.0  ...               0.0   \n",
              "\n",
              "              step50.3              step50.4             step50.5  \\\n",
              "0  features/time_event  features/time_millis  features/time_nanos   \n",
              "1                  0.0                   0.0                  0.0   \n",
              "2                  0.0                   0.0                  0.0   \n",
              "3                  0.0                   0.0                  0.0   \n",
              "4                  0.0                   0.0                  0.0   \n",
              "\n",
              "             step51          step51.1          step51.2             step51.3  \\\n",
              "0  features/accel_x  features/accel_y  features/accel_z  features/time_event   \n",
              "1               0.0               0.0               0.0                  0.0   \n",
              "2               0.0               0.0               0.0                  0.0   \n",
              "3               0.0               0.0               0.0                  0.0   \n",
              "4               0.0               0.0               0.0                  0.0   \n",
              "\n",
              "               step51.4             step51.5  \n",
              "0  features/time_millis  features/time_nanos  \n",
              "1                   0.0                  0.0  \n",
              "2                   0.0                  0.0  \n",
              "3                   0.0                  0.0  \n",
              "4                   0.0                  0.0  \n",
              "\n",
              "[5 rows x 310 columns]"
            ],
            "text/html": [
              "\n",
              "  <div id=\"df-2e2ec099-0801-4f36-9d75-b9e666f0be10\" class=\"colab-df-container\">\n",
              "    <div>\n",
              "<style scoped>\n",
              "    .dataframe tbody tr th:only-of-type {\n",
              "        vertical-align: middle;\n",
              "    }\n",
              "\n",
              "    .dataframe tbody tr th {\n",
              "        vertical-align: top;\n",
              "    }\n",
              "\n",
              "    .dataframe thead th {\n",
              "        text-align: right;\n",
              "    }\n",
              "</style>\n",
              "<table border=\"1\" class=\"dataframe\">\n",
              "  <thead>\n",
              "    <tr style=\"text-align: right;\">\n",
              "      <th></th>\n",
              "      <th>info</th>\n",
              "      <th>info.1</th>\n",
              "      <th>info.2</th>\n",
              "      <th>info.3</th>\n",
              "      <th>step01</th>\n",
              "      <th>step01.1</th>\n",
              "      <th>step01.2</th>\n",
              "      <th>step01.3</th>\n",
              "      <th>step01.4</th>\n",
              "      <th>step01.5</th>\n",
              "      <th>...</th>\n",
              "      <th>step50.2</th>\n",
              "      <th>step50.3</th>\n",
              "      <th>step50.4</th>\n",
              "      <th>step50.5</th>\n",
              "      <th>step51</th>\n",
              "      <th>step51.1</th>\n",
              "      <th>step51.2</th>\n",
              "      <th>step51.3</th>\n",
              "      <th>step51.4</th>\n",
              "      <th>step51.5</th>\n",
              "    </tr>\n",
              "  </thead>\n",
              "  <tbody>\n",
              "    <tr>\n",
              "      <th>0</th>\n",
              "      <td>gesture</td>\n",
              "      <td>participant</td>\n",
              "      <td>attempt</td>\n",
              "      <td>nano_span</td>\n",
              "      <td>features/accel_x</td>\n",
              "      <td>features/accel_y</td>\n",
              "      <td>features/accel_z</td>\n",
              "      <td>features/time_event</td>\n",
              "      <td>features/time_millis</td>\n",
              "      <td>features/time_nanos</td>\n",
              "      <td>...</td>\n",
              "      <td>features/accel_z</td>\n",
              "      <td>features/time_event</td>\n",
              "      <td>features/time_millis</td>\n",
              "      <td>features/time_nanos</td>\n",
              "      <td>features/accel_x</td>\n",
              "      <td>features/accel_y</td>\n",
              "      <td>features/accel_z</td>\n",
              "      <td>features/time_event</td>\n",
              "      <td>features/time_millis</td>\n",
              "      <td>features/time_nanos</td>\n",
              "    </tr>\n",
              "    <tr>\n",
              "      <th>1</th>\n",
              "      <td>3</td>\n",
              "      <td>4</td>\n",
              "      <td>5</td>\n",
              "      <td>1099334717</td>\n",
              "      <td>-0.153229</td>\n",
              "      <td>0.459687</td>\n",
              "      <td>10.266337</td>\n",
              "      <td>428417000000.0</td>\n",
              "      <td>1384350600000.0</td>\n",
              "      <td>141699000000000.0</td>\n",
              "      <td>...</td>\n",
              "      <td>0.0</td>\n",
              "      <td>0.0</td>\n",
              "      <td>0.0</td>\n",
              "      <td>0.0</td>\n",
              "      <td>0.0</td>\n",
              "      <td>0.0</td>\n",
              "      <td>0.0</td>\n",
              "      <td>0.0</td>\n",
              "      <td>0.0</td>\n",
              "      <td>0.0</td>\n",
              "    </tr>\n",
              "    <tr>\n",
              "      <th>2</th>\n",
              "      <td>15</td>\n",
              "      <td>4</td>\n",
              "      <td>7</td>\n",
              "      <td>1646362304</td>\n",
              "      <td>3.217807</td>\n",
              "      <td>0.612916</td>\n",
              "      <td>9.346964</td>\n",
              "      <td>764273000000.0</td>\n",
              "      <td>1384510100000.0</td>\n",
              "      <td>35549205000000.0</td>\n",
              "      <td>...</td>\n",
              "      <td>0.0</td>\n",
              "      <td>0.0</td>\n",
              "      <td>0.0</td>\n",
              "      <td>0.0</td>\n",
              "      <td>0.0</td>\n",
              "      <td>0.0</td>\n",
              "      <td>0.0</td>\n",
              "      <td>0.0</td>\n",
              "      <td>0.0</td>\n",
              "      <td>0.0</td>\n",
              "    </tr>\n",
              "    <tr>\n",
              "      <th>3</th>\n",
              "      <td>19</td>\n",
              "      <td>3</td>\n",
              "      <td>8</td>\n",
              "      <td>2299163819</td>\n",
              "      <td>8.274362</td>\n",
              "      <td>0.0</td>\n",
              "      <td>6.282385</td>\n",
              "      <td>6308546000000.0</td>\n",
              "      <td>1384269200000.0</td>\n",
              "      <td>116132694000000.0</td>\n",
              "      <td>...</td>\n",
              "      <td>0.0</td>\n",
              "      <td>0.0</td>\n",
              "      <td>0.0</td>\n",
              "      <td>0.0</td>\n",
              "      <td>0.0</td>\n",
              "      <td>0.0</td>\n",
              "      <td>0.0</td>\n",
              "      <td>0.0</td>\n",
              "      <td>0.0</td>\n",
              "      <td>0.0</td>\n",
              "    </tr>\n",
              "    <tr>\n",
              "      <th>4</th>\n",
              "      <td>3</td>\n",
              "      <td>8</td>\n",
              "      <td>8</td>\n",
              "      <td>1340087890</td>\n",
              "      <td>-8.42759</td>\n",
              "      <td>-0.919373</td>\n",
              "      <td>5.363012</td>\n",
              "      <td>2042136000000.0</td>\n",
              "      <td>1387383200000.0</td>\n",
              "      <td>599449100000000.0</td>\n",
              "      <td>...</td>\n",
              "      <td>0.0</td>\n",
              "      <td>0.0</td>\n",
              "      <td>0.0</td>\n",
              "      <td>0.0</td>\n",
              "      <td>0.0</td>\n",
              "      <td>0.0</td>\n",
              "      <td>0.0</td>\n",
              "      <td>0.0</td>\n",
              "      <td>0.0</td>\n",
              "      <td>0.0</td>\n",
              "    </tr>\n",
              "  </tbody>\n",
              "</table>\n",
              "<p>5 rows × 310 columns</p>\n",
              "</div>\n",
              "    <div class=\"colab-df-buttons\">\n",
              "\n",
              "  <div class=\"colab-df-container\">\n",
              "    <button class=\"colab-df-convert\" onclick=\"convertToInteractive('df-2e2ec099-0801-4f36-9d75-b9e666f0be10')\"\n",
              "            title=\"Convert this dataframe to an interactive table.\"\n",
              "            style=\"display:none;\">\n",
              "\n",
              "  <svg xmlns=\"http://www.w3.org/2000/svg\" height=\"24px\" viewBox=\"0 -960 960 960\">\n",
              "    <path d=\"M120-120v-720h720v720H120Zm60-500h600v-160H180v160Zm220 220h160v-160H400v160Zm0 220h160v-160H400v160ZM180-400h160v-160H180v160Zm440 0h160v-160H620v160ZM180-180h160v-160H180v160Zm440 0h160v-160H620v160Z\"/>\n",
              "  </svg>\n",
              "    </button>\n",
              "\n",
              "  <style>\n",
              "    .colab-df-container {\n",
              "      display:flex;\n",
              "      gap: 12px;\n",
              "    }\n",
              "\n",
              "    .colab-df-convert {\n",
              "      background-color: #E8F0FE;\n",
              "      border: none;\n",
              "      border-radius: 50%;\n",
              "      cursor: pointer;\n",
              "      display: none;\n",
              "      fill: #1967D2;\n",
              "      height: 32px;\n",
              "      padding: 0 0 0 0;\n",
              "      width: 32px;\n",
              "    }\n",
              "\n",
              "    .colab-df-convert:hover {\n",
              "      background-color: #E2EBFA;\n",
              "      box-shadow: 0px 1px 2px rgba(60, 64, 67, 0.3), 0px 1px 3px 1px rgba(60, 64, 67, 0.15);\n",
              "      fill: #174EA6;\n",
              "    }\n",
              "\n",
              "    .colab-df-buttons div {\n",
              "      margin-bottom: 4px;\n",
              "    }\n",
              "\n",
              "    [theme=dark] .colab-df-convert {\n",
              "      background-color: #3B4455;\n",
              "      fill: #D2E3FC;\n",
              "    }\n",
              "\n",
              "    [theme=dark] .colab-df-convert:hover {\n",
              "      background-color: #434B5C;\n",
              "      box-shadow: 0px 1px 3px 1px rgba(0, 0, 0, 0.15);\n",
              "      filter: drop-shadow(0px 1px 2px rgba(0, 0, 0, 0.3));\n",
              "      fill: #FFFFFF;\n",
              "    }\n",
              "  </style>\n",
              "\n",
              "    <script>\n",
              "      const buttonEl =\n",
              "        document.querySelector('#df-2e2ec099-0801-4f36-9d75-b9e666f0be10 button.colab-df-convert');\n",
              "      buttonEl.style.display =\n",
              "        google.colab.kernel.accessAllowed ? 'block' : 'none';\n",
              "\n",
              "      async function convertToInteractive(key) {\n",
              "        const element = document.querySelector('#df-2e2ec099-0801-4f36-9d75-b9e666f0be10');\n",
              "        const dataTable =\n",
              "          await google.colab.kernel.invokeFunction('convertToInteractive',\n",
              "                                                    [key], {});\n",
              "        if (!dataTable) return;\n",
              "\n",
              "        const docLinkHtml = 'Like what you see? Visit the ' +\n",
              "          '<a target=\"_blank\" href=https://colab.research.google.com/notebooks/data_table.ipynb>data table notebook</a>'\n",
              "          + ' to learn more about interactive tables.';\n",
              "        element.innerHTML = '';\n",
              "        dataTable['output_type'] = 'display_data';\n",
              "        await google.colab.output.renderOutput(dataTable, element);\n",
              "        const docLink = document.createElement('div');\n",
              "        docLink.innerHTML = docLinkHtml;\n",
              "        element.appendChild(docLink);\n",
              "      }\n",
              "    </script>\n",
              "  </div>\n",
              "\n",
              "\n",
              "<div id=\"df-92a3e7b7-5e83-4849-8a15-19c2c217df58\">\n",
              "  <button class=\"colab-df-quickchart\" onclick=\"quickchart('df-92a3e7b7-5e83-4849-8a15-19c2c217df58')\"\n",
              "            title=\"Suggest charts\"\n",
              "            style=\"display:none;\">\n",
              "\n",
              "<svg xmlns=\"http://www.w3.org/2000/svg\" height=\"24px\"viewBox=\"0 0 24 24\"\n",
              "     width=\"24px\">\n",
              "    <g>\n",
              "        <path d=\"M19 3H5c-1.1 0-2 .9-2 2v14c0 1.1.9 2 2 2h14c1.1 0 2-.9 2-2V5c0-1.1-.9-2-2-2zM9 17H7v-7h2v7zm4 0h-2V7h2v10zm4 0h-2v-4h2v4z\"/>\n",
              "    </g>\n",
              "</svg>\n",
              "  </button>\n",
              "\n",
              "<style>\n",
              "  .colab-df-quickchart {\n",
              "      --bg-color: #E8F0FE;\n",
              "      --fill-color: #1967D2;\n",
              "      --hover-bg-color: #E2EBFA;\n",
              "      --hover-fill-color: #174EA6;\n",
              "      --disabled-fill-color: #AAA;\n",
              "      --disabled-bg-color: #DDD;\n",
              "  }\n",
              "\n",
              "  [theme=dark] .colab-df-quickchart {\n",
              "      --bg-color: #3B4455;\n",
              "      --fill-color: #D2E3FC;\n",
              "      --hover-bg-color: #434B5C;\n",
              "      --hover-fill-color: #FFFFFF;\n",
              "      --disabled-bg-color: #3B4455;\n",
              "      --disabled-fill-color: #666;\n",
              "  }\n",
              "\n",
              "  .colab-df-quickchart {\n",
              "    background-color: var(--bg-color);\n",
              "    border: none;\n",
              "    border-radius: 50%;\n",
              "    cursor: pointer;\n",
              "    display: none;\n",
              "    fill: var(--fill-color);\n",
              "    height: 32px;\n",
              "    padding: 0;\n",
              "    width: 32px;\n",
              "  }\n",
              "\n",
              "  .colab-df-quickchart:hover {\n",
              "    background-color: var(--hover-bg-color);\n",
              "    box-shadow: 0 1px 2px rgba(60, 64, 67, 0.3), 0 1px 3px 1px rgba(60, 64, 67, 0.15);\n",
              "    fill: var(--button-hover-fill-color);\n",
              "  }\n",
              "\n",
              "  .colab-df-quickchart-complete:disabled,\n",
              "  .colab-df-quickchart-complete:disabled:hover {\n",
              "    background-color: var(--disabled-bg-color);\n",
              "    fill: var(--disabled-fill-color);\n",
              "    box-shadow: none;\n",
              "  }\n",
              "\n",
              "  .colab-df-spinner {\n",
              "    border: 2px solid var(--fill-color);\n",
              "    border-color: transparent;\n",
              "    border-bottom-color: var(--fill-color);\n",
              "    animation:\n",
              "      spin 1s steps(1) infinite;\n",
              "  }\n",
              "\n",
              "  @keyframes spin {\n",
              "    0% {\n",
              "      border-color: transparent;\n",
              "      border-bottom-color: var(--fill-color);\n",
              "      border-left-color: var(--fill-color);\n",
              "    }\n",
              "    20% {\n",
              "      border-color: transparent;\n",
              "      border-left-color: var(--fill-color);\n",
              "      border-top-color: var(--fill-color);\n",
              "    }\n",
              "    30% {\n",
              "      border-color: transparent;\n",
              "      border-left-color: var(--fill-color);\n",
              "      border-top-color: var(--fill-color);\n",
              "      border-right-color: var(--fill-color);\n",
              "    }\n",
              "    40% {\n",
              "      border-color: transparent;\n",
              "      border-right-color: var(--fill-color);\n",
              "      border-top-color: var(--fill-color);\n",
              "    }\n",
              "    60% {\n",
              "      border-color: transparent;\n",
              "      border-right-color: var(--fill-color);\n",
              "    }\n",
              "    80% {\n",
              "      border-color: transparent;\n",
              "      border-right-color: var(--fill-color);\n",
              "      border-bottom-color: var(--fill-color);\n",
              "    }\n",
              "    90% {\n",
              "      border-color: transparent;\n",
              "      border-bottom-color: var(--fill-color);\n",
              "    }\n",
              "  }\n",
              "</style>\n",
              "\n",
              "  <script>\n",
              "    async function quickchart(key) {\n",
              "      const quickchartButtonEl =\n",
              "        document.querySelector('#' + key + ' button');\n",
              "      quickchartButtonEl.disabled = true;  // To prevent multiple clicks.\n",
              "      quickchartButtonEl.classList.add('colab-df-spinner');\n",
              "      try {\n",
              "        const charts = await google.colab.kernel.invokeFunction(\n",
              "            'suggestCharts', [key], {});\n",
              "      } catch (error) {\n",
              "        console.error('Error during call to suggestCharts:', error);\n",
              "      }\n",
              "      quickchartButtonEl.classList.remove('colab-df-spinner');\n",
              "      quickchartButtonEl.classList.add('colab-df-quickchart-complete');\n",
              "    }\n",
              "    (() => {\n",
              "      let quickchartButtonEl =\n",
              "        document.querySelector('#df-92a3e7b7-5e83-4849-8a15-19c2c217df58 button');\n",
              "      quickchartButtonEl.style.display =\n",
              "        google.colab.kernel.accessAllowed ? 'block' : 'none';\n",
              "    })();\n",
              "  </script>\n",
              "</div>\n",
              "    </div>\n",
              "  </div>\n"
            ],
            "application/vnd.google.colaboratory.intrinsic+json": {
              "type": "dataframe",
              "variable_name": "df"
            }
          },
          "metadata": {},
          "execution_count": 40
        }
      ]
    },
    {
      "cell_type": "markdown",
      "source": [
        "Inspect the data"
      ],
      "metadata": {
        "id": "muoQLqFfHQU-"
      }
    },
    {
      "cell_type": "code",
      "source": [
        "df.info()"
      ],
      "metadata": {
        "colab": {
          "base_uri": "https://localhost:8080/"
        },
        "id": "hpnF8fndHSD6",
        "outputId": "87b784eb-555b-414c-d329-3caff9998bec"
      },
      "execution_count": null,
      "outputs": [
        {
          "output_type": "stream",
          "name": "stdout",
          "text": [
            "<class 'pandas.core.frame.DataFrame'>\n",
            "RangeIndex: 3252 entries, 0 to 3251\n",
            "Columns: 310 entries, info to step51.5\n",
            "dtypes: object(310)\n",
            "memory usage: 7.7+ MB\n"
          ]
        }
      ]
    },
    {
      "cell_type": "markdown",
      "source": [
        "The output is like a quick snapshot of a big table made with Pandas. The table has 3,251 rows and 310 columns. Every piece of information in the table is stored as text or a mix of numbers and text, and the whole thing takes up just under 8 megabytes on the computer.\n",
        "\n",
        "Before proceeding with data analysis or modeling, we need to clean and preprocess the data, including converting strings to numbers where applicable and handling missing values."
      ],
      "metadata": {
        "id": "fTFP17yRIxsS"
      }
    },
    {
      "cell_type": "markdown",
      "source": [
        "###Data Cleaning"
      ],
      "metadata": {
        "id": "SKQ6MgfD5fAm"
      }
    },
    {
      "cell_type": "markdown",
      "source": [
        "The first row after the header seems to contain meta descriptions for the columns, so we should adjust the dataframe to use this row for column names and then drop it from the data."
      ],
      "metadata": {
        "id": "SXcBZZX5hiBX"
      }
    },
    {
      "cell_type": "code",
      "source": [
        "# Load the dataset without using the first row as headers\n",
        "file_path = \"/content/smartwatch_gestures.csv\"\n",
        "df = pd.read_csv(file_path, header=None)\n",
        "\n",
        "# Combine the original header row with the first row of data to create new column names\n",
        "new_headers = [f\"{header}_{additional_info}\" if additional_info else f\"{header}\"\n",
        "               for header, additional_info in zip(df.iloc[0], df.iloc[1])]\n",
        "\n",
        "# Assign these new column names to the DataFrame\n",
        "df.columns = new_headers\n",
        "\n",
        "# Drop the first two rows (original header and the row used for merging) and reset index\n",
        "df = df.drop([0, 1]).reset_index(drop=True)\n",
        "\n",
        "# Display the first few rows to confirm the changes\n",
        "df.head()"
      ],
      "metadata": {
        "id": "-gisjV6ehmjz",
        "colab": {
          "base_uri": "https://localhost:8080/",
          "height": 291
        },
        "outputId": "c2d4cc5d-4de5-47b0-85bf-50cf9cba6d18"
      },
      "execution_count": null,
      "outputs": [
        {
          "output_type": "stream",
          "name": "stderr",
          "text": [
            "<ipython-input-42-8d75f84630b9>:3: DtypeWarning: Columns (0,1,2,3,4,5,6,7,8,9,10,11,12,13,14,15,16,17,18,19,20,21,22,23,24,25,26,27,28,29,30,31,32,33,34,35,36,37,38,39,40,41,42,43,44,45,46,47,48,49,50,51,52,53,54,55,56,57,58,59,60,61,62,63,64,65,66,67,68,69,70,71,72,73,74,75,76,77,78,79,80,81,82,83,84,85,86,87,88,89,90,91,92,93,94,95,96,97,98,99,100,101,102,103,104,105,106,107,108,109,110,111,112,113,114,115,116,117,118,119,120,121,122,123,124,125,126,127,128,129,130,131,132,133,134,135,136,137,138,139,140,141,142,143,144,145,146,147,148,149,150,151,152,153,154,155,156,157,158,159,160,161,162,163,164,165,166,167,168,169,170,171,172,173,174,175,176,177,178,179,180,181,182,183,184,185,186,187,188,189,190,191,192,193,194,195,196,197,198,199,200,201,202,203,204,205,206,207,208,209,210,211,212,213,214,215,216,217,218,219,220,221,222,223,224,225,226,227,228,229,230,231,232,233,234,235,236,237,238,239,240,241,242,243,244,245,246,247,248,249,250,251,252,253,254,255,256,257,258,259,260,261,262,263,264,265,266,267,268,269,270,271,272,273,274,275,276,277,278,279,280,281,282,283,284,285,286,287,288,289,290,291,292,293,294,295,296,297,298,299,300,301,302,303,304,305,306,307,308,309) have mixed types. Specify dtype option on import or set low_memory=False.\n",
            "  df = pd.read_csv(file_path, header=None)\n"
          ]
        },
        {
          "output_type": "execute_result",
          "data": {
            "text/plain": [
              "  info_gesture info_participant info_attempt info_nano_span  \\\n",
              "0            3                4            5     1099334717   \n",
              "1           15                4            7     1646362304   \n",
              "2           19                3            8     2299163819   \n",
              "3            3                8            8     1340087890   \n",
              "4           16                7           10     2091003418   \n",
              "\n",
              "  step01_features/accel_x step01_features/accel_y step01_features/accel_z  \\\n",
              "0               -0.153229                0.459687               10.266337   \n",
              "1                3.217807                0.612916                9.346964   \n",
              "2                8.274362                     0.0                6.282385   \n",
              "3                -8.42759               -0.919373                5.363012   \n",
              "4               -2.604892                3.064578                9.040505   \n",
              "\n",
              "  step01_features/time_event step01_features/time_millis  \\\n",
              "0             428417000000.0             1384350600000.0   \n",
              "1             764273000000.0             1384510100000.0   \n",
              "2            6308546000000.0             1384269200000.0   \n",
              "3            2042136000000.0             1387383200000.0   \n",
              "4            3529643000000.0             1387384800000.0   \n",
              "\n",
              "  step01_features/time_nanos  ... step50_features/accel_z  \\\n",
              "0          141699000000000.0  ...                     0.0   \n",
              "1           35549205000000.0  ...                     0.0   \n",
              "2          116132694000000.0  ...                     0.0   \n",
              "3          599449100000000.0  ...                     0.0   \n",
              "4          601102000000000.0  ...                     0.0   \n",
              "\n",
              "  step50_features/time_event step50_features/time_millis  \\\n",
              "0                        0.0                         0.0   \n",
              "1                        0.0                         0.0   \n",
              "2                        0.0                         0.0   \n",
              "3                        0.0                         0.0   \n",
              "4                        0.0                         0.0   \n",
              "\n",
              "  step50_features/time_nanos step51_features/accel_x step51_features/accel_y  \\\n",
              "0                        0.0                     0.0                     0.0   \n",
              "1                        0.0                     0.0                     0.0   \n",
              "2                        0.0                     0.0                     0.0   \n",
              "3                        0.0                     0.0                     0.0   \n",
              "4                        0.0                     0.0                     0.0   \n",
              "\n",
              "  step51_features/accel_z step51_features/time_event  \\\n",
              "0                     0.0                        0.0   \n",
              "1                     0.0                        0.0   \n",
              "2                     0.0                        0.0   \n",
              "3                     0.0                        0.0   \n",
              "4                     0.0                        0.0   \n",
              "\n",
              "  step51_features/time_millis step51_features/time_nanos  \n",
              "0                         0.0                        0.0  \n",
              "1                         0.0                        0.0  \n",
              "2                         0.0                        0.0  \n",
              "3                         0.0                        0.0  \n",
              "4                         0.0                        0.0  \n",
              "\n",
              "[5 rows x 310 columns]"
            ],
            "text/html": [
              "\n",
              "  <div id=\"df-86a4d192-5def-469d-ae6c-7edf27692ab0\" class=\"colab-df-container\">\n",
              "    <div>\n",
              "<style scoped>\n",
              "    .dataframe tbody tr th:only-of-type {\n",
              "        vertical-align: middle;\n",
              "    }\n",
              "\n",
              "    .dataframe tbody tr th {\n",
              "        vertical-align: top;\n",
              "    }\n",
              "\n",
              "    .dataframe thead th {\n",
              "        text-align: right;\n",
              "    }\n",
              "</style>\n",
              "<table border=\"1\" class=\"dataframe\">\n",
              "  <thead>\n",
              "    <tr style=\"text-align: right;\">\n",
              "      <th></th>\n",
              "      <th>info_gesture</th>\n",
              "      <th>info_participant</th>\n",
              "      <th>info_attempt</th>\n",
              "      <th>info_nano_span</th>\n",
              "      <th>step01_features/accel_x</th>\n",
              "      <th>step01_features/accel_y</th>\n",
              "      <th>step01_features/accel_z</th>\n",
              "      <th>step01_features/time_event</th>\n",
              "      <th>step01_features/time_millis</th>\n",
              "      <th>step01_features/time_nanos</th>\n",
              "      <th>...</th>\n",
              "      <th>step50_features/accel_z</th>\n",
              "      <th>step50_features/time_event</th>\n",
              "      <th>step50_features/time_millis</th>\n",
              "      <th>step50_features/time_nanos</th>\n",
              "      <th>step51_features/accel_x</th>\n",
              "      <th>step51_features/accel_y</th>\n",
              "      <th>step51_features/accel_z</th>\n",
              "      <th>step51_features/time_event</th>\n",
              "      <th>step51_features/time_millis</th>\n",
              "      <th>step51_features/time_nanos</th>\n",
              "    </tr>\n",
              "  </thead>\n",
              "  <tbody>\n",
              "    <tr>\n",
              "      <th>0</th>\n",
              "      <td>3</td>\n",
              "      <td>4</td>\n",
              "      <td>5</td>\n",
              "      <td>1099334717</td>\n",
              "      <td>-0.153229</td>\n",
              "      <td>0.459687</td>\n",
              "      <td>10.266337</td>\n",
              "      <td>428417000000.0</td>\n",
              "      <td>1384350600000.0</td>\n",
              "      <td>141699000000000.0</td>\n",
              "      <td>...</td>\n",
              "      <td>0.0</td>\n",
              "      <td>0.0</td>\n",
              "      <td>0.0</td>\n",
              "      <td>0.0</td>\n",
              "      <td>0.0</td>\n",
              "      <td>0.0</td>\n",
              "      <td>0.0</td>\n",
              "      <td>0.0</td>\n",
              "      <td>0.0</td>\n",
              "      <td>0.0</td>\n",
              "    </tr>\n",
              "    <tr>\n",
              "      <th>1</th>\n",
              "      <td>15</td>\n",
              "      <td>4</td>\n",
              "      <td>7</td>\n",
              "      <td>1646362304</td>\n",
              "      <td>3.217807</td>\n",
              "      <td>0.612916</td>\n",
              "      <td>9.346964</td>\n",
              "      <td>764273000000.0</td>\n",
              "      <td>1384510100000.0</td>\n",
              "      <td>35549205000000.0</td>\n",
              "      <td>...</td>\n",
              "      <td>0.0</td>\n",
              "      <td>0.0</td>\n",
              "      <td>0.0</td>\n",
              "      <td>0.0</td>\n",
              "      <td>0.0</td>\n",
              "      <td>0.0</td>\n",
              "      <td>0.0</td>\n",
              "      <td>0.0</td>\n",
              "      <td>0.0</td>\n",
              "      <td>0.0</td>\n",
              "    </tr>\n",
              "    <tr>\n",
              "      <th>2</th>\n",
              "      <td>19</td>\n",
              "      <td>3</td>\n",
              "      <td>8</td>\n",
              "      <td>2299163819</td>\n",
              "      <td>8.274362</td>\n",
              "      <td>0.0</td>\n",
              "      <td>6.282385</td>\n",
              "      <td>6308546000000.0</td>\n",
              "      <td>1384269200000.0</td>\n",
              "      <td>116132694000000.0</td>\n",
              "      <td>...</td>\n",
              "      <td>0.0</td>\n",
              "      <td>0.0</td>\n",
              "      <td>0.0</td>\n",
              "      <td>0.0</td>\n",
              "      <td>0.0</td>\n",
              "      <td>0.0</td>\n",
              "      <td>0.0</td>\n",
              "      <td>0.0</td>\n",
              "      <td>0.0</td>\n",
              "      <td>0.0</td>\n",
              "    </tr>\n",
              "    <tr>\n",
              "      <th>3</th>\n",
              "      <td>3</td>\n",
              "      <td>8</td>\n",
              "      <td>8</td>\n",
              "      <td>1340087890</td>\n",
              "      <td>-8.42759</td>\n",
              "      <td>-0.919373</td>\n",
              "      <td>5.363012</td>\n",
              "      <td>2042136000000.0</td>\n",
              "      <td>1387383200000.0</td>\n",
              "      <td>599449100000000.0</td>\n",
              "      <td>...</td>\n",
              "      <td>0.0</td>\n",
              "      <td>0.0</td>\n",
              "      <td>0.0</td>\n",
              "      <td>0.0</td>\n",
              "      <td>0.0</td>\n",
              "      <td>0.0</td>\n",
              "      <td>0.0</td>\n",
              "      <td>0.0</td>\n",
              "      <td>0.0</td>\n",
              "      <td>0.0</td>\n",
              "    </tr>\n",
              "    <tr>\n",
              "      <th>4</th>\n",
              "      <td>16</td>\n",
              "      <td>7</td>\n",
              "      <td>10</td>\n",
              "      <td>2091003418</td>\n",
              "      <td>-2.604892</td>\n",
              "      <td>3.064578</td>\n",
              "      <td>9.040505</td>\n",
              "      <td>3529643000000.0</td>\n",
              "      <td>1387384800000.0</td>\n",
              "      <td>601102000000000.0</td>\n",
              "      <td>...</td>\n",
              "      <td>0.0</td>\n",
              "      <td>0.0</td>\n",
              "      <td>0.0</td>\n",
              "      <td>0.0</td>\n",
              "      <td>0.0</td>\n",
              "      <td>0.0</td>\n",
              "      <td>0.0</td>\n",
              "      <td>0.0</td>\n",
              "      <td>0.0</td>\n",
              "      <td>0.0</td>\n",
              "    </tr>\n",
              "  </tbody>\n",
              "</table>\n",
              "<p>5 rows × 310 columns</p>\n",
              "</div>\n",
              "    <div class=\"colab-df-buttons\">\n",
              "\n",
              "  <div class=\"colab-df-container\">\n",
              "    <button class=\"colab-df-convert\" onclick=\"convertToInteractive('df-86a4d192-5def-469d-ae6c-7edf27692ab0')\"\n",
              "            title=\"Convert this dataframe to an interactive table.\"\n",
              "            style=\"display:none;\">\n",
              "\n",
              "  <svg xmlns=\"http://www.w3.org/2000/svg\" height=\"24px\" viewBox=\"0 -960 960 960\">\n",
              "    <path d=\"M120-120v-720h720v720H120Zm60-500h600v-160H180v160Zm220 220h160v-160H400v160Zm0 220h160v-160H400v160ZM180-400h160v-160H180v160Zm440 0h160v-160H620v160ZM180-180h160v-160H180v160Zm440 0h160v-160H620v160Z\"/>\n",
              "  </svg>\n",
              "    </button>\n",
              "\n",
              "  <style>\n",
              "    .colab-df-container {\n",
              "      display:flex;\n",
              "      gap: 12px;\n",
              "    }\n",
              "\n",
              "    .colab-df-convert {\n",
              "      background-color: #E8F0FE;\n",
              "      border: none;\n",
              "      border-radius: 50%;\n",
              "      cursor: pointer;\n",
              "      display: none;\n",
              "      fill: #1967D2;\n",
              "      height: 32px;\n",
              "      padding: 0 0 0 0;\n",
              "      width: 32px;\n",
              "    }\n",
              "\n",
              "    .colab-df-convert:hover {\n",
              "      background-color: #E2EBFA;\n",
              "      box-shadow: 0px 1px 2px rgba(60, 64, 67, 0.3), 0px 1px 3px 1px rgba(60, 64, 67, 0.15);\n",
              "      fill: #174EA6;\n",
              "    }\n",
              "\n",
              "    .colab-df-buttons div {\n",
              "      margin-bottom: 4px;\n",
              "    }\n",
              "\n",
              "    [theme=dark] .colab-df-convert {\n",
              "      background-color: #3B4455;\n",
              "      fill: #D2E3FC;\n",
              "    }\n",
              "\n",
              "    [theme=dark] .colab-df-convert:hover {\n",
              "      background-color: #434B5C;\n",
              "      box-shadow: 0px 1px 3px 1px rgba(0, 0, 0, 0.15);\n",
              "      filter: drop-shadow(0px 1px 2px rgba(0, 0, 0, 0.3));\n",
              "      fill: #FFFFFF;\n",
              "    }\n",
              "  </style>\n",
              "\n",
              "    <script>\n",
              "      const buttonEl =\n",
              "        document.querySelector('#df-86a4d192-5def-469d-ae6c-7edf27692ab0 button.colab-df-convert');\n",
              "      buttonEl.style.display =\n",
              "        google.colab.kernel.accessAllowed ? 'block' : 'none';\n",
              "\n",
              "      async function convertToInteractive(key) {\n",
              "        const element = document.querySelector('#df-86a4d192-5def-469d-ae6c-7edf27692ab0');\n",
              "        const dataTable =\n",
              "          await google.colab.kernel.invokeFunction('convertToInteractive',\n",
              "                                                    [key], {});\n",
              "        if (!dataTable) return;\n",
              "\n",
              "        const docLinkHtml = 'Like what you see? Visit the ' +\n",
              "          '<a target=\"_blank\" href=https://colab.research.google.com/notebooks/data_table.ipynb>data table notebook</a>'\n",
              "          + ' to learn more about interactive tables.';\n",
              "        element.innerHTML = '';\n",
              "        dataTable['output_type'] = 'display_data';\n",
              "        await google.colab.output.renderOutput(dataTable, element);\n",
              "        const docLink = document.createElement('div');\n",
              "        docLink.innerHTML = docLinkHtml;\n",
              "        element.appendChild(docLink);\n",
              "      }\n",
              "    </script>\n",
              "  </div>\n",
              "\n",
              "\n",
              "<div id=\"df-1eb7ceaf-ae1c-4839-a38d-d1887a0cdd5f\">\n",
              "  <button class=\"colab-df-quickchart\" onclick=\"quickchart('df-1eb7ceaf-ae1c-4839-a38d-d1887a0cdd5f')\"\n",
              "            title=\"Suggest charts\"\n",
              "            style=\"display:none;\">\n",
              "\n",
              "<svg xmlns=\"http://www.w3.org/2000/svg\" height=\"24px\"viewBox=\"0 0 24 24\"\n",
              "     width=\"24px\">\n",
              "    <g>\n",
              "        <path d=\"M19 3H5c-1.1 0-2 .9-2 2v14c0 1.1.9 2 2 2h14c1.1 0 2-.9 2-2V5c0-1.1-.9-2-2-2zM9 17H7v-7h2v7zm4 0h-2V7h2v10zm4 0h-2v-4h2v4z\"/>\n",
              "    </g>\n",
              "</svg>\n",
              "  </button>\n",
              "\n",
              "<style>\n",
              "  .colab-df-quickchart {\n",
              "      --bg-color: #E8F0FE;\n",
              "      --fill-color: #1967D2;\n",
              "      --hover-bg-color: #E2EBFA;\n",
              "      --hover-fill-color: #174EA6;\n",
              "      --disabled-fill-color: #AAA;\n",
              "      --disabled-bg-color: #DDD;\n",
              "  }\n",
              "\n",
              "  [theme=dark] .colab-df-quickchart {\n",
              "      --bg-color: #3B4455;\n",
              "      --fill-color: #D2E3FC;\n",
              "      --hover-bg-color: #434B5C;\n",
              "      --hover-fill-color: #FFFFFF;\n",
              "      --disabled-bg-color: #3B4455;\n",
              "      --disabled-fill-color: #666;\n",
              "  }\n",
              "\n",
              "  .colab-df-quickchart {\n",
              "    background-color: var(--bg-color);\n",
              "    border: none;\n",
              "    border-radius: 50%;\n",
              "    cursor: pointer;\n",
              "    display: none;\n",
              "    fill: var(--fill-color);\n",
              "    height: 32px;\n",
              "    padding: 0;\n",
              "    width: 32px;\n",
              "  }\n",
              "\n",
              "  .colab-df-quickchart:hover {\n",
              "    background-color: var(--hover-bg-color);\n",
              "    box-shadow: 0 1px 2px rgba(60, 64, 67, 0.3), 0 1px 3px 1px rgba(60, 64, 67, 0.15);\n",
              "    fill: var(--button-hover-fill-color);\n",
              "  }\n",
              "\n",
              "  .colab-df-quickchart-complete:disabled,\n",
              "  .colab-df-quickchart-complete:disabled:hover {\n",
              "    background-color: var(--disabled-bg-color);\n",
              "    fill: var(--disabled-fill-color);\n",
              "    box-shadow: none;\n",
              "  }\n",
              "\n",
              "  .colab-df-spinner {\n",
              "    border: 2px solid var(--fill-color);\n",
              "    border-color: transparent;\n",
              "    border-bottom-color: var(--fill-color);\n",
              "    animation:\n",
              "      spin 1s steps(1) infinite;\n",
              "  }\n",
              "\n",
              "  @keyframes spin {\n",
              "    0% {\n",
              "      border-color: transparent;\n",
              "      border-bottom-color: var(--fill-color);\n",
              "      border-left-color: var(--fill-color);\n",
              "    }\n",
              "    20% {\n",
              "      border-color: transparent;\n",
              "      border-left-color: var(--fill-color);\n",
              "      border-top-color: var(--fill-color);\n",
              "    }\n",
              "    30% {\n",
              "      border-color: transparent;\n",
              "      border-left-color: var(--fill-color);\n",
              "      border-top-color: var(--fill-color);\n",
              "      border-right-color: var(--fill-color);\n",
              "    }\n",
              "    40% {\n",
              "      border-color: transparent;\n",
              "      border-right-color: var(--fill-color);\n",
              "      border-top-color: var(--fill-color);\n",
              "    }\n",
              "    60% {\n",
              "      border-color: transparent;\n",
              "      border-right-color: var(--fill-color);\n",
              "    }\n",
              "    80% {\n",
              "      border-color: transparent;\n",
              "      border-right-color: var(--fill-color);\n",
              "      border-bottom-color: var(--fill-color);\n",
              "    }\n",
              "    90% {\n",
              "      border-color: transparent;\n",
              "      border-bottom-color: var(--fill-color);\n",
              "    }\n",
              "  }\n",
              "</style>\n",
              "\n",
              "  <script>\n",
              "    async function quickchart(key) {\n",
              "      const quickchartButtonEl =\n",
              "        document.querySelector('#' + key + ' button');\n",
              "      quickchartButtonEl.disabled = true;  // To prevent multiple clicks.\n",
              "      quickchartButtonEl.classList.add('colab-df-spinner');\n",
              "      try {\n",
              "        const charts = await google.colab.kernel.invokeFunction(\n",
              "            'suggestCharts', [key], {});\n",
              "      } catch (error) {\n",
              "        console.error('Error during call to suggestCharts:', error);\n",
              "      }\n",
              "      quickchartButtonEl.classList.remove('colab-df-spinner');\n",
              "      quickchartButtonEl.classList.add('colab-df-quickchart-complete');\n",
              "    }\n",
              "    (() => {\n",
              "      let quickchartButtonEl =\n",
              "        document.querySelector('#df-1eb7ceaf-ae1c-4839-a38d-d1887a0cdd5f button');\n",
              "      quickchartButtonEl.style.display =\n",
              "        google.colab.kernel.accessAllowed ? 'block' : 'none';\n",
              "    })();\n",
              "  </script>\n",
              "</div>\n",
              "    </div>\n",
              "  </div>\n"
            ],
            "application/vnd.google.colaboratory.intrinsic+json": {
              "type": "dataframe",
              "variable_name": "df"
            }
          },
          "metadata": {},
          "execution_count": 42
        }
      ]
    },
    {
      "cell_type": "code",
      "source": [
        "# Load the dataset without using the first row as headers\n",
        "file_path = \"/content/smartwatch_gestures.csv\"\n",
        "df = pd.read_csv(file_path, header=None)\n",
        "\n",
        "# Combine the original header row with the first row of data to create new column names\n",
        "df.columns = [f\"{h}_{d}\" if d else f\"{h}\" for h, d in zip(df.iloc[0], df.iloc[1])]\n",
        "\n",
        "# Drop the first two rows (original header and the row used for merging) and reset index\n",
        "df.drop(index=[0, 1], inplace=True)\n",
        "df.reset_index(drop=True, inplace=True)\n",
        "\n",
        "# Display the first few rows to confirm the changes\n",
        "df.head()"
      ],
      "metadata": {
        "colab": {
          "base_uri": "https://localhost:8080/",
          "height": 291
        },
        "id": "jIkHpJDxcB_2",
        "outputId": "3f8cbbe7-61c5-4485-96cd-f9fefe9b7a38"
      },
      "execution_count": null,
      "outputs": [
        {
          "output_type": "stream",
          "name": "stderr",
          "text": [
            "<ipython-input-43-482b02ad1a9c>:3: DtypeWarning: Columns (0,1,2,3,4,5,6,7,8,9,10,11,12,13,14,15,16,17,18,19,20,21,22,23,24,25,26,27,28,29,30,31,32,33,34,35,36,37,38,39,40,41,42,43,44,45,46,47,48,49,50,51,52,53,54,55,56,57,58,59,60,61,62,63,64,65,66,67,68,69,70,71,72,73,74,75,76,77,78,79,80,81,82,83,84,85,86,87,88,89,90,91,92,93,94,95,96,97,98,99,100,101,102,103,104,105,106,107,108,109,110,111,112,113,114,115,116,117,118,119,120,121,122,123,124,125,126,127,128,129,130,131,132,133,134,135,136,137,138,139,140,141,142,143,144,145,146,147,148,149,150,151,152,153,154,155,156,157,158,159,160,161,162,163,164,165,166,167,168,169,170,171,172,173,174,175,176,177,178,179,180,181,182,183,184,185,186,187,188,189,190,191,192,193,194,195,196,197,198,199,200,201,202,203,204,205,206,207,208,209,210,211,212,213,214,215,216,217,218,219,220,221,222,223,224,225,226,227,228,229,230,231,232,233,234,235,236,237,238,239,240,241,242,243,244,245,246,247,248,249,250,251,252,253,254,255,256,257,258,259,260,261,262,263,264,265,266,267,268,269,270,271,272,273,274,275,276,277,278,279,280,281,282,283,284,285,286,287,288,289,290,291,292,293,294,295,296,297,298,299,300,301,302,303,304,305,306,307,308,309) have mixed types. Specify dtype option on import or set low_memory=False.\n",
            "  df = pd.read_csv(file_path, header=None)\n"
          ]
        },
        {
          "output_type": "execute_result",
          "data": {
            "text/plain": [
              "  info_gesture info_participant info_attempt info_nano_span  \\\n",
              "0            3                4            5     1099334717   \n",
              "1           15                4            7     1646362304   \n",
              "2           19                3            8     2299163819   \n",
              "3            3                8            8     1340087890   \n",
              "4           16                7           10     2091003418   \n",
              "\n",
              "  step01_features/accel_x step01_features/accel_y step01_features/accel_z  \\\n",
              "0               -0.153229                0.459687               10.266337   \n",
              "1                3.217807                0.612916                9.346964   \n",
              "2                8.274362                     0.0                6.282385   \n",
              "3                -8.42759               -0.919373                5.363012   \n",
              "4               -2.604892                3.064578                9.040505   \n",
              "\n",
              "  step01_features/time_event step01_features/time_millis  \\\n",
              "0             428417000000.0             1384350600000.0   \n",
              "1             764273000000.0             1384510100000.0   \n",
              "2            6308546000000.0             1384269200000.0   \n",
              "3            2042136000000.0             1387383200000.0   \n",
              "4            3529643000000.0             1387384800000.0   \n",
              "\n",
              "  step01_features/time_nanos  ... step50_features/accel_z  \\\n",
              "0          141699000000000.0  ...                     0.0   \n",
              "1           35549205000000.0  ...                     0.0   \n",
              "2          116132694000000.0  ...                     0.0   \n",
              "3          599449100000000.0  ...                     0.0   \n",
              "4          601102000000000.0  ...                     0.0   \n",
              "\n",
              "  step50_features/time_event step50_features/time_millis  \\\n",
              "0                        0.0                         0.0   \n",
              "1                        0.0                         0.0   \n",
              "2                        0.0                         0.0   \n",
              "3                        0.0                         0.0   \n",
              "4                        0.0                         0.0   \n",
              "\n",
              "  step50_features/time_nanos step51_features/accel_x step51_features/accel_y  \\\n",
              "0                        0.0                     0.0                     0.0   \n",
              "1                        0.0                     0.0                     0.0   \n",
              "2                        0.0                     0.0                     0.0   \n",
              "3                        0.0                     0.0                     0.0   \n",
              "4                        0.0                     0.0                     0.0   \n",
              "\n",
              "  step51_features/accel_z step51_features/time_event  \\\n",
              "0                     0.0                        0.0   \n",
              "1                     0.0                        0.0   \n",
              "2                     0.0                        0.0   \n",
              "3                     0.0                        0.0   \n",
              "4                     0.0                        0.0   \n",
              "\n",
              "  step51_features/time_millis step51_features/time_nanos  \n",
              "0                         0.0                        0.0  \n",
              "1                         0.0                        0.0  \n",
              "2                         0.0                        0.0  \n",
              "3                         0.0                        0.0  \n",
              "4                         0.0                        0.0  \n",
              "\n",
              "[5 rows x 310 columns]"
            ],
            "text/html": [
              "\n",
              "  <div id=\"df-7fc2bac9-b915-49dd-bf46-719ff9bdd475\" class=\"colab-df-container\">\n",
              "    <div>\n",
              "<style scoped>\n",
              "    .dataframe tbody tr th:only-of-type {\n",
              "        vertical-align: middle;\n",
              "    }\n",
              "\n",
              "    .dataframe tbody tr th {\n",
              "        vertical-align: top;\n",
              "    }\n",
              "\n",
              "    .dataframe thead th {\n",
              "        text-align: right;\n",
              "    }\n",
              "</style>\n",
              "<table border=\"1\" class=\"dataframe\">\n",
              "  <thead>\n",
              "    <tr style=\"text-align: right;\">\n",
              "      <th></th>\n",
              "      <th>info_gesture</th>\n",
              "      <th>info_participant</th>\n",
              "      <th>info_attempt</th>\n",
              "      <th>info_nano_span</th>\n",
              "      <th>step01_features/accel_x</th>\n",
              "      <th>step01_features/accel_y</th>\n",
              "      <th>step01_features/accel_z</th>\n",
              "      <th>step01_features/time_event</th>\n",
              "      <th>step01_features/time_millis</th>\n",
              "      <th>step01_features/time_nanos</th>\n",
              "      <th>...</th>\n",
              "      <th>step50_features/accel_z</th>\n",
              "      <th>step50_features/time_event</th>\n",
              "      <th>step50_features/time_millis</th>\n",
              "      <th>step50_features/time_nanos</th>\n",
              "      <th>step51_features/accel_x</th>\n",
              "      <th>step51_features/accel_y</th>\n",
              "      <th>step51_features/accel_z</th>\n",
              "      <th>step51_features/time_event</th>\n",
              "      <th>step51_features/time_millis</th>\n",
              "      <th>step51_features/time_nanos</th>\n",
              "    </tr>\n",
              "  </thead>\n",
              "  <tbody>\n",
              "    <tr>\n",
              "      <th>0</th>\n",
              "      <td>3</td>\n",
              "      <td>4</td>\n",
              "      <td>5</td>\n",
              "      <td>1099334717</td>\n",
              "      <td>-0.153229</td>\n",
              "      <td>0.459687</td>\n",
              "      <td>10.266337</td>\n",
              "      <td>428417000000.0</td>\n",
              "      <td>1384350600000.0</td>\n",
              "      <td>141699000000000.0</td>\n",
              "      <td>...</td>\n",
              "      <td>0.0</td>\n",
              "      <td>0.0</td>\n",
              "      <td>0.0</td>\n",
              "      <td>0.0</td>\n",
              "      <td>0.0</td>\n",
              "      <td>0.0</td>\n",
              "      <td>0.0</td>\n",
              "      <td>0.0</td>\n",
              "      <td>0.0</td>\n",
              "      <td>0.0</td>\n",
              "    </tr>\n",
              "    <tr>\n",
              "      <th>1</th>\n",
              "      <td>15</td>\n",
              "      <td>4</td>\n",
              "      <td>7</td>\n",
              "      <td>1646362304</td>\n",
              "      <td>3.217807</td>\n",
              "      <td>0.612916</td>\n",
              "      <td>9.346964</td>\n",
              "      <td>764273000000.0</td>\n",
              "      <td>1384510100000.0</td>\n",
              "      <td>35549205000000.0</td>\n",
              "      <td>...</td>\n",
              "      <td>0.0</td>\n",
              "      <td>0.0</td>\n",
              "      <td>0.0</td>\n",
              "      <td>0.0</td>\n",
              "      <td>0.0</td>\n",
              "      <td>0.0</td>\n",
              "      <td>0.0</td>\n",
              "      <td>0.0</td>\n",
              "      <td>0.0</td>\n",
              "      <td>0.0</td>\n",
              "    </tr>\n",
              "    <tr>\n",
              "      <th>2</th>\n",
              "      <td>19</td>\n",
              "      <td>3</td>\n",
              "      <td>8</td>\n",
              "      <td>2299163819</td>\n",
              "      <td>8.274362</td>\n",
              "      <td>0.0</td>\n",
              "      <td>6.282385</td>\n",
              "      <td>6308546000000.0</td>\n",
              "      <td>1384269200000.0</td>\n",
              "      <td>116132694000000.0</td>\n",
              "      <td>...</td>\n",
              "      <td>0.0</td>\n",
              "      <td>0.0</td>\n",
              "      <td>0.0</td>\n",
              "      <td>0.0</td>\n",
              "      <td>0.0</td>\n",
              "      <td>0.0</td>\n",
              "      <td>0.0</td>\n",
              "      <td>0.0</td>\n",
              "      <td>0.0</td>\n",
              "      <td>0.0</td>\n",
              "    </tr>\n",
              "    <tr>\n",
              "      <th>3</th>\n",
              "      <td>3</td>\n",
              "      <td>8</td>\n",
              "      <td>8</td>\n",
              "      <td>1340087890</td>\n",
              "      <td>-8.42759</td>\n",
              "      <td>-0.919373</td>\n",
              "      <td>5.363012</td>\n",
              "      <td>2042136000000.0</td>\n",
              "      <td>1387383200000.0</td>\n",
              "      <td>599449100000000.0</td>\n",
              "      <td>...</td>\n",
              "      <td>0.0</td>\n",
              "      <td>0.0</td>\n",
              "      <td>0.0</td>\n",
              "      <td>0.0</td>\n",
              "      <td>0.0</td>\n",
              "      <td>0.0</td>\n",
              "      <td>0.0</td>\n",
              "      <td>0.0</td>\n",
              "      <td>0.0</td>\n",
              "      <td>0.0</td>\n",
              "    </tr>\n",
              "    <tr>\n",
              "      <th>4</th>\n",
              "      <td>16</td>\n",
              "      <td>7</td>\n",
              "      <td>10</td>\n",
              "      <td>2091003418</td>\n",
              "      <td>-2.604892</td>\n",
              "      <td>3.064578</td>\n",
              "      <td>9.040505</td>\n",
              "      <td>3529643000000.0</td>\n",
              "      <td>1387384800000.0</td>\n",
              "      <td>601102000000000.0</td>\n",
              "      <td>...</td>\n",
              "      <td>0.0</td>\n",
              "      <td>0.0</td>\n",
              "      <td>0.0</td>\n",
              "      <td>0.0</td>\n",
              "      <td>0.0</td>\n",
              "      <td>0.0</td>\n",
              "      <td>0.0</td>\n",
              "      <td>0.0</td>\n",
              "      <td>0.0</td>\n",
              "      <td>0.0</td>\n",
              "    </tr>\n",
              "  </tbody>\n",
              "</table>\n",
              "<p>5 rows × 310 columns</p>\n",
              "</div>\n",
              "    <div class=\"colab-df-buttons\">\n",
              "\n",
              "  <div class=\"colab-df-container\">\n",
              "    <button class=\"colab-df-convert\" onclick=\"convertToInteractive('df-7fc2bac9-b915-49dd-bf46-719ff9bdd475')\"\n",
              "            title=\"Convert this dataframe to an interactive table.\"\n",
              "            style=\"display:none;\">\n",
              "\n",
              "  <svg xmlns=\"http://www.w3.org/2000/svg\" height=\"24px\" viewBox=\"0 -960 960 960\">\n",
              "    <path d=\"M120-120v-720h720v720H120Zm60-500h600v-160H180v160Zm220 220h160v-160H400v160Zm0 220h160v-160H400v160ZM180-400h160v-160H180v160Zm440 0h160v-160H620v160ZM180-180h160v-160H180v160Zm440 0h160v-160H620v160Z\"/>\n",
              "  </svg>\n",
              "    </button>\n",
              "\n",
              "  <style>\n",
              "    .colab-df-container {\n",
              "      display:flex;\n",
              "      gap: 12px;\n",
              "    }\n",
              "\n",
              "    .colab-df-convert {\n",
              "      background-color: #E8F0FE;\n",
              "      border: none;\n",
              "      border-radius: 50%;\n",
              "      cursor: pointer;\n",
              "      display: none;\n",
              "      fill: #1967D2;\n",
              "      height: 32px;\n",
              "      padding: 0 0 0 0;\n",
              "      width: 32px;\n",
              "    }\n",
              "\n",
              "    .colab-df-convert:hover {\n",
              "      background-color: #E2EBFA;\n",
              "      box-shadow: 0px 1px 2px rgba(60, 64, 67, 0.3), 0px 1px 3px 1px rgba(60, 64, 67, 0.15);\n",
              "      fill: #174EA6;\n",
              "    }\n",
              "\n",
              "    .colab-df-buttons div {\n",
              "      margin-bottom: 4px;\n",
              "    }\n",
              "\n",
              "    [theme=dark] .colab-df-convert {\n",
              "      background-color: #3B4455;\n",
              "      fill: #D2E3FC;\n",
              "    }\n",
              "\n",
              "    [theme=dark] .colab-df-convert:hover {\n",
              "      background-color: #434B5C;\n",
              "      box-shadow: 0px 1px 3px 1px rgba(0, 0, 0, 0.15);\n",
              "      filter: drop-shadow(0px 1px 2px rgba(0, 0, 0, 0.3));\n",
              "      fill: #FFFFFF;\n",
              "    }\n",
              "  </style>\n",
              "\n",
              "    <script>\n",
              "      const buttonEl =\n",
              "        document.querySelector('#df-7fc2bac9-b915-49dd-bf46-719ff9bdd475 button.colab-df-convert');\n",
              "      buttonEl.style.display =\n",
              "        google.colab.kernel.accessAllowed ? 'block' : 'none';\n",
              "\n",
              "      async function convertToInteractive(key) {\n",
              "        const element = document.querySelector('#df-7fc2bac9-b915-49dd-bf46-719ff9bdd475');\n",
              "        const dataTable =\n",
              "          await google.colab.kernel.invokeFunction('convertToInteractive',\n",
              "                                                    [key], {});\n",
              "        if (!dataTable) return;\n",
              "\n",
              "        const docLinkHtml = 'Like what you see? Visit the ' +\n",
              "          '<a target=\"_blank\" href=https://colab.research.google.com/notebooks/data_table.ipynb>data table notebook</a>'\n",
              "          + ' to learn more about interactive tables.';\n",
              "        element.innerHTML = '';\n",
              "        dataTable['output_type'] = 'display_data';\n",
              "        await google.colab.output.renderOutput(dataTable, element);\n",
              "        const docLink = document.createElement('div');\n",
              "        docLink.innerHTML = docLinkHtml;\n",
              "        element.appendChild(docLink);\n",
              "      }\n",
              "    </script>\n",
              "  </div>\n",
              "\n",
              "\n",
              "<div id=\"df-6424732b-1e15-4fad-956e-4ccf4f0a59b5\">\n",
              "  <button class=\"colab-df-quickchart\" onclick=\"quickchart('df-6424732b-1e15-4fad-956e-4ccf4f0a59b5')\"\n",
              "            title=\"Suggest charts\"\n",
              "            style=\"display:none;\">\n",
              "\n",
              "<svg xmlns=\"http://www.w3.org/2000/svg\" height=\"24px\"viewBox=\"0 0 24 24\"\n",
              "     width=\"24px\">\n",
              "    <g>\n",
              "        <path d=\"M19 3H5c-1.1 0-2 .9-2 2v14c0 1.1.9 2 2 2h14c1.1 0 2-.9 2-2V5c0-1.1-.9-2-2-2zM9 17H7v-7h2v7zm4 0h-2V7h2v10zm4 0h-2v-4h2v4z\"/>\n",
              "    </g>\n",
              "</svg>\n",
              "  </button>\n",
              "\n",
              "<style>\n",
              "  .colab-df-quickchart {\n",
              "      --bg-color: #E8F0FE;\n",
              "      --fill-color: #1967D2;\n",
              "      --hover-bg-color: #E2EBFA;\n",
              "      --hover-fill-color: #174EA6;\n",
              "      --disabled-fill-color: #AAA;\n",
              "      --disabled-bg-color: #DDD;\n",
              "  }\n",
              "\n",
              "  [theme=dark] .colab-df-quickchart {\n",
              "      --bg-color: #3B4455;\n",
              "      --fill-color: #D2E3FC;\n",
              "      --hover-bg-color: #434B5C;\n",
              "      --hover-fill-color: #FFFFFF;\n",
              "      --disabled-bg-color: #3B4455;\n",
              "      --disabled-fill-color: #666;\n",
              "  }\n",
              "\n",
              "  .colab-df-quickchart {\n",
              "    background-color: var(--bg-color);\n",
              "    border: none;\n",
              "    border-radius: 50%;\n",
              "    cursor: pointer;\n",
              "    display: none;\n",
              "    fill: var(--fill-color);\n",
              "    height: 32px;\n",
              "    padding: 0;\n",
              "    width: 32px;\n",
              "  }\n",
              "\n",
              "  .colab-df-quickchart:hover {\n",
              "    background-color: var(--hover-bg-color);\n",
              "    box-shadow: 0 1px 2px rgba(60, 64, 67, 0.3), 0 1px 3px 1px rgba(60, 64, 67, 0.15);\n",
              "    fill: var(--button-hover-fill-color);\n",
              "  }\n",
              "\n",
              "  .colab-df-quickchart-complete:disabled,\n",
              "  .colab-df-quickchart-complete:disabled:hover {\n",
              "    background-color: var(--disabled-bg-color);\n",
              "    fill: var(--disabled-fill-color);\n",
              "    box-shadow: none;\n",
              "  }\n",
              "\n",
              "  .colab-df-spinner {\n",
              "    border: 2px solid var(--fill-color);\n",
              "    border-color: transparent;\n",
              "    border-bottom-color: var(--fill-color);\n",
              "    animation:\n",
              "      spin 1s steps(1) infinite;\n",
              "  }\n",
              "\n",
              "  @keyframes spin {\n",
              "    0% {\n",
              "      border-color: transparent;\n",
              "      border-bottom-color: var(--fill-color);\n",
              "      border-left-color: var(--fill-color);\n",
              "    }\n",
              "    20% {\n",
              "      border-color: transparent;\n",
              "      border-left-color: var(--fill-color);\n",
              "      border-top-color: var(--fill-color);\n",
              "    }\n",
              "    30% {\n",
              "      border-color: transparent;\n",
              "      border-left-color: var(--fill-color);\n",
              "      border-top-color: var(--fill-color);\n",
              "      border-right-color: var(--fill-color);\n",
              "    }\n",
              "    40% {\n",
              "      border-color: transparent;\n",
              "      border-right-color: var(--fill-color);\n",
              "      border-top-color: var(--fill-color);\n",
              "    }\n",
              "    60% {\n",
              "      border-color: transparent;\n",
              "      border-right-color: var(--fill-color);\n",
              "    }\n",
              "    80% {\n",
              "      border-color: transparent;\n",
              "      border-right-color: var(--fill-color);\n",
              "      border-bottom-color: var(--fill-color);\n",
              "    }\n",
              "    90% {\n",
              "      border-color: transparent;\n",
              "      border-bottom-color: var(--fill-color);\n",
              "    }\n",
              "  }\n",
              "</style>\n",
              "\n",
              "  <script>\n",
              "    async function quickchart(key) {\n",
              "      const quickchartButtonEl =\n",
              "        document.querySelector('#' + key + ' button');\n",
              "      quickchartButtonEl.disabled = true;  // To prevent multiple clicks.\n",
              "      quickchartButtonEl.classList.add('colab-df-spinner');\n",
              "      try {\n",
              "        const charts = await google.colab.kernel.invokeFunction(\n",
              "            'suggestCharts', [key], {});\n",
              "      } catch (error) {\n",
              "        console.error('Error during call to suggestCharts:', error);\n",
              "      }\n",
              "      quickchartButtonEl.classList.remove('colab-df-spinner');\n",
              "      quickchartButtonEl.classList.add('colab-df-quickchart-complete');\n",
              "    }\n",
              "    (() => {\n",
              "      let quickchartButtonEl =\n",
              "        document.querySelector('#df-6424732b-1e15-4fad-956e-4ccf4f0a59b5 button');\n",
              "      quickchartButtonEl.style.display =\n",
              "        google.colab.kernel.accessAllowed ? 'block' : 'none';\n",
              "    })();\n",
              "  </script>\n",
              "</div>\n",
              "    </div>\n",
              "  </div>\n"
            ],
            "application/vnd.google.colaboratory.intrinsic+json": {
              "type": "dataframe",
              "variable_name": "df"
            }
          },
          "metadata": {},
          "execution_count": 43
        }
      ]
    },
    {
      "cell_type": "markdown",
      "source": [
        "As I am getting a DtypeWarning after running df.head(), I decided to investigate further. Pandas detected that these listed columns contain a mix of different data types. Columns ideally should contain data of a single type for proper handling. When a column has both strings and numbers, Pandas assigns it a general object dtype, which can limit certain operations and analyses.\n",
        "\n",
        "I decided to inspect the columns by checking the contents to understand why mixed types are present."
      ],
      "metadata": {
        "id": "0ZQpHJOeczoa"
      }
    },
    {
      "cell_type": "code",
      "source": [
        "# Iterate over each object column in the DataFrame\n",
        "for column in df.columns:\n",
        "    # Use a set comprehension to find the unique data types in each column\n",
        "    unique_types = {type(val) for val in df[column]}\n",
        "    print(f\"Column '{column}' contains these data types: {unique_types}\")"
      ],
      "metadata": {
        "colab": {
          "base_uri": "https://localhost:8080/"
        },
        "id": "CI5mwldiJ1U1",
        "outputId": "fc38c7f1-5b5f-4ab4-92fb-daf64c098ff1"
      },
      "execution_count": null,
      "outputs": [
        {
          "output_type": "stream",
          "name": "stdout",
          "text": [
            "Column 'info_gesture' contains these data types: {<class 'int'>, <class 'str'>}\n",
            "Column 'info_participant' contains these data types: {<class 'int'>, <class 'str'>}\n",
            "Column 'info_attempt' contains these data types: {<class 'int'>, <class 'str'>}\n",
            "Column 'info_nano_span' contains these data types: {<class 'int'>, <class 'str'>}\n",
            "Column 'step01_features/accel_x' contains these data types: {<class 'float'>, <class 'str'>}\n",
            "Column 'step01_features/accel_y' contains these data types: {<class 'float'>, <class 'str'>}\n",
            "Column 'step01_features/accel_z' contains these data types: {<class 'float'>, <class 'str'>}\n",
            "Column 'step01_features/time_event' contains these data types: {<class 'float'>, <class 'str'>}\n",
            "Column 'step01_features/time_millis' contains these data types: {<class 'float'>, <class 'str'>}\n",
            "Column 'step01_features/time_nanos' contains these data types: {<class 'float'>, <class 'str'>}\n",
            "Column 'step02_features/accel_x' contains these data types: {<class 'float'>, <class 'str'>}\n",
            "Column 'step02_features/accel_y' contains these data types: {<class 'float'>, <class 'str'>}\n",
            "Column 'step02_features/accel_z' contains these data types: {<class 'float'>, <class 'str'>}\n",
            "Column 'step02_features/time_event' contains these data types: {<class 'float'>, <class 'str'>}\n",
            "Column 'step02_features/time_millis' contains these data types: {<class 'float'>, <class 'str'>}\n",
            "Column 'step02_features/time_nanos' contains these data types: {<class 'float'>, <class 'str'>}\n",
            "Column 'step03_features/accel_x' contains these data types: {<class 'float'>, <class 'str'>}\n",
            "Column 'step03_features/accel_y' contains these data types: {<class 'float'>, <class 'str'>}\n",
            "Column 'step03_features/accel_z' contains these data types: {<class 'float'>, <class 'str'>}\n",
            "Column 'step03_features/time_event' contains these data types: {<class 'float'>, <class 'str'>}\n",
            "Column 'step03_features/time_millis' contains these data types: {<class 'float'>, <class 'str'>}\n",
            "Column 'step03_features/time_nanos' contains these data types: {<class 'float'>, <class 'str'>}\n",
            "Column 'step04_features/accel_x' contains these data types: {<class 'float'>, <class 'str'>}\n",
            "Column 'step04_features/accel_y' contains these data types: {<class 'float'>, <class 'str'>}\n",
            "Column 'step04_features/accel_z' contains these data types: {<class 'float'>, <class 'str'>}\n",
            "Column 'step04_features/time_event' contains these data types: {<class 'float'>, <class 'str'>}\n",
            "Column 'step04_features/time_millis' contains these data types: {<class 'float'>, <class 'str'>}\n",
            "Column 'step04_features/time_nanos' contains these data types: {<class 'float'>, <class 'str'>}\n",
            "Column 'step05_features/accel_x' contains these data types: {<class 'float'>, <class 'str'>}\n",
            "Column 'step05_features/accel_y' contains these data types: {<class 'float'>, <class 'str'>}\n",
            "Column 'step05_features/accel_z' contains these data types: {<class 'float'>, <class 'str'>}\n",
            "Column 'step05_features/time_event' contains these data types: {<class 'float'>, <class 'str'>}\n",
            "Column 'step05_features/time_millis' contains these data types: {<class 'float'>, <class 'str'>}\n",
            "Column 'step05_features/time_nanos' contains these data types: {<class 'float'>, <class 'str'>}\n",
            "Column 'step06_features/accel_x' contains these data types: {<class 'float'>, <class 'str'>}\n",
            "Column 'step06_features/accel_y' contains these data types: {<class 'float'>, <class 'str'>}\n",
            "Column 'step06_features/accel_z' contains these data types: {<class 'float'>, <class 'str'>}\n",
            "Column 'step06_features/time_event' contains these data types: {<class 'float'>, <class 'str'>}\n",
            "Column 'step06_features/time_millis' contains these data types: {<class 'float'>, <class 'str'>}\n",
            "Column 'step06_features/time_nanos' contains these data types: {<class 'float'>, <class 'str'>}\n",
            "Column 'step07_features/accel_x' contains these data types: {<class 'float'>, <class 'str'>}\n",
            "Column 'step07_features/accel_y' contains these data types: {<class 'float'>, <class 'str'>}\n",
            "Column 'step07_features/accel_z' contains these data types: {<class 'float'>, <class 'str'>}\n",
            "Column 'step07_features/time_event' contains these data types: {<class 'float'>, <class 'str'>}\n",
            "Column 'step07_features/time_millis' contains these data types: {<class 'float'>, <class 'str'>}\n",
            "Column 'step07_features/time_nanos' contains these data types: {<class 'float'>, <class 'str'>}\n",
            "Column 'step08_features/accel_x' contains these data types: {<class 'float'>, <class 'str'>}\n",
            "Column 'step08_features/accel_y' contains these data types: {<class 'float'>, <class 'str'>}\n",
            "Column 'step08_features/accel_z' contains these data types: {<class 'float'>, <class 'str'>}\n",
            "Column 'step08_features/time_event' contains these data types: {<class 'float'>, <class 'str'>}\n",
            "Column 'step08_features/time_millis' contains these data types: {<class 'float'>, <class 'str'>}\n",
            "Column 'step08_features/time_nanos' contains these data types: {<class 'float'>, <class 'str'>}\n",
            "Column 'step09_features/accel_x' contains these data types: {<class 'float'>, <class 'str'>}\n",
            "Column 'step09_features/accel_y' contains these data types: {<class 'float'>, <class 'str'>}\n",
            "Column 'step09_features/accel_z' contains these data types: {<class 'float'>, <class 'str'>}\n",
            "Column 'step09_features/time_event' contains these data types: {<class 'float'>, <class 'str'>}\n",
            "Column 'step09_features/time_millis' contains these data types: {<class 'float'>, <class 'str'>}\n",
            "Column 'step09_features/time_nanos' contains these data types: {<class 'float'>, <class 'str'>}\n",
            "Column 'step10_features/accel_x' contains these data types: {<class 'float'>, <class 'str'>}\n",
            "Column 'step10_features/accel_y' contains these data types: {<class 'float'>, <class 'str'>}\n",
            "Column 'step10_features/accel_z' contains these data types: {<class 'float'>, <class 'str'>}\n",
            "Column 'step10_features/time_event' contains these data types: {<class 'float'>, <class 'str'>}\n",
            "Column 'step10_features/time_millis' contains these data types: {<class 'float'>, <class 'str'>}\n",
            "Column 'step10_features/time_nanos' contains these data types: {<class 'float'>, <class 'str'>}\n",
            "Column 'step11_features/accel_x' contains these data types: {<class 'float'>, <class 'str'>}\n",
            "Column 'step11_features/accel_y' contains these data types: {<class 'float'>, <class 'str'>}\n",
            "Column 'step11_features/accel_z' contains these data types: {<class 'float'>, <class 'str'>}\n",
            "Column 'step11_features/time_event' contains these data types: {<class 'float'>, <class 'str'>}\n",
            "Column 'step11_features/time_millis' contains these data types: {<class 'float'>, <class 'str'>}\n",
            "Column 'step11_features/time_nanos' contains these data types: {<class 'float'>, <class 'str'>}\n",
            "Column 'step12_features/accel_x' contains these data types: {<class 'float'>, <class 'str'>}\n",
            "Column 'step12_features/accel_y' contains these data types: {<class 'float'>, <class 'str'>}\n",
            "Column 'step12_features/accel_z' contains these data types: {<class 'float'>, <class 'str'>}\n",
            "Column 'step12_features/time_event' contains these data types: {<class 'float'>, <class 'str'>}\n",
            "Column 'step12_features/time_millis' contains these data types: {<class 'float'>, <class 'str'>}\n",
            "Column 'step12_features/time_nanos' contains these data types: {<class 'float'>, <class 'str'>}\n",
            "Column 'step13_features/accel_x' contains these data types: {<class 'float'>, <class 'str'>}\n",
            "Column 'step13_features/accel_y' contains these data types: {<class 'float'>, <class 'str'>}\n",
            "Column 'step13_features/accel_z' contains these data types: {<class 'float'>, <class 'str'>}\n",
            "Column 'step13_features/time_event' contains these data types: {<class 'float'>, <class 'str'>}\n",
            "Column 'step13_features/time_millis' contains these data types: {<class 'float'>, <class 'str'>}\n",
            "Column 'step13_features/time_nanos' contains these data types: {<class 'float'>, <class 'str'>}\n",
            "Column 'step14_features/accel_x' contains these data types: {<class 'float'>, <class 'str'>}\n",
            "Column 'step14_features/accel_y' contains these data types: {<class 'float'>, <class 'str'>}\n",
            "Column 'step14_features/accel_z' contains these data types: {<class 'float'>, <class 'str'>}\n",
            "Column 'step14_features/time_event' contains these data types: {<class 'float'>, <class 'str'>}\n",
            "Column 'step14_features/time_millis' contains these data types: {<class 'float'>, <class 'str'>}\n",
            "Column 'step14_features/time_nanos' contains these data types: {<class 'float'>, <class 'str'>}\n",
            "Column 'step15_features/accel_x' contains these data types: {<class 'float'>, <class 'str'>}\n",
            "Column 'step15_features/accel_y' contains these data types: {<class 'float'>, <class 'str'>}\n",
            "Column 'step15_features/accel_z' contains these data types: {<class 'float'>, <class 'str'>}\n",
            "Column 'step15_features/time_event' contains these data types: {<class 'float'>, <class 'str'>}\n",
            "Column 'step15_features/time_millis' contains these data types: {<class 'float'>, <class 'str'>}\n",
            "Column 'step15_features/time_nanos' contains these data types: {<class 'float'>, <class 'str'>}\n",
            "Column 'step16_features/accel_x' contains these data types: {<class 'float'>, <class 'str'>}\n",
            "Column 'step16_features/accel_y' contains these data types: {<class 'float'>, <class 'str'>}\n",
            "Column 'step16_features/accel_z' contains these data types: {<class 'float'>, <class 'str'>}\n",
            "Column 'step16_features/time_event' contains these data types: {<class 'float'>, <class 'str'>}\n",
            "Column 'step16_features/time_millis' contains these data types: {<class 'float'>, <class 'str'>}\n",
            "Column 'step16_features/time_nanos' contains these data types: {<class 'float'>, <class 'str'>}\n",
            "Column 'step17_features/accel_x' contains these data types: {<class 'float'>, <class 'str'>}\n",
            "Column 'step17_features/accel_y' contains these data types: {<class 'float'>, <class 'str'>}\n",
            "Column 'step17_features/accel_z' contains these data types: {<class 'float'>, <class 'str'>}\n",
            "Column 'step17_features/time_event' contains these data types: {<class 'float'>, <class 'str'>}\n",
            "Column 'step17_features/time_millis' contains these data types: {<class 'float'>, <class 'str'>}\n",
            "Column 'step17_features/time_nanos' contains these data types: {<class 'float'>, <class 'str'>}\n",
            "Column 'step18_features/accel_x' contains these data types: {<class 'float'>, <class 'str'>}\n",
            "Column 'step18_features/accel_y' contains these data types: {<class 'float'>, <class 'str'>}\n",
            "Column 'step18_features/accel_z' contains these data types: {<class 'float'>, <class 'str'>}\n",
            "Column 'step18_features/time_event' contains these data types: {<class 'float'>, <class 'str'>}\n",
            "Column 'step18_features/time_millis' contains these data types: {<class 'float'>, <class 'str'>}\n",
            "Column 'step18_features/time_nanos' contains these data types: {<class 'float'>, <class 'str'>}\n",
            "Column 'step19_features/accel_x' contains these data types: {<class 'float'>, <class 'str'>}\n",
            "Column 'step19_features/accel_y' contains these data types: {<class 'float'>, <class 'str'>}\n",
            "Column 'step19_features/accel_z' contains these data types: {<class 'float'>, <class 'str'>}\n",
            "Column 'step19_features/time_event' contains these data types: {<class 'float'>, <class 'str'>}\n",
            "Column 'step19_features/time_millis' contains these data types: {<class 'float'>, <class 'str'>}\n",
            "Column 'step19_features/time_nanos' contains these data types: {<class 'float'>, <class 'str'>}\n",
            "Column 'step20_features/accel_x' contains these data types: {<class 'float'>, <class 'str'>}\n",
            "Column 'step20_features/accel_y' contains these data types: {<class 'float'>, <class 'str'>}\n",
            "Column 'step20_features/accel_z' contains these data types: {<class 'float'>, <class 'str'>}\n",
            "Column 'step20_features/time_event' contains these data types: {<class 'float'>, <class 'str'>}\n",
            "Column 'step20_features/time_millis' contains these data types: {<class 'float'>, <class 'str'>}\n",
            "Column 'step20_features/time_nanos' contains these data types: {<class 'float'>, <class 'str'>}\n",
            "Column 'step21_features/accel_x' contains these data types: {<class 'float'>, <class 'str'>}\n",
            "Column 'step21_features/accel_y' contains these data types: {<class 'float'>, <class 'str'>}\n",
            "Column 'step21_features/accel_z' contains these data types: {<class 'float'>, <class 'str'>}\n",
            "Column 'step21_features/time_event' contains these data types: {<class 'float'>, <class 'str'>}\n",
            "Column 'step21_features/time_millis' contains these data types: {<class 'float'>, <class 'str'>}\n",
            "Column 'step21_features/time_nanos' contains these data types: {<class 'float'>, <class 'str'>}\n",
            "Column 'step22_features/accel_x' contains these data types: {<class 'float'>, <class 'str'>}\n",
            "Column 'step22_features/accel_y' contains these data types: {<class 'float'>, <class 'str'>}\n",
            "Column 'step22_features/accel_z' contains these data types: {<class 'float'>, <class 'str'>}\n",
            "Column 'step22_features/time_event' contains these data types: {<class 'float'>, <class 'str'>}\n",
            "Column 'step22_features/time_millis' contains these data types: {<class 'float'>, <class 'str'>}\n",
            "Column 'step22_features/time_nanos' contains these data types: {<class 'float'>, <class 'str'>}\n",
            "Column 'step23_features/accel_x' contains these data types: {<class 'float'>, <class 'str'>}\n",
            "Column 'step23_features/accel_y' contains these data types: {<class 'float'>, <class 'str'>}\n",
            "Column 'step23_features/accel_z' contains these data types: {<class 'float'>, <class 'str'>}\n",
            "Column 'step23_features/time_event' contains these data types: {<class 'float'>, <class 'str'>}\n",
            "Column 'step23_features/time_millis' contains these data types: {<class 'float'>, <class 'str'>}\n",
            "Column 'step23_features/time_nanos' contains these data types: {<class 'float'>, <class 'str'>}\n",
            "Column 'step24_features/accel_x' contains these data types: {<class 'float'>, <class 'str'>}\n",
            "Column 'step24_features/accel_y' contains these data types: {<class 'float'>, <class 'str'>}\n",
            "Column 'step24_features/accel_z' contains these data types: {<class 'float'>, <class 'str'>}\n",
            "Column 'step24_features/time_event' contains these data types: {<class 'float'>, <class 'str'>}\n",
            "Column 'step24_features/time_millis' contains these data types: {<class 'float'>, <class 'str'>}\n",
            "Column 'step24_features/time_nanos' contains these data types: {<class 'float'>, <class 'str'>}\n",
            "Column 'step25_features/accel_x' contains these data types: {<class 'float'>, <class 'str'>}\n",
            "Column 'step25_features/accel_y' contains these data types: {<class 'float'>, <class 'str'>}\n",
            "Column 'step25_features/accel_z' contains these data types: {<class 'float'>, <class 'str'>}\n",
            "Column 'step25_features/time_event' contains these data types: {<class 'float'>, <class 'str'>}\n",
            "Column 'step25_features/time_millis' contains these data types: {<class 'float'>, <class 'str'>}\n",
            "Column 'step25_features/time_nanos' contains these data types: {<class 'float'>, <class 'str'>}\n",
            "Column 'step26_features/accel_x' contains these data types: {<class 'float'>, <class 'str'>}\n",
            "Column 'step26_features/accel_y' contains these data types: {<class 'float'>, <class 'str'>}\n",
            "Column 'step26_features/accel_z' contains these data types: {<class 'float'>, <class 'str'>}\n",
            "Column 'step26_features/time_event' contains these data types: {<class 'float'>, <class 'str'>}\n",
            "Column 'step26_features/time_millis' contains these data types: {<class 'float'>, <class 'str'>}\n",
            "Column 'step26_features/time_nanos' contains these data types: {<class 'float'>, <class 'str'>}\n",
            "Column 'step27_features/accel_x' contains these data types: {<class 'float'>, <class 'str'>}\n",
            "Column 'step27_features/accel_y' contains these data types: {<class 'float'>, <class 'str'>}\n",
            "Column 'step27_features/accel_z' contains these data types: {<class 'float'>, <class 'str'>}\n",
            "Column 'step27_features/time_event' contains these data types: {<class 'float'>, <class 'str'>}\n",
            "Column 'step27_features/time_millis' contains these data types: {<class 'float'>, <class 'str'>}\n",
            "Column 'step27_features/time_nanos' contains these data types: {<class 'float'>, <class 'str'>}\n",
            "Column 'step28_features/accel_x' contains these data types: {<class 'float'>, <class 'str'>}\n",
            "Column 'step28_features/accel_y' contains these data types: {<class 'float'>, <class 'str'>}\n",
            "Column 'step28_features/accel_z' contains these data types: {<class 'float'>, <class 'str'>}\n",
            "Column 'step28_features/time_event' contains these data types: {<class 'float'>, <class 'str'>}\n",
            "Column 'step28_features/time_millis' contains these data types: {<class 'float'>, <class 'str'>}\n",
            "Column 'step28_features/time_nanos' contains these data types: {<class 'float'>, <class 'str'>}\n",
            "Column 'step29_features/accel_x' contains these data types: {<class 'float'>, <class 'str'>}\n",
            "Column 'step29_features/accel_y' contains these data types: {<class 'float'>, <class 'str'>}\n",
            "Column 'step29_features/accel_z' contains these data types: {<class 'float'>, <class 'str'>}\n",
            "Column 'step29_features/time_event' contains these data types: {<class 'float'>, <class 'str'>}\n",
            "Column 'step29_features/time_millis' contains these data types: {<class 'float'>, <class 'str'>}\n",
            "Column 'step29_features/time_nanos' contains these data types: {<class 'float'>, <class 'str'>}\n",
            "Column 'step30_features/accel_x' contains these data types: {<class 'float'>, <class 'str'>}\n",
            "Column 'step30_features/accel_y' contains these data types: {<class 'float'>, <class 'str'>}\n",
            "Column 'step30_features/accel_z' contains these data types: {<class 'float'>, <class 'str'>}\n",
            "Column 'step30_features/time_event' contains these data types: {<class 'float'>, <class 'str'>}\n",
            "Column 'step30_features/time_millis' contains these data types: {<class 'float'>, <class 'str'>}\n",
            "Column 'step30_features/time_nanos' contains these data types: {<class 'float'>, <class 'str'>}\n",
            "Column 'step31_features/accel_x' contains these data types: {<class 'float'>, <class 'str'>}\n",
            "Column 'step31_features/accel_y' contains these data types: {<class 'float'>, <class 'str'>}\n",
            "Column 'step31_features/accel_z' contains these data types: {<class 'float'>, <class 'str'>}\n",
            "Column 'step31_features/time_event' contains these data types: {<class 'float'>, <class 'str'>}\n",
            "Column 'step31_features/time_millis' contains these data types: {<class 'float'>, <class 'str'>}\n",
            "Column 'step31_features/time_nanos' contains these data types: {<class 'float'>, <class 'str'>}\n",
            "Column 'step32_features/accel_x' contains these data types: {<class 'float'>, <class 'str'>}\n",
            "Column 'step32_features/accel_y' contains these data types: {<class 'float'>, <class 'str'>}\n",
            "Column 'step32_features/accel_z' contains these data types: {<class 'float'>, <class 'str'>}\n",
            "Column 'step32_features/time_event' contains these data types: {<class 'float'>, <class 'str'>}\n",
            "Column 'step32_features/time_millis' contains these data types: {<class 'float'>, <class 'str'>}\n",
            "Column 'step32_features/time_nanos' contains these data types: {<class 'float'>, <class 'str'>}\n",
            "Column 'step33_features/accel_x' contains these data types: {<class 'float'>, <class 'str'>}\n",
            "Column 'step33_features/accel_y' contains these data types: {<class 'float'>, <class 'str'>}\n",
            "Column 'step33_features/accel_z' contains these data types: {<class 'float'>, <class 'str'>}\n",
            "Column 'step33_features/time_event' contains these data types: {<class 'float'>, <class 'str'>}\n",
            "Column 'step33_features/time_millis' contains these data types: {<class 'float'>, <class 'str'>}\n",
            "Column 'step33_features/time_nanos' contains these data types: {<class 'float'>, <class 'str'>}\n",
            "Column 'step34_features/accel_x' contains these data types: {<class 'float'>, <class 'str'>}\n",
            "Column 'step34_features/accel_y' contains these data types: {<class 'float'>, <class 'str'>}\n",
            "Column 'step34_features/accel_z' contains these data types: {<class 'float'>, <class 'str'>}\n",
            "Column 'step34_features/time_event' contains these data types: {<class 'float'>, <class 'str'>}\n",
            "Column 'step34_features/time_millis' contains these data types: {<class 'float'>, <class 'str'>}\n",
            "Column 'step34_features/time_nanos' contains these data types: {<class 'float'>, <class 'str'>}\n",
            "Column 'step35_features/accel_x' contains these data types: {<class 'float'>, <class 'str'>}\n",
            "Column 'step35_features/accel_y' contains these data types: {<class 'float'>, <class 'str'>}\n",
            "Column 'step35_features/accel_z' contains these data types: {<class 'float'>, <class 'str'>}\n",
            "Column 'step35_features/time_event' contains these data types: {<class 'float'>, <class 'str'>}\n",
            "Column 'step35_features/time_millis' contains these data types: {<class 'float'>, <class 'str'>}\n",
            "Column 'step35_features/time_nanos' contains these data types: {<class 'float'>, <class 'str'>}\n",
            "Column 'step36_features/accel_x' contains these data types: {<class 'float'>, <class 'str'>}\n",
            "Column 'step36_features/accel_y' contains these data types: {<class 'float'>, <class 'str'>}\n",
            "Column 'step36_features/accel_z' contains these data types: {<class 'float'>, <class 'str'>}\n",
            "Column 'step36_features/time_event' contains these data types: {<class 'float'>, <class 'str'>}\n",
            "Column 'step36_features/time_millis' contains these data types: {<class 'float'>, <class 'str'>}\n",
            "Column 'step36_features/time_nanos' contains these data types: {<class 'float'>, <class 'str'>}\n",
            "Column 'step37_features/accel_x' contains these data types: {<class 'float'>, <class 'str'>}\n",
            "Column 'step37_features/accel_y' contains these data types: {<class 'float'>, <class 'str'>}\n",
            "Column 'step37_features/accel_z' contains these data types: {<class 'float'>, <class 'str'>}\n",
            "Column 'step37_features/time_event' contains these data types: {<class 'float'>, <class 'str'>}\n",
            "Column 'step37_features/time_millis' contains these data types: {<class 'float'>, <class 'str'>}\n",
            "Column 'step37_features/time_nanos' contains these data types: {<class 'float'>, <class 'str'>}\n",
            "Column 'step38_features/accel_x' contains these data types: {<class 'float'>, <class 'str'>}\n",
            "Column 'step38_features/accel_y' contains these data types: {<class 'float'>, <class 'str'>}\n",
            "Column 'step38_features/accel_z' contains these data types: {<class 'float'>, <class 'str'>}\n",
            "Column 'step38_features/time_event' contains these data types: {<class 'float'>, <class 'str'>}\n",
            "Column 'step38_features/time_millis' contains these data types: {<class 'float'>, <class 'str'>}\n",
            "Column 'step38_features/time_nanos' contains these data types: {<class 'float'>, <class 'str'>}\n",
            "Column 'step39_features/accel_x' contains these data types: {<class 'float'>, <class 'str'>}\n",
            "Column 'step39_features/accel_y' contains these data types: {<class 'float'>, <class 'str'>}\n",
            "Column 'step39_features/accel_z' contains these data types: {<class 'float'>, <class 'str'>}\n",
            "Column 'step39_features/time_event' contains these data types: {<class 'float'>, <class 'str'>}\n",
            "Column 'step39_features/time_millis' contains these data types: {<class 'float'>, <class 'str'>}\n",
            "Column 'step39_features/time_nanos' contains these data types: {<class 'float'>, <class 'str'>}\n",
            "Column 'step40_features/accel_x' contains these data types: {<class 'float'>, <class 'str'>}\n",
            "Column 'step40_features/accel_y' contains these data types: {<class 'float'>, <class 'str'>}\n",
            "Column 'step40_features/accel_z' contains these data types: {<class 'float'>, <class 'str'>}\n",
            "Column 'step40_features/time_event' contains these data types: {<class 'float'>, <class 'str'>}\n",
            "Column 'step40_features/time_millis' contains these data types: {<class 'float'>, <class 'str'>}\n",
            "Column 'step40_features/time_nanos' contains these data types: {<class 'float'>, <class 'str'>}\n",
            "Column 'step41_features/accel_x' contains these data types: {<class 'float'>, <class 'str'>}\n",
            "Column 'step41_features/accel_y' contains these data types: {<class 'float'>, <class 'str'>}\n",
            "Column 'step41_features/accel_z' contains these data types: {<class 'float'>, <class 'str'>}\n",
            "Column 'step41_features/time_event' contains these data types: {<class 'float'>, <class 'str'>}\n",
            "Column 'step41_features/time_millis' contains these data types: {<class 'float'>, <class 'str'>}\n",
            "Column 'step41_features/time_nanos' contains these data types: {<class 'float'>, <class 'str'>}\n",
            "Column 'step42_features/accel_x' contains these data types: {<class 'float'>, <class 'str'>}\n",
            "Column 'step42_features/accel_y' contains these data types: {<class 'float'>, <class 'str'>}\n",
            "Column 'step42_features/accel_z' contains these data types: {<class 'float'>, <class 'str'>}\n",
            "Column 'step42_features/time_event' contains these data types: {<class 'float'>, <class 'str'>}\n",
            "Column 'step42_features/time_millis' contains these data types: {<class 'float'>, <class 'str'>}\n",
            "Column 'step42_features/time_nanos' contains these data types: {<class 'float'>, <class 'str'>}\n",
            "Column 'step43_features/accel_x' contains these data types: {<class 'float'>, <class 'str'>}\n",
            "Column 'step43_features/accel_y' contains these data types: {<class 'float'>, <class 'str'>}\n",
            "Column 'step43_features/accel_z' contains these data types: {<class 'float'>, <class 'str'>}\n",
            "Column 'step43_features/time_event' contains these data types: {<class 'float'>, <class 'str'>}\n",
            "Column 'step43_features/time_millis' contains these data types: {<class 'float'>, <class 'str'>}\n",
            "Column 'step43_features/time_nanos' contains these data types: {<class 'float'>, <class 'str'>}\n",
            "Column 'step44_features/accel_x' contains these data types: {<class 'float'>, <class 'str'>}\n",
            "Column 'step44_features/accel_y' contains these data types: {<class 'float'>, <class 'str'>}\n",
            "Column 'step44_features/accel_z' contains these data types: {<class 'float'>, <class 'str'>}\n",
            "Column 'step44_features/time_event' contains these data types: {<class 'float'>, <class 'str'>}\n",
            "Column 'step44_features/time_millis' contains these data types: {<class 'float'>, <class 'str'>}\n",
            "Column 'step44_features/time_nanos' contains these data types: {<class 'float'>, <class 'str'>}\n",
            "Column 'step45_features/accel_x' contains these data types: {<class 'float'>, <class 'str'>}\n",
            "Column 'step45_features/accel_y' contains these data types: {<class 'float'>, <class 'str'>}\n",
            "Column 'step45_features/accel_z' contains these data types: {<class 'float'>, <class 'str'>}\n",
            "Column 'step45_features/time_event' contains these data types: {<class 'float'>, <class 'str'>}\n",
            "Column 'step45_features/time_millis' contains these data types: {<class 'float'>, <class 'str'>}\n",
            "Column 'step45_features/time_nanos' contains these data types: {<class 'float'>, <class 'str'>}\n",
            "Column 'step46_features/accel_x' contains these data types: {<class 'float'>, <class 'str'>}\n",
            "Column 'step46_features/accel_y' contains these data types: {<class 'float'>, <class 'str'>}\n",
            "Column 'step46_features/accel_z' contains these data types: {<class 'float'>, <class 'str'>}\n",
            "Column 'step46_features/time_event' contains these data types: {<class 'float'>, <class 'str'>}\n",
            "Column 'step46_features/time_millis' contains these data types: {<class 'float'>, <class 'str'>}\n",
            "Column 'step46_features/time_nanos' contains these data types: {<class 'float'>, <class 'str'>}\n",
            "Column 'step47_features/accel_x' contains these data types: {<class 'float'>, <class 'str'>}\n",
            "Column 'step47_features/accel_y' contains these data types: {<class 'float'>, <class 'str'>}\n",
            "Column 'step47_features/accel_z' contains these data types: {<class 'float'>, <class 'str'>}\n",
            "Column 'step47_features/time_event' contains these data types: {<class 'float'>, <class 'str'>}\n",
            "Column 'step47_features/time_millis' contains these data types: {<class 'float'>, <class 'str'>}\n",
            "Column 'step47_features/time_nanos' contains these data types: {<class 'float'>, <class 'str'>}\n",
            "Column 'step48_features/accel_x' contains these data types: {<class 'float'>, <class 'str'>}\n",
            "Column 'step48_features/accel_y' contains these data types: {<class 'float'>, <class 'str'>}\n",
            "Column 'step48_features/accel_z' contains these data types: {<class 'float'>, <class 'str'>}\n",
            "Column 'step48_features/time_event' contains these data types: {<class 'float'>, <class 'str'>}\n",
            "Column 'step48_features/time_millis' contains these data types: {<class 'float'>, <class 'str'>}\n",
            "Column 'step48_features/time_nanos' contains these data types: {<class 'float'>, <class 'str'>}\n",
            "Column 'step49_features/accel_x' contains these data types: {<class 'float'>, <class 'str'>}\n",
            "Column 'step49_features/accel_y' contains these data types: {<class 'float'>, <class 'str'>}\n",
            "Column 'step49_features/accel_z' contains these data types: {<class 'float'>, <class 'str'>}\n",
            "Column 'step49_features/time_event' contains these data types: {<class 'float'>, <class 'str'>}\n",
            "Column 'step49_features/time_millis' contains these data types: {<class 'float'>, <class 'str'>}\n",
            "Column 'step49_features/time_nanos' contains these data types: {<class 'float'>, <class 'str'>}\n",
            "Column 'step50_features/accel_x' contains these data types: {<class 'float'>, <class 'str'>}\n",
            "Column 'step50_features/accel_y' contains these data types: {<class 'float'>, <class 'str'>}\n",
            "Column 'step50_features/accel_z' contains these data types: {<class 'float'>, <class 'str'>}\n",
            "Column 'step50_features/time_event' contains these data types: {<class 'float'>, <class 'str'>}\n",
            "Column 'step50_features/time_millis' contains these data types: {<class 'float'>, <class 'str'>}\n",
            "Column 'step50_features/time_nanos' contains these data types: {<class 'float'>, <class 'str'>}\n",
            "Column 'step51_features/accel_x' contains these data types: {<class 'float'>, <class 'str'>}\n",
            "Column 'step51_features/accel_y' contains these data types: {<class 'float'>, <class 'str'>}\n",
            "Column 'step51_features/accel_z' contains these data types: {<class 'float'>, <class 'str'>}\n",
            "Column 'step51_features/time_event' contains these data types: {<class 'float'>, <class 'str'>}\n",
            "Column 'step51_features/time_millis' contains these data types: {<class 'float'>, <class 'str'>}\n",
            "Column 'step51_features/time_nanos' contains these data types: {<class 'float'>, <class 'str'>}\n"
          ]
        }
      ]
    },
    {
      "cell_type": "markdown",
      "source": [
        "The dataset contains two main types of data across all columns: strings and floating-point numbers. This mix can occur due to:\n",
        "\n",
        "1. **Mixed Data Entries:** Some entries may be numbers, while others are text. This could happen if numeric data includes additional characters or if entries are mistakenly input as text.\n",
        "\n",
        "2. **Data Collection or Entry Errors:** Inconsistencies in data collection or entry methods, like typos or varying recording standards, can lead to mixed types.\n",
        "\n",
        "3. **Special Values or Missing Data:** Special strings (e.g., \"NA\", \"null\") might represent missing or special cases in numerical columns.\n",
        "\n",
        "**Implications:**\n",
        "\n",
        "To use this data effectively:\n",
        "\n",
        "- **Preprocessing:** we should standardize column formats by converting everything to a consistent data type, typically numerical for analysis or machine learning.\n",
        "\n",
        "- **Handling Non-numeric Values:** decide how to handle non-numeric values."
      ],
      "metadata": {
        "id": "14KxD7IMeY6_"
      }
    },
    {
      "cell_type": "markdown",
      "source": [
        "As the `info_gesture`, `info_participant`, and `info_attempt` columns are identifier columns and the task involves creating a train-test split based on participants, these columns should be of string type.\n",
        "I decided to convert all other data columns to Numeric Types.\n"
      ],
      "metadata": {
        "id": "Y2ZEmMFKeiN8"
      }
    },
    {
      "cell_type": "code",
      "source": [
        "# Select the first three columns of the DataFrame\n",
        "columns_to_convert = df.columns[:3]\n",
        "\n",
        "# Iterate over each of these columns\n",
        "for column in columns_to_convert:\n",
        "    # Convert the current column to string type\n",
        "    # This ensures that all data in the column is treated as text, preserving any leading zeros or special formatting.\n",
        "    df[column] = df[column].astype(str)\n"
      ],
      "metadata": {
        "id": "hB9E3Co5cXKV"
      },
      "execution_count": null,
      "outputs": []
    },
    {
      "cell_type": "code",
      "source": [
        "# Exclude the first three columns as these have already been converted.\n",
        "columns_to_convert = df.columns[3:]\n",
        "\n",
        "# Now, iterate over each column that we've identified for conversion.\n",
        "for column in columns_to_convert:\n",
        "    # Convert the current column to a numeric type.\n",
        "    # The 'errors='coerce'' argument ensures that any value in the column\n",
        "    # that cannot be directly converted to a number is instead replaced with NaN (Not a Number).\n",
        "    # This approach handles cases where mixed data types exist in a column, ensuring the integrity\n",
        "    # of numerical analyses later on.\n",
        "    df[column] = pd.to_numeric(df[column], errors='coerce')\n",
        "\n"
      ],
      "metadata": {
        "id": "srOIvcMGMuIo"
      },
      "execution_count": null,
      "outputs": []
    },
    {
      "cell_type": "markdown",
      "source": [
        "By excluding the first three columns and converting the remaining ones to numeric types, we ready the DataFrame for efficient and error-free numerical analysis. This process retains any essential textual or identifier information stored in the first three columns."
      ],
      "metadata": {
        "id": "wKM6-rl8M-ex"
      }
    },
    {
      "cell_type": "markdown",
      "source": [
        "Next we check the results of our data type conversions:"
      ],
      "metadata": {
        "id": "13mKUVzXNbTz"
      }
    },
    {
      "cell_type": "code",
      "source": [
        "# Iterate over each object column in the DataFrame\n",
        "for column in df.columns:\n",
        "    # Use a set comprehension to find the unique data types in each column\n",
        "    unique_types = {type(val) for val in df[column]}\n",
        "    print(f\"Column '{column}' contains these data types: {unique_types}\")"
      ],
      "metadata": {
        "id": "zqFN9syVEjbw",
        "colab": {
          "base_uri": "https://localhost:8080/"
        },
        "outputId": "9b937c0d-6cdf-412b-d781-405e2b5f2128"
      },
      "execution_count": null,
      "outputs": [
        {
          "output_type": "stream",
          "name": "stdout",
          "text": [
            "Column 'info_gesture' contains these data types: {<class 'str'>}\n",
            "Column 'info_participant' contains these data types: {<class 'str'>}\n",
            "Column 'info_attempt' contains these data types: {<class 'str'>}\n",
            "Column 'info_nano_span' contains these data types: {<class 'int'>}\n",
            "Column 'step01_features/accel_x' contains these data types: {<class 'float'>}\n",
            "Column 'step01_features/accel_y' contains these data types: {<class 'float'>}\n",
            "Column 'step01_features/accel_z' contains these data types: {<class 'float'>}\n",
            "Column 'step01_features/time_event' contains these data types: {<class 'float'>}\n",
            "Column 'step01_features/time_millis' contains these data types: {<class 'float'>}\n",
            "Column 'step01_features/time_nanos' contains these data types: {<class 'float'>}\n",
            "Column 'step02_features/accel_x' contains these data types: {<class 'float'>}\n",
            "Column 'step02_features/accel_y' contains these data types: {<class 'float'>}\n",
            "Column 'step02_features/accel_z' contains these data types: {<class 'float'>}\n",
            "Column 'step02_features/time_event' contains these data types: {<class 'float'>}\n",
            "Column 'step02_features/time_millis' contains these data types: {<class 'float'>}\n",
            "Column 'step02_features/time_nanos' contains these data types: {<class 'float'>}\n",
            "Column 'step03_features/accel_x' contains these data types: {<class 'float'>}\n",
            "Column 'step03_features/accel_y' contains these data types: {<class 'float'>}\n",
            "Column 'step03_features/accel_z' contains these data types: {<class 'float'>}\n",
            "Column 'step03_features/time_event' contains these data types: {<class 'float'>}\n",
            "Column 'step03_features/time_millis' contains these data types: {<class 'float'>}\n",
            "Column 'step03_features/time_nanos' contains these data types: {<class 'float'>}\n",
            "Column 'step04_features/accel_x' contains these data types: {<class 'float'>}\n",
            "Column 'step04_features/accel_y' contains these data types: {<class 'float'>}\n",
            "Column 'step04_features/accel_z' contains these data types: {<class 'float'>}\n",
            "Column 'step04_features/time_event' contains these data types: {<class 'float'>}\n",
            "Column 'step04_features/time_millis' contains these data types: {<class 'float'>}\n",
            "Column 'step04_features/time_nanos' contains these data types: {<class 'float'>}\n",
            "Column 'step05_features/accel_x' contains these data types: {<class 'float'>}\n",
            "Column 'step05_features/accel_y' contains these data types: {<class 'float'>}\n",
            "Column 'step05_features/accel_z' contains these data types: {<class 'float'>}\n",
            "Column 'step05_features/time_event' contains these data types: {<class 'float'>}\n",
            "Column 'step05_features/time_millis' contains these data types: {<class 'float'>}\n",
            "Column 'step05_features/time_nanos' contains these data types: {<class 'float'>}\n",
            "Column 'step06_features/accel_x' contains these data types: {<class 'float'>}\n",
            "Column 'step06_features/accel_y' contains these data types: {<class 'float'>}\n",
            "Column 'step06_features/accel_z' contains these data types: {<class 'float'>}\n",
            "Column 'step06_features/time_event' contains these data types: {<class 'float'>}\n",
            "Column 'step06_features/time_millis' contains these data types: {<class 'float'>}\n",
            "Column 'step06_features/time_nanos' contains these data types: {<class 'float'>}\n",
            "Column 'step07_features/accel_x' contains these data types: {<class 'float'>}\n",
            "Column 'step07_features/accel_y' contains these data types: {<class 'float'>}\n",
            "Column 'step07_features/accel_z' contains these data types: {<class 'float'>}\n",
            "Column 'step07_features/time_event' contains these data types: {<class 'float'>}\n",
            "Column 'step07_features/time_millis' contains these data types: {<class 'float'>}\n",
            "Column 'step07_features/time_nanos' contains these data types: {<class 'float'>}\n",
            "Column 'step08_features/accel_x' contains these data types: {<class 'float'>}\n",
            "Column 'step08_features/accel_y' contains these data types: {<class 'float'>}\n",
            "Column 'step08_features/accel_z' contains these data types: {<class 'float'>}\n",
            "Column 'step08_features/time_event' contains these data types: {<class 'float'>}\n",
            "Column 'step08_features/time_millis' contains these data types: {<class 'float'>}\n",
            "Column 'step08_features/time_nanos' contains these data types: {<class 'float'>}\n",
            "Column 'step09_features/accel_x' contains these data types: {<class 'float'>}\n",
            "Column 'step09_features/accel_y' contains these data types: {<class 'float'>}\n",
            "Column 'step09_features/accel_z' contains these data types: {<class 'float'>}\n",
            "Column 'step09_features/time_event' contains these data types: {<class 'float'>}\n",
            "Column 'step09_features/time_millis' contains these data types: {<class 'float'>}\n",
            "Column 'step09_features/time_nanos' contains these data types: {<class 'float'>}\n",
            "Column 'step10_features/accel_x' contains these data types: {<class 'float'>}\n",
            "Column 'step10_features/accel_y' contains these data types: {<class 'float'>}\n",
            "Column 'step10_features/accel_z' contains these data types: {<class 'float'>}\n",
            "Column 'step10_features/time_event' contains these data types: {<class 'float'>}\n",
            "Column 'step10_features/time_millis' contains these data types: {<class 'float'>}\n",
            "Column 'step10_features/time_nanos' contains these data types: {<class 'float'>}\n",
            "Column 'step11_features/accel_x' contains these data types: {<class 'float'>}\n",
            "Column 'step11_features/accel_y' contains these data types: {<class 'float'>}\n",
            "Column 'step11_features/accel_z' contains these data types: {<class 'float'>}\n",
            "Column 'step11_features/time_event' contains these data types: {<class 'float'>}\n",
            "Column 'step11_features/time_millis' contains these data types: {<class 'float'>}\n",
            "Column 'step11_features/time_nanos' contains these data types: {<class 'float'>}\n",
            "Column 'step12_features/accel_x' contains these data types: {<class 'float'>}\n",
            "Column 'step12_features/accel_y' contains these data types: {<class 'float'>}\n",
            "Column 'step12_features/accel_z' contains these data types: {<class 'float'>}\n",
            "Column 'step12_features/time_event' contains these data types: {<class 'float'>}\n",
            "Column 'step12_features/time_millis' contains these data types: {<class 'float'>}\n",
            "Column 'step12_features/time_nanos' contains these data types: {<class 'float'>}\n",
            "Column 'step13_features/accel_x' contains these data types: {<class 'float'>}\n",
            "Column 'step13_features/accel_y' contains these data types: {<class 'float'>}\n",
            "Column 'step13_features/accel_z' contains these data types: {<class 'float'>}\n",
            "Column 'step13_features/time_event' contains these data types: {<class 'float'>}\n",
            "Column 'step13_features/time_millis' contains these data types: {<class 'float'>}\n",
            "Column 'step13_features/time_nanos' contains these data types: {<class 'float'>}\n",
            "Column 'step14_features/accel_x' contains these data types: {<class 'float'>}\n",
            "Column 'step14_features/accel_y' contains these data types: {<class 'float'>}\n",
            "Column 'step14_features/accel_z' contains these data types: {<class 'float'>}\n",
            "Column 'step14_features/time_event' contains these data types: {<class 'float'>}\n",
            "Column 'step14_features/time_millis' contains these data types: {<class 'float'>}\n",
            "Column 'step14_features/time_nanos' contains these data types: {<class 'float'>}\n",
            "Column 'step15_features/accel_x' contains these data types: {<class 'float'>}\n",
            "Column 'step15_features/accel_y' contains these data types: {<class 'float'>}\n",
            "Column 'step15_features/accel_z' contains these data types: {<class 'float'>}\n",
            "Column 'step15_features/time_event' contains these data types: {<class 'float'>}\n",
            "Column 'step15_features/time_millis' contains these data types: {<class 'float'>}\n",
            "Column 'step15_features/time_nanos' contains these data types: {<class 'float'>}\n",
            "Column 'step16_features/accel_x' contains these data types: {<class 'float'>}\n",
            "Column 'step16_features/accel_y' contains these data types: {<class 'float'>}\n",
            "Column 'step16_features/accel_z' contains these data types: {<class 'float'>}\n",
            "Column 'step16_features/time_event' contains these data types: {<class 'float'>}\n",
            "Column 'step16_features/time_millis' contains these data types: {<class 'float'>}\n",
            "Column 'step16_features/time_nanos' contains these data types: {<class 'float'>}\n",
            "Column 'step17_features/accel_x' contains these data types: {<class 'float'>}\n",
            "Column 'step17_features/accel_y' contains these data types: {<class 'float'>}\n",
            "Column 'step17_features/accel_z' contains these data types: {<class 'float'>}\n",
            "Column 'step17_features/time_event' contains these data types: {<class 'float'>}\n",
            "Column 'step17_features/time_millis' contains these data types: {<class 'float'>}\n",
            "Column 'step17_features/time_nanos' contains these data types: {<class 'float'>}\n",
            "Column 'step18_features/accel_x' contains these data types: {<class 'float'>}\n",
            "Column 'step18_features/accel_y' contains these data types: {<class 'float'>}\n",
            "Column 'step18_features/accel_z' contains these data types: {<class 'float'>}\n",
            "Column 'step18_features/time_event' contains these data types: {<class 'float'>}\n",
            "Column 'step18_features/time_millis' contains these data types: {<class 'float'>}\n",
            "Column 'step18_features/time_nanos' contains these data types: {<class 'float'>}\n",
            "Column 'step19_features/accel_x' contains these data types: {<class 'float'>}\n",
            "Column 'step19_features/accel_y' contains these data types: {<class 'float'>}\n",
            "Column 'step19_features/accel_z' contains these data types: {<class 'float'>}\n",
            "Column 'step19_features/time_event' contains these data types: {<class 'float'>}\n",
            "Column 'step19_features/time_millis' contains these data types: {<class 'float'>}\n",
            "Column 'step19_features/time_nanos' contains these data types: {<class 'float'>}\n",
            "Column 'step20_features/accel_x' contains these data types: {<class 'float'>}\n",
            "Column 'step20_features/accel_y' contains these data types: {<class 'float'>}\n",
            "Column 'step20_features/accel_z' contains these data types: {<class 'float'>}\n",
            "Column 'step20_features/time_event' contains these data types: {<class 'float'>}\n",
            "Column 'step20_features/time_millis' contains these data types: {<class 'float'>}\n",
            "Column 'step20_features/time_nanos' contains these data types: {<class 'float'>}\n",
            "Column 'step21_features/accel_x' contains these data types: {<class 'float'>}\n",
            "Column 'step21_features/accel_y' contains these data types: {<class 'float'>}\n",
            "Column 'step21_features/accel_z' contains these data types: {<class 'float'>}\n",
            "Column 'step21_features/time_event' contains these data types: {<class 'float'>}\n",
            "Column 'step21_features/time_millis' contains these data types: {<class 'float'>}\n",
            "Column 'step21_features/time_nanos' contains these data types: {<class 'float'>}\n",
            "Column 'step22_features/accel_x' contains these data types: {<class 'float'>}\n",
            "Column 'step22_features/accel_y' contains these data types: {<class 'float'>}\n",
            "Column 'step22_features/accel_z' contains these data types: {<class 'float'>}\n",
            "Column 'step22_features/time_event' contains these data types: {<class 'float'>}\n",
            "Column 'step22_features/time_millis' contains these data types: {<class 'float'>}\n",
            "Column 'step22_features/time_nanos' contains these data types: {<class 'float'>}\n",
            "Column 'step23_features/accel_x' contains these data types: {<class 'float'>}\n",
            "Column 'step23_features/accel_y' contains these data types: {<class 'float'>}\n",
            "Column 'step23_features/accel_z' contains these data types: {<class 'float'>}\n",
            "Column 'step23_features/time_event' contains these data types: {<class 'float'>}\n",
            "Column 'step23_features/time_millis' contains these data types: {<class 'float'>}\n",
            "Column 'step23_features/time_nanos' contains these data types: {<class 'float'>}\n",
            "Column 'step24_features/accel_x' contains these data types: {<class 'float'>}\n",
            "Column 'step24_features/accel_y' contains these data types: {<class 'float'>}\n",
            "Column 'step24_features/accel_z' contains these data types: {<class 'float'>}\n",
            "Column 'step24_features/time_event' contains these data types: {<class 'float'>}\n",
            "Column 'step24_features/time_millis' contains these data types: {<class 'float'>}\n",
            "Column 'step24_features/time_nanos' contains these data types: {<class 'float'>}\n",
            "Column 'step25_features/accel_x' contains these data types: {<class 'float'>}\n",
            "Column 'step25_features/accel_y' contains these data types: {<class 'float'>}\n",
            "Column 'step25_features/accel_z' contains these data types: {<class 'float'>}\n",
            "Column 'step25_features/time_event' contains these data types: {<class 'float'>}\n",
            "Column 'step25_features/time_millis' contains these data types: {<class 'float'>}\n",
            "Column 'step25_features/time_nanos' contains these data types: {<class 'float'>}\n",
            "Column 'step26_features/accel_x' contains these data types: {<class 'float'>}\n",
            "Column 'step26_features/accel_y' contains these data types: {<class 'float'>}\n",
            "Column 'step26_features/accel_z' contains these data types: {<class 'float'>}\n",
            "Column 'step26_features/time_event' contains these data types: {<class 'float'>}\n",
            "Column 'step26_features/time_millis' contains these data types: {<class 'float'>}\n",
            "Column 'step26_features/time_nanos' contains these data types: {<class 'float'>}\n",
            "Column 'step27_features/accel_x' contains these data types: {<class 'float'>}\n",
            "Column 'step27_features/accel_y' contains these data types: {<class 'float'>}\n",
            "Column 'step27_features/accel_z' contains these data types: {<class 'float'>}\n",
            "Column 'step27_features/time_event' contains these data types: {<class 'float'>}\n",
            "Column 'step27_features/time_millis' contains these data types: {<class 'float'>}\n",
            "Column 'step27_features/time_nanos' contains these data types: {<class 'float'>}\n",
            "Column 'step28_features/accel_x' contains these data types: {<class 'float'>}\n",
            "Column 'step28_features/accel_y' contains these data types: {<class 'float'>}\n",
            "Column 'step28_features/accel_z' contains these data types: {<class 'float'>}\n",
            "Column 'step28_features/time_event' contains these data types: {<class 'float'>}\n",
            "Column 'step28_features/time_millis' contains these data types: {<class 'float'>}\n",
            "Column 'step28_features/time_nanos' contains these data types: {<class 'float'>}\n",
            "Column 'step29_features/accel_x' contains these data types: {<class 'float'>}\n",
            "Column 'step29_features/accel_y' contains these data types: {<class 'float'>}\n",
            "Column 'step29_features/accel_z' contains these data types: {<class 'float'>}\n",
            "Column 'step29_features/time_event' contains these data types: {<class 'float'>}\n",
            "Column 'step29_features/time_millis' contains these data types: {<class 'float'>}\n",
            "Column 'step29_features/time_nanos' contains these data types: {<class 'float'>}\n",
            "Column 'step30_features/accel_x' contains these data types: {<class 'float'>}\n",
            "Column 'step30_features/accel_y' contains these data types: {<class 'float'>}\n",
            "Column 'step30_features/accel_z' contains these data types: {<class 'float'>}\n",
            "Column 'step30_features/time_event' contains these data types: {<class 'float'>}\n",
            "Column 'step30_features/time_millis' contains these data types: {<class 'float'>}\n",
            "Column 'step30_features/time_nanos' contains these data types: {<class 'float'>}\n",
            "Column 'step31_features/accel_x' contains these data types: {<class 'float'>}\n",
            "Column 'step31_features/accel_y' contains these data types: {<class 'float'>}\n",
            "Column 'step31_features/accel_z' contains these data types: {<class 'float'>}\n",
            "Column 'step31_features/time_event' contains these data types: {<class 'float'>}\n",
            "Column 'step31_features/time_millis' contains these data types: {<class 'float'>}\n",
            "Column 'step31_features/time_nanos' contains these data types: {<class 'float'>}\n",
            "Column 'step32_features/accel_x' contains these data types: {<class 'float'>}\n",
            "Column 'step32_features/accel_y' contains these data types: {<class 'float'>}\n",
            "Column 'step32_features/accel_z' contains these data types: {<class 'float'>}\n",
            "Column 'step32_features/time_event' contains these data types: {<class 'float'>}\n",
            "Column 'step32_features/time_millis' contains these data types: {<class 'float'>}\n",
            "Column 'step32_features/time_nanos' contains these data types: {<class 'float'>}\n",
            "Column 'step33_features/accel_x' contains these data types: {<class 'float'>}\n",
            "Column 'step33_features/accel_y' contains these data types: {<class 'float'>}\n",
            "Column 'step33_features/accel_z' contains these data types: {<class 'float'>}\n",
            "Column 'step33_features/time_event' contains these data types: {<class 'float'>}\n",
            "Column 'step33_features/time_millis' contains these data types: {<class 'float'>}\n",
            "Column 'step33_features/time_nanos' contains these data types: {<class 'float'>}\n",
            "Column 'step34_features/accel_x' contains these data types: {<class 'float'>}\n",
            "Column 'step34_features/accel_y' contains these data types: {<class 'float'>}\n",
            "Column 'step34_features/accel_z' contains these data types: {<class 'float'>}\n",
            "Column 'step34_features/time_event' contains these data types: {<class 'float'>}\n",
            "Column 'step34_features/time_millis' contains these data types: {<class 'float'>}\n",
            "Column 'step34_features/time_nanos' contains these data types: {<class 'float'>}\n",
            "Column 'step35_features/accel_x' contains these data types: {<class 'float'>}\n",
            "Column 'step35_features/accel_y' contains these data types: {<class 'float'>}\n",
            "Column 'step35_features/accel_z' contains these data types: {<class 'float'>}\n",
            "Column 'step35_features/time_event' contains these data types: {<class 'float'>}\n",
            "Column 'step35_features/time_millis' contains these data types: {<class 'float'>}\n",
            "Column 'step35_features/time_nanos' contains these data types: {<class 'float'>}\n",
            "Column 'step36_features/accel_x' contains these data types: {<class 'float'>}\n",
            "Column 'step36_features/accel_y' contains these data types: {<class 'float'>}\n",
            "Column 'step36_features/accel_z' contains these data types: {<class 'float'>}\n",
            "Column 'step36_features/time_event' contains these data types: {<class 'float'>}\n",
            "Column 'step36_features/time_millis' contains these data types: {<class 'float'>}\n",
            "Column 'step36_features/time_nanos' contains these data types: {<class 'float'>}\n",
            "Column 'step37_features/accel_x' contains these data types: {<class 'float'>}\n",
            "Column 'step37_features/accel_y' contains these data types: {<class 'float'>}\n",
            "Column 'step37_features/accel_z' contains these data types: {<class 'float'>}\n",
            "Column 'step37_features/time_event' contains these data types: {<class 'float'>}\n",
            "Column 'step37_features/time_millis' contains these data types: {<class 'float'>}\n",
            "Column 'step37_features/time_nanos' contains these data types: {<class 'float'>}\n",
            "Column 'step38_features/accel_x' contains these data types: {<class 'float'>}\n",
            "Column 'step38_features/accel_y' contains these data types: {<class 'float'>}\n",
            "Column 'step38_features/accel_z' contains these data types: {<class 'float'>}\n",
            "Column 'step38_features/time_event' contains these data types: {<class 'float'>}\n",
            "Column 'step38_features/time_millis' contains these data types: {<class 'float'>}\n",
            "Column 'step38_features/time_nanos' contains these data types: {<class 'float'>}\n",
            "Column 'step39_features/accel_x' contains these data types: {<class 'float'>}\n",
            "Column 'step39_features/accel_y' contains these data types: {<class 'float'>}\n",
            "Column 'step39_features/accel_z' contains these data types: {<class 'float'>}\n",
            "Column 'step39_features/time_event' contains these data types: {<class 'float'>}\n",
            "Column 'step39_features/time_millis' contains these data types: {<class 'float'>}\n",
            "Column 'step39_features/time_nanos' contains these data types: {<class 'float'>}\n",
            "Column 'step40_features/accel_x' contains these data types: {<class 'float'>}\n",
            "Column 'step40_features/accel_y' contains these data types: {<class 'float'>}\n",
            "Column 'step40_features/accel_z' contains these data types: {<class 'float'>}\n",
            "Column 'step40_features/time_event' contains these data types: {<class 'float'>}\n",
            "Column 'step40_features/time_millis' contains these data types: {<class 'float'>}\n",
            "Column 'step40_features/time_nanos' contains these data types: {<class 'float'>}\n",
            "Column 'step41_features/accel_x' contains these data types: {<class 'float'>}\n",
            "Column 'step41_features/accel_y' contains these data types: {<class 'float'>}\n",
            "Column 'step41_features/accel_z' contains these data types: {<class 'float'>}\n",
            "Column 'step41_features/time_event' contains these data types: {<class 'float'>}\n",
            "Column 'step41_features/time_millis' contains these data types: {<class 'float'>}\n",
            "Column 'step41_features/time_nanos' contains these data types: {<class 'float'>}\n",
            "Column 'step42_features/accel_x' contains these data types: {<class 'float'>}\n",
            "Column 'step42_features/accel_y' contains these data types: {<class 'float'>}\n",
            "Column 'step42_features/accel_z' contains these data types: {<class 'float'>}\n",
            "Column 'step42_features/time_event' contains these data types: {<class 'float'>}\n",
            "Column 'step42_features/time_millis' contains these data types: {<class 'float'>}\n",
            "Column 'step42_features/time_nanos' contains these data types: {<class 'float'>}\n",
            "Column 'step43_features/accel_x' contains these data types: {<class 'float'>}\n",
            "Column 'step43_features/accel_y' contains these data types: {<class 'float'>}\n",
            "Column 'step43_features/accel_z' contains these data types: {<class 'float'>}\n",
            "Column 'step43_features/time_event' contains these data types: {<class 'float'>}\n",
            "Column 'step43_features/time_millis' contains these data types: {<class 'float'>}\n",
            "Column 'step43_features/time_nanos' contains these data types: {<class 'float'>}\n",
            "Column 'step44_features/accel_x' contains these data types: {<class 'float'>}\n",
            "Column 'step44_features/accel_y' contains these data types: {<class 'float'>}\n",
            "Column 'step44_features/accel_z' contains these data types: {<class 'float'>}\n",
            "Column 'step44_features/time_event' contains these data types: {<class 'float'>}\n",
            "Column 'step44_features/time_millis' contains these data types: {<class 'float'>}\n",
            "Column 'step44_features/time_nanos' contains these data types: {<class 'float'>}\n",
            "Column 'step45_features/accel_x' contains these data types: {<class 'float'>}\n",
            "Column 'step45_features/accel_y' contains these data types: {<class 'float'>}\n",
            "Column 'step45_features/accel_z' contains these data types: {<class 'float'>}\n",
            "Column 'step45_features/time_event' contains these data types: {<class 'float'>}\n",
            "Column 'step45_features/time_millis' contains these data types: {<class 'float'>}\n",
            "Column 'step45_features/time_nanos' contains these data types: {<class 'float'>}\n",
            "Column 'step46_features/accel_x' contains these data types: {<class 'float'>}\n",
            "Column 'step46_features/accel_y' contains these data types: {<class 'float'>}\n",
            "Column 'step46_features/accel_z' contains these data types: {<class 'float'>}\n",
            "Column 'step46_features/time_event' contains these data types: {<class 'float'>}\n",
            "Column 'step46_features/time_millis' contains these data types: {<class 'float'>}\n",
            "Column 'step46_features/time_nanos' contains these data types: {<class 'float'>}\n",
            "Column 'step47_features/accel_x' contains these data types: {<class 'float'>}\n",
            "Column 'step47_features/accel_y' contains these data types: {<class 'float'>}\n",
            "Column 'step47_features/accel_z' contains these data types: {<class 'float'>}\n",
            "Column 'step47_features/time_event' contains these data types: {<class 'float'>}\n",
            "Column 'step47_features/time_millis' contains these data types: {<class 'float'>}\n",
            "Column 'step47_features/time_nanos' contains these data types: {<class 'float'>}\n",
            "Column 'step48_features/accel_x' contains these data types: {<class 'float'>}\n",
            "Column 'step48_features/accel_y' contains these data types: {<class 'float'>}\n",
            "Column 'step48_features/accel_z' contains these data types: {<class 'float'>}\n",
            "Column 'step48_features/time_event' contains these data types: {<class 'float'>}\n",
            "Column 'step48_features/time_millis' contains these data types: {<class 'float'>}\n",
            "Column 'step48_features/time_nanos' contains these data types: {<class 'float'>}\n",
            "Column 'step49_features/accel_x' contains these data types: {<class 'float'>}\n",
            "Column 'step49_features/accel_y' contains these data types: {<class 'float'>}\n",
            "Column 'step49_features/accel_z' contains these data types: {<class 'float'>}\n",
            "Column 'step49_features/time_event' contains these data types: {<class 'float'>}\n",
            "Column 'step49_features/time_millis' contains these data types: {<class 'float'>}\n",
            "Column 'step49_features/time_nanos' contains these data types: {<class 'float'>}\n",
            "Column 'step50_features/accel_x' contains these data types: {<class 'float'>}\n",
            "Column 'step50_features/accel_y' contains these data types: {<class 'float'>}\n",
            "Column 'step50_features/accel_z' contains these data types: {<class 'float'>}\n",
            "Column 'step50_features/time_event' contains these data types: {<class 'float'>}\n",
            "Column 'step50_features/time_millis' contains these data types: {<class 'float'>}\n",
            "Column 'step50_features/time_nanos' contains these data types: {<class 'float'>}\n",
            "Column 'step51_features/accel_x' contains these data types: {<class 'float'>}\n",
            "Column 'step51_features/accel_y' contains these data types: {<class 'float'>}\n",
            "Column 'step51_features/accel_z' contains these data types: {<class 'float'>}\n",
            "Column 'step51_features/time_event' contains these data types: {<class 'float'>}\n",
            "Column 'step51_features/time_millis' contains these data types: {<class 'float'>}\n",
            "Column 'step51_features/time_nanos' contains these data types: {<class 'float'>}\n"
          ]
        }
      ]
    },
    {
      "cell_type": "code",
      "source": [
        "df.dtypes"
      ],
      "metadata": {
        "colab": {
          "base_uri": "https://localhost:8080/"
        },
        "id": "RTGGGRfVcfpv",
        "outputId": "698dbbb9-fbe1-4fb0-f619-edeccdb78100"
      },
      "execution_count": null,
      "outputs": [
        {
          "output_type": "execute_result",
          "data": {
            "text/plain": [
              "info_gesture                    object\n",
              "info_participant                object\n",
              "info_attempt                    object\n",
              "info_nano_span                   int64\n",
              "step01_features/accel_x        float64\n",
              "                                ...   \n",
              "step51_features/accel_y        float64\n",
              "step51_features/accel_z        float64\n",
              "step51_features/time_event     float64\n",
              "step51_features/time_millis    float64\n",
              "step51_features/time_nanos     float64\n",
              "Length: 310, dtype: object"
            ]
          },
          "metadata": {},
          "execution_count": 48
        }
      ]
    },
    {
      "cell_type": "markdown",
      "source": [
        "The `dtype` output indicates that the data type conversion was successful. The DataFrame contains a mix of object (strings 'str'), integer (int64), and floating-point (float64) data types across its columns.\n",
        "\n",
        "Columns `info_gesture`, `info_participant`, and `info_attempt` are of type object (string), containing identifiers or categorical data describing each observation.\n",
        "\n",
        "Column `info_nano_span` is of type int64, indicating it contains integer values. Its name suggests it might relate to timing or duration, possibly representing the span or duration of something in nanoseconds. Being an integer, this column can be used for numerical operations.\n",
        "\n",
        "Columns from `step01_features/accel_x` to `step51_features/time_nanos` are of type float64. The use of floating-point numbers allows for the representation of a wide range of decimal values, suitable for precise measurements.\n",
        "\n",
        "This structured approach to data typing ensures that operations appropriate for each type of data can be applied correctly, preserving the integrity and usability of the dataset."
      ],
      "metadata": {
        "id": "WDzVKG35g7fV"
      }
    },
    {
      "cell_type": "markdown",
      "source": [
        "Next, we check for NaN values to determine if there are any NaN values in the DataFrame, especially in columns converted to float64. We use the `.isna()` method combined with `.any()` to check each column."
      ],
      "metadata": {
        "id": "IVSfHU4ehSxb"
      }
    },
    {
      "cell_type": "code",
      "source": [
        "# Check for any NaN values in each column\n",
        "nan_columns = df.isna().any()\n",
        "\n",
        "# Print columns that contain NaN values\n",
        "print(nan_columns[nan_columns == True])"
      ],
      "metadata": {
        "colab": {
          "base_uri": "https://localhost:8080/"
        },
        "id": "YI1girKLf7g4",
        "outputId": "75f779a3-645b-490e-e8b4-b200e27a3d19"
      },
      "execution_count": null,
      "outputs": [
        {
          "output_type": "stream",
          "name": "stdout",
          "text": [
            "Series([], dtype: bool)\n"
          ]
        }
      ]
    },
    {
      "cell_type": "markdown",
      "source": [
        "This means that no columns have NaN values. This output is a good sign when you're verifying the cleanliness of the data."
      ],
      "metadata": {
        "id": "n0EGINA2go4J"
      }
    },
    {
      "cell_type": "markdown",
      "source": [
        "Next, we check for duplicate values in the DataFrame using the `duplicated()` method. This method returns a boolean series indicating whether each row is a duplicate of a previous row within the DataFrame."
      ],
      "metadata": {
        "id": "_7ccl2-Jl1zD"
      }
    },
    {
      "cell_type": "code",
      "source": [
        "# Find duplicate rows\n",
        "duplicate_rows = df.duplicated()\n",
        "\n",
        "# Count the number of duplicate rows\n",
        "num_duplicate_rows = duplicate_rows.sum()\n",
        "print(f\"Number of duplicate rows: {num_duplicate_rows}\")"
      ],
      "metadata": {
        "colab": {
          "base_uri": "https://localhost:8080/"
        },
        "id": "LDosFfhdlUFC",
        "outputId": "a1f5e367-f78b-4cf5-d3d1-30bf97e370e2"
      },
      "execution_count": null,
      "outputs": [
        {
          "output_type": "stream",
          "name": "stdout",
          "text": [
            "Number of duplicate rows: 0\n"
          ]
        }
      ]
    },
    {
      "cell_type": "markdown",
      "source": [
        "This analysis confirms that, based on the criteria applied by `df.duplicated()`, there are no rows in the DataFrame that are exact duplicates of another row across all columns.\n",
        "\n",
        "The dataset does not have any rows that are entirely identical across all 310 columns. This implies that each row represents a distinct observation or record without any exact replication.\n",
        "\n",
        "The lack of duplicate rows typically indicates good data quality."
      ],
      "metadata": {
        "id": "O4FdWdO5mJDF"
      }
    },
    {
      "cell_type": "markdown",
      "source": [
        "###Creating a train-test split including validation set"
      ],
      "metadata": {
        "id": "3i5peBk0krPz"
      }
    },
    {
      "cell_type": "markdown",
      "source": [
        "Create a train-test split over the participants. The train test should contain data from 5 randomly selected participants, while the rest of the participants' (3) data should constitute the test set."
      ],
      "metadata": {
        "id": "X80k1SAb5lEE"
      }
    },
    {
      "cell_type": "code",
      "source": [
        "# Get unique participants\n",
        "participants = df['info_participant'].unique()\n",
        "\n",
        "# Randomly select 5 participants for training and use the rest for testing\n",
        "train_participants, test_participants = train_test_split(participants, test_size=3, train_size=5, random_state=42)\n",
        "\n",
        "# Split the data based on the selected participants\n",
        "train_data = df[df['info_participant'].isin(train_participants)]\n",
        "test_data = df[df['info_participant'].isin(test_participants)]\n",
        "\n",
        "# Randomly select 1 participant for validation\n",
        "test_participants, val_participants = train_test_split(test_participants, test_size=1, random_state=42)\n",
        "\n",
        "# Now split the test_data further into testing and validation sets\n",
        "val_data = test_data[test_data['info_participant'].isin(val_participants)]\n",
        "test_data = test_data[~test_data['info_participant'].isin(val_participants)]\n",
        "\n",
        "# Verification steps:\n",
        "# 1. Check there's no overlap in participants\n",
        "assert set(train_participants).isdisjoint(set(test_participants)), \"Participants overlap between train and test sets.\"\n",
        "\n",
        "# 2. Verify the number of participants in each set\n",
        "print(f\"Training set participants: {train_participants}\")\n",
        "print(f\"Testing set participants: {test_participants}\")\n",
        "print(f\"Validation set participants: {val_participants}\")\n",
        "\n",
        "# 3. Inspect the distribution of data points per participant\n",
        "print(\"\\nDistribution in the training set:\")\n",
        "print(train_data['info_participant'].value_counts())\n",
        "\n",
        "print(\"\\nDistribution in the testing set:\")\n",
        "print(test_data['info_participant'].value_counts())\n",
        "\n",
        "print(\"\\nDistribution in the validation set:\")\n",
        "print(val_data['info_participant'].value_counts())\n",
        "\n",
        "print(train_data.shape)\n",
        "print(test_data.shape)\n",
        "print(val_data.shape)\n",
        "\n",
        "assert train_data.shape==(2020,310)\n",
        "assert test_data.shape==(802,310)\n",
        "assert val_data.shape==(429,310)"
      ],
      "metadata": {
        "id": "3P1zsII25g9D",
        "colab": {
          "base_uri": "https://localhost:8080/"
        },
        "outputId": "fd545140-68c9-464f-cdf6-f5d9c01df620"
      },
      "execution_count": null,
      "outputs": [
        {
          "output_type": "stream",
          "name": "stdout",
          "text": [
            "Training set participants: ['2' '8' '6' '7' '1']\n",
            "Testing set participants: ['5' '4']\n",
            "Validation set participants: ['3']\n",
            "\n",
            "Distribution in the training set:\n",
            "info_participant\n",
            "2    417\n",
            "8    401\n",
            "6    401\n",
            "1    401\n",
            "7    400\n",
            "Name: count, dtype: int64\n",
            "\n",
            "Distribution in the testing set:\n",
            "info_participant\n",
            "5    402\n",
            "4    400\n",
            "Name: count, dtype: int64\n",
            "\n",
            "Distribution in the validation set:\n",
            "info_participant\n",
            "3    429\n",
            "Name: count, dtype: int64\n",
            "(2020, 310)\n",
            "(802, 310)\n",
            "(429, 310)\n"
          ]
        }
      ]
    },
    {
      "cell_type": "markdown",
      "source": [
        "The code includes several checks to ensure the correctness of the train-test split based on participants:\n",
        "\n",
        "1. **Overlap Check**: The first assert statement verifies that there is no overlap of participants between the training and testing datasets. If an overlap exists, an error will be raised.\n",
        "\n",
        "2. **Unique Participant Count**: After the overlap check, the code prints the count of unique participants in each dataset to verify that the expected numbers are obtained.\n",
        "\n",
        "3. **Data Distribution Visualization**: Lastly, the code displays the distribution of data points for each participant within the training and testing datasets. This visualization allows for a visual inspection of whether the split appears logical based on the number of rows associated with each participant.\n",
        "\n",
        "These checks collectively ensure that the train-test split based on participants was executed correctly.\n",
        "\n",
        "**Analysis:**\n",
        "The distributions in the training and testing sets seem appropriate. However, it's crucial to evaluate the model's performance specifically on participant '3' in the validation set. Since this participant is the sole representative in the validation set, their impact on the model's generalization ability is significant.\n"
      ],
      "metadata": {
        "id": "7XLN-uf8t6YB"
      }
    },
    {
      "cell_type": "markdown",
      "source": [
        "###Standardisation"
      ],
      "metadata": {
        "id": "1Lq667Rjt_PO"
      }
    },
    {
      "cell_type": "markdown",
      "source": [
        "Standardize (z-scale) the data in the following manner:\n",
        "\n",
        "- Scale all \"features/accel_...\" variables using their overall mean and standard deviation (i.e., not feature-specific mean and standard deviation).\n",
        "- Scale all \"features/time_...\" using their overall mean and standard deviation (i.e., not feature-specific mean and standard deviation)."
      ],
      "metadata": {
        "id": "Yzlwqps_tVIG"
      }
    },
    {
      "cell_type": "code",
      "source": [
        "# Select all acceleration and time features\n",
        "accel_features = [col for col in df.columns if 'features/accel' in col]\n",
        "time_features = [col for col in df.columns if 'features/time' in col]\n",
        "\n",
        "# Calculate overall mean and standard deviation for \"features/accel_\" columns\n",
        "overall_accel_mean = df[accel_features].values.mean()\n",
        "overall_accel_std = df[accel_features].values.std()\n",
        "print(f\"Acceleration Features - Mean: {overall_accel_mean}, Standard Deviation: {overall_accel_std}\")\n",
        "\n",
        "# Calculate overall mean and standard deviation for \"features/time_\" columns\n",
        "overall_time_mean = df[time_features].values.mean()\n",
        "overall_time_std = df[time_features].values.std()\n",
        "print(f\"Time Features - Mean: {overall_time_mean}, Standard Deviation: {overall_time_std}\")\n",
        "\n",
        "# Scale \"features/accel_\" using overall mean and standard deviation\n",
        "scaler_accel = StandardScaler()\n",
        "scaled_accel = scaler_accel.fit_transform(df[accel_features])\n",
        "\n",
        "# Scale \"features/time_\" using overall mean and standard deviation\n",
        "scaler_time = StandardScaler()\n",
        "scaled_time = scaler_time.fit_transform(df[time_features])\n",
        "\n",
        "# Replace original columns with scaled values in DataFrame\n",
        "df[accel_features] = scaled_accel\n",
        "df[time_features] = scaled_time\n",
        "\n",
        "# Calculate scaled overall mean and standard deviation for \"features/accel_\" columns\n",
        "scaled_accel_mean = df[accel_features].values.mean()\n",
        "scaled_accel_std = df[accel_features].values.std()\n",
        "print(f\"Acceleration Features - Mean: {scaled_accel_mean}, Standard Deviation: {scaled_accel_std}\")\n",
        "\n",
        "# Calculate scaled overall mean and standard deviation for \"features/time_\" columns\n",
        "scaled_time_mean = df[time_features].values.mean()\n",
        "scaled_time_std = df[time_features].values.std()\n",
        "print(f\"Time Features - Mean: {scaled_time_mean}, Standard Deviation: {scaled_time_std}\")"
      ],
      "metadata": {
        "colab": {
          "base_uri": "https://localhost:8080/"
        },
        "id": "OuPsutoptcHz",
        "outputId": "cacc7bdf-2881-42e2-fdfd-c0409fefe217"
      },
      "execution_count": null,
      "outputs": [
        {
          "output_type": "stream",
          "name": "stdout",
          "text": [
            "Acceleration Features - Mean: 1.2848718017804475, Standard Deviation: 4.23290963905606\n",
            "Time Features - Mean: 29441066887184.027, Standard Deviation: 110073689650063.38\n",
            "Acceleration Features - Mean: 5.928296277675076e-18, Standard Deviation: 1.0\n",
            "Time Features - Mean: -4.993253961647365e-15, Standard Deviation: 1.0\n"
          ]
        }
      ]
    },
    {
      "cell_type": "markdown",
      "source": [
        "Z-scaling the features makes their average value 0 and their spread 1. This doesn't change how the data looks, just how it's measured. It keeps the relationships between data points intact.\n",
        "\n",
        "Seeing means close to 0 and standard deviations near 1 means the scaling worked. This makes the features more similar in terms of stats, which is good for many machine learning methods.\n",
        "\n",
        "Overall, this helps algorithms work better by making sure all features are in the same range. It can make them learn faster and more accurately."
      ],
      "metadata": {
        "id": "8rwGj6GUM5tZ"
      }
    },
    {
      "cell_type": "markdown",
      "source": [
        "## Training and Modelling"
      ],
      "metadata": {
        "id": "EBUNzYt4XGKS"
      }
    },
    {
      "cell_type": "markdown",
      "source": [
        "Since the target variable is the \"nano_span\", and the input variables are all the \"step...\" variables, we need to extract these accordingly."
      ],
      "metadata": {
        "id": "Qr3K6HxeXM2E"
      }
    },
    {
      "cell_type": "code",
      "source": [
        "# Extract input features for both training and testing sets (all columns that start with \"step\")\n",
        "input_features_train = [col for col in train_data.columns if col.startswith('step')]\n",
        "input_features_test = [col for col in test_data.columns if col.startswith('step')]\n",
        "input_features_val = [col for col in val_data.columns if col.startswith('step')]\n",
        "\n",
        "target_variable = 'info_nano_span'\n",
        "\n",
        "# Define the input DataFrames for both training and testing sets using the input features\n",
        "X_train = train_data[input_features_train]\n",
        "X_test = test_data[input_features_test]\n",
        "X_val = val_data[input_features_val]\n",
        "\n",
        "# Define the target variable for both training and testing sets as nano_span\n",
        "y_train = train_data[target_variable]\n",
        "y_test = test_data[target_variable]\n",
        "y_val = val_data[target_variable]\n",
        "\n",
        "# Checking the shapes of X_train, y_train, X_test, and y_test to ensure they are aligned\n",
        "print(f\"Shape of Training Input Features (X_train): {X_train.shape}\")\n",
        "print(f\"Shape of Training Target Variable (y_train): {y_train.shape}\")\n",
        "print(f\"Shape of Testing Input Features (X_test): {X_test.shape}\")\n",
        "print(f\"Shape of Testing Target Variable (y_test): {y_test.shape}\")\n",
        "print(f\"Shape of Validation Input Features (X_test): {X_val.shape}\")\n",
        "print(f\"Shape of Validation Target Variable (y_test): {y_val.shape}\")"
      ],
      "metadata": {
        "colab": {
          "base_uri": "https://localhost:8080/"
        },
        "id": "PXXCHlCjXK9j",
        "outputId": "cec88af2-9d7d-47cb-d4d2-477f5d9fdb7d"
      },
      "execution_count": null,
      "outputs": [
        {
          "output_type": "stream",
          "name": "stdout",
          "text": [
            "Shape of Training Input Features (X_train): (2020, 306)\n",
            "Shape of Training Target Variable (y_train): (2020,)\n",
            "Shape of Testing Input Features (X_test): (802, 306)\n",
            "Shape of Testing Target Variable (y_test): (802,)\n",
            "Shape of Validation Input Features (X_test): (429, 306)\n",
            "Shape of Validation Target Variable (y_test): (429,)\n"
          ]
        }
      ]
    },
    {
      "cell_type": "markdown",
      "source": [
        "The dataset is split into three parts: training, testing, and validation. The training set has 2020 samples with 306 features each. The testing set has 802 samples, also with 306 features. The validation set, used for evaluating models, has 429 samples. Overall, the dataset is well-prepared for analysis and modeling."
      ],
      "metadata": {
        "id": "FLxTBOocdHJ0"
      }
    },
    {
      "cell_type": "markdown",
      "source": [
        "###Linear Regression Model"
      ],
      "metadata": {
        "id": "3EbSS1fWmgqY"
      }
    },
    {
      "cell_type": "code",
      "source": [
        "# Define the pipeline\n",
        "pipe = Pipeline(steps=[(\"scaler\", StandardScaler()), (\"lr\", LinearRegression())])\n",
        "\n",
        "# Define the input DataFrames for training and validation\n",
        "X_train = train_data[input_features_train]\n",
        "y_train = train_data[target_variable]\n",
        "\n",
        "X_valid = val_data[input_features_val]\n",
        "y_valid = val_data[target_variable]\n",
        "\n",
        "# Train the pipeline on the training data\n",
        "pipe.fit(X_train, y_train)\n",
        "\n",
        "# Predict and evaluate the validation set\n",
        "valid_predictions = pipe.predict(X_valid)\n",
        "print(\"Validation MAE:\", mean_absolute_error(y_valid, valid_predictions))\n",
        "\n",
        "# Evaluate on the test set\n",
        "X_test = test_data[input_features_test]\n",
        "y_test = test_data[target_variable]\n",
        "test_predictions = pipe.predict(X_test)\n",
        "\n",
        "# Evaluation metrics\n",
        "mse_test = mean_squared_error(y_test, test_predictions)\n",
        "r2_test = r2_score(y_test, test_predictions)\n",
        "\n",
        "print(f\"Test MSE: {mse_test}, R2: {r2_test}\")\n"
      ],
      "metadata": {
        "colab": {
          "base_uri": "https://localhost:8080/"
        },
        "id": "KrDDM7HY-H2C",
        "outputId": "0522e7b3-83a5-486d-deb8-b25de140e72a"
      },
      "execution_count": null,
      "outputs": [
        {
          "output_type": "stream",
          "name": "stdout",
          "text": [
            "Validation MAE: 2.510195140155327e+16\n",
            "Test MSE: 7.353601966200379e+37, R2: -2.106560078111363e+20\n"
          ]
        }
      ]
    },
    {
      "cell_type": "markdown",
      "source": [
        "**Model Performance Overview**\n",
        "\n",
        "The Validation MAE (Mean Absolute Error) is the average difference between what the model predicts and the real values for the validation set.\n",
        "A large value (`2.51 x 10^16`) means the model often guesses wrong by a lot.\n",
        "\n",
        "The Test MSE (Mean Squared Error) is like MAE, but squares the differences; this makes bigger errors stand out more.\n",
        "An enormous number (`7.35 x 10^37`) tells us the model's guesses are often way off.\n",
        "\n",
        "R-squared (R2) shows how much of the change in the target variable the model can explain.\n",
        "A negative number (`−2.106 x 10^20`) means our model does worse than just guessing the average every time.\n",
        "\n",
        "These numbers suggest our model isn't doing well. It's missing the mark by a lot, and it needs some serious tweaking.\n"
      ],
      "metadata": {
        "id": "duSLm9G9lRup"
      }
    },
    {
      "cell_type": "markdown",
      "source": [
        "**Visualisation 1**"
      ],
      "metadata": {
        "id": "RJDxHuHZmf02"
      }
    },
    {
      "cell_type": "code",
      "source": [
        "plt.figure(figsize=(10, 6))\n",
        "plt.scatter(y_test, test_predictions, color='purple', label='Predicted')\n",
        "plt.plot([y_test.min(), y_test.max()], [y_test.min(), y_test.max()], 'k--', lw=2, label='Actual')\n",
        "plt.xlabel('Actual')\n",
        "plt.ylabel('Predicted')\n",
        "plt.title('Linear Regression Model Actual vs Predicted')\n",
        "plt.legend()\n",
        "plt.show()"
      ],
      "metadata": {
        "colab": {
          "base_uri": "https://localhost:8080/",
          "height": 564
        },
        "id": "_-S0IYsHd5x5",
        "outputId": "5ae90c60-ba61-4451-8d41-8293ed7dde66"
      },
      "execution_count": null,
      "outputs": [
        {
          "output_type": "display_data",
          "data": {
            "text/plain": [
              "<Figure size 1000x600 with 1 Axes>"
            ],
            "image/png": "[encoded data removed]"
          },
          "metadata": {}
        }
      ]
    },
    {
      "cell_type": "markdown",
      "source": [
        "**Observations from the Plot**\n",
        "- Many predicted values are close to zero. When actual values change a lot, the model still guesses numbers near zero.\n",
        "- There's a dashed line where predicted equals actual. In a perfect world, all points would be on this line.\n",
        "- Some predictions are way too high, suggesting the model struggles with unusual data.\n",
        "- Actual values reach up to `4e9`, but predictions don't span this range. It might be because:\n",
        "  - The model is too simple.\n",
        "  - We need better features.\n",
        "  - The model isn't learning well enough from the training data.\n",
        "\n",
        "**Conclusion**\n",
        "The model's narrow range of predictions points to a need for deeper analysis and potentially revising the model or data processing steps."
      ],
      "metadata": {
        "id": "DXLI-HFbl1Vs"
      }
    },
    {
      "cell_type": "markdown",
      "source": [
        "**Visualisation 2**"
      ],
      "metadata": {
        "id": "va5RTgwJsVps"
      }
    },
    {
      "cell_type": "code",
      "source": [
        "# Generate learning curves\n",
        "train_sizes, train_scores, validation_scores = learning_curve(\n",
        "    pipe, X_train, y_train, cv=5,\n",
        "    scoring='neg_mean_squared_error',\n",
        "    train_sizes=np.linspace(0.01, 1.0, 50))\n",
        "\n",
        "# Calculate the mean and standard deviation of the training and validation scores at each training set size\n",
        "train_scores_mean = -train_scores.mean(axis=1)\n",
        "validation_scores_mean = -validation_scores.mean(axis=1)\n",
        "\n",
        "# Plot the learning curves\n",
        "plt.figure(figsize=(10, 6))\n",
        "plt.plot(train_sizes, train_scores_mean, label='Training error')\n",
        "plt.plot(train_sizes, validation_scores_mean, label='Validation error')\n",
        "plt.xlabel('Training Set Size')\n",
        "plt.ylabel('MSE')\n",
        "plt.title('Linear Regression Model Learning Curve')\n",
        "plt.legend()\n",
        "plt.show()\n"
      ],
      "metadata": {
        "colab": {
          "base_uri": "https://localhost:8080/",
          "height": 564
        },
        "id": "9wgTxjl7ri2-",
        "outputId": "7f7d521d-5ccd-4f46-d0b0-09a5ecf36a16"
      },
      "execution_count": null,
      "outputs": [
        {
          "output_type": "display_data",
          "data": {
            "text/plain": [
              "<Figure size 1000x600 with 1 Axes>"
            ],
            "image/png": "[encoded data removed]"
          },
          "metadata": {}
        }
      ]
    },
    {
      "cell_type": "markdown",
      "source": [
        "The Training Error stays about the same no matter how much data we use. This means our model is consistently learning from the training data.\n",
        "The Validation Error gets better (goes down) as we add more data. This is good; it means our model is getting smarter and can apply what it learns to new data.\n",
        "Both Errors Are High which indicates that our model isn't predicting well.\n",
        "\n",
        "Why It Might Be Happening:\n",
        "- The data might not be prepared correctly (like we didn't scale the numbers down to a similar range).\n",
        "- There could be some extreme outlier values throwing the model off.\n",
        "- Maybe the model we're using is too simple to catch the patterns in our data.\n",
        "\n",
        "Next, I am going to apply Principal Component Analysis to reduce the dimensionality of the data and see if that improves the Linear Regression Model."
      ],
      "metadata": {
        "id": "1lyzqlgflqDT"
      }
    },
    {
      "cell_type": "markdown",
      "source": [
        "###Linear Regression Model with PCA"
      ],
      "metadata": {
        "id": "bNSkoWr7rgEE"
      }
    },
    {
      "cell_type": "code",
      "source": [
        "# Define the pipeline with PCA and Linear Regression\n",
        "pipe = Pipeline(steps=[\n",
        "    (\"scaler\", StandardScaler()),  # Standardize the data\n",
        "    (\"pca\", PCA(n_components=0.95)),  # Apply PCA to retain 95% of variance\n",
        "    (\"lr\", LinearRegression())  # Linear Regression model\n",
        "])\n",
        "\n",
        "# Train the pipeline on the training data\n",
        "pipe.fit(X_train, y_train)\n",
        "\n",
        "# Predict and evaluate on validation\n",
        "valid_predictions = pipe.predict(X_valid)\n",
        "print(\"Validation MAE:\", mean_absolute_error(y_valid, valid_predictions))\n",
        "\n",
        "# Evaluate on the test set\n",
        "test_predictions = pipe.predict(X_test)\n",
        "\n",
        "# Evaluation metrics\n",
        "mse_test = mean_squared_error(y_test, test_predictions)\n",
        "r2_test = r2_score(y_test, test_predictions)\n",
        "\n",
        "print(f\"Test MSE: {mse_test}, R2: {r2_test}\")"
      ],
      "metadata": {
        "colab": {
          "base_uri": "https://localhost:8080/"
        },
        "id": "5BOeVFJJ70xt",
        "outputId": "8a6ec37d-9b4c-42a6-a1c8-dd00dac0fa7a"
      },
      "execution_count": null,
      "outputs": [
        {
          "output_type": "stream",
          "name": "stdout",
          "text": [
            "Validation MAE: 136716130.05946717\n",
            "Test MSE: 6.457374818194005e+16, R2: 0.8150178910426161\n"
          ]
        }
      ]
    },
    {
      "cell_type": "markdown",
      "source": [
        "The model's Mean Absolute Error (MAE) on the validation set is quite high, around 136.7 million, indicating that the model's predictions often miss the mark by a significant margin. Meanwhile, the Mean Squared Error (MSE) is particularly high, which might be due to the presence of outliers; this metric tends to amplify larger errors because it squares them before averaging. The R² score on the test set is about 0.815, showing the model can predict approximately 81.5% of the variance in our target variable from the features. However, the mix of a high R² with high MAE and MSE values presents a puzzle. It could mean issues with how we're scaling our data, outliers affecting our MSE more than our R², or that our model is mostly accurate but makes a few very large errors. This situation hints at potential overfitting or underfitting and suggests that while our model understands a good part of the variance, there's room for improvement, especially in handling prediction errors."
      ],
      "metadata": {
        "id": "EKDF_cQukcpx"
      }
    },
    {
      "cell_type": "markdown",
      "source": [
        "**Visualisation 1**"
      ],
      "metadata": {
        "id": "8uD2bnU6se_Q"
      }
    },
    {
      "cell_type": "code",
      "source": [
        "# Predictions\n",
        "y_pred = pipe.predict(X_test)\n",
        "\n",
        "# Plot actual vs predicted values\n",
        "plt.figure(figsize=(10, 6))\n",
        "plt.scatter(y_test, y_pred, color='blue')\n",
        "plt.plot([y_test.min(), y_test.max()], [y_test.min(), y_test.max()], 'k--', lw=2)  # Diagonal line\n",
        "plt.xlabel('Actual')\n",
        "plt.ylabel('Predicted')\n",
        "plt.title('Actual vs Predicted Values (Linear Regression with PCA)')\n",
        "plt.show()"
      ],
      "metadata": {
        "colab": {
          "base_uri": "https://localhost:8080/",
          "height": 564
        },
        "id": "CqNzFvmIFDEz",
        "outputId": "3460abba-8752-4c4c-97b0-e2fae2c97947"
      },
      "execution_count": null,
      "outputs": [
        {
          "output_type": "display_data",
          "data": {
            "text/plain": [
              "<Figure size 1000x600 with 1 Axes>"
            ],
            "image/png": "[encoded data removed]"
          },
          "metadata": {}
        }
      ]
    },
    {
      "cell_type": "markdown",
      "source": [
        "The scatter plot shows a mostly linear relationship between the actual and predicted values, hinting that our model does a good job of catching the data's trend. Most points line up near the diagonal dashed line, which is what we'd see if predictions were perfect.\n",
        "\n",
        "However, not all is perfect. A few points stray far from this line, indicating predictions that miss the mark by a lot. Particularly, some points fall below the diagonal, showing predictions lower than actual values, including one that's even negative.\n",
        "\n",
        "- Some predictions overshoot the actual values (points above the diagonal).\n",
        "- Others predict values that are too low (points below the diagonal).\n",
        "\n",
        "Despite these issues, the cluster of points near the diagonal tells us the model generally predicts well. But, those outlier predictions could be skewing our error metrics like MAE and MSE, making them appear worse.\n",
        "\n",
        "Overall, while the model gets the big picture right, it trips up on specific cases. It would be wise to look more into these outliers and see if adjustments to the model could make it even better."
      ],
      "metadata": {
        "id": "jhMGcUFBqd8u"
      }
    },
    {
      "cell_type": "markdown",
      "source": [
        "**Visualisation 2**"
      ],
      "metadata": {
        "id": "B8-jGhJUtXM8"
      }
    },
    {
      "cell_type": "code",
      "source": [
        "# Generate learning curves using the entire pipeline as the estimator\n",
        "train_sizes, train_scores, validation_scores = learning_curve(\n",
        "    pipe, X_train, y_train, cv=5,\n",
        "    scoring='neg_mean_squared_error',\n",
        "    train_sizes=np.linspace(0.01, 1.0, 50))\n",
        "\n",
        "# Calculate the mean of the training and validation scores at each training set size\n",
        "train_scores_mean = -train_scores.mean(axis=1)\n",
        "validation_scores_mean = -validation_scores.mean(axis=1)\n",
        "\n",
        "# Plot the learning curves\n",
        "plt.figure(figsize=(10, 6))\n",
        "plt.plot(train_sizes, train_scores_mean, label='Training error')\n",
        "plt.plot(train_sizes, validation_scores_mean, label='Validation error')\n",
        "plt.xlabel('Training Set Size')\n",
        "plt.ylabel('MSE')\n",
        "plt.title('Learning Curve for Linear Regression with PCA')\n",
        "plt.legend()\n",
        "plt.show()"
      ],
      "metadata": {
        "colab": {
          "base_uri": "https://localhost:8080/",
          "height": 564
        },
        "id": "uS7Z94NpM1W0",
        "outputId": "24237f2c-861c-4780-ce0d-f482f57808f2"
      },
      "execution_count": null,
      "outputs": [
        {
          "output_type": "display_data",
          "data": {
            "text/plain": [
              "<Figure size 1000x600 with 1 Axes>"
            ],
            "image/png": "[encoded data removed]"
          },
          "metadata": {}
        }
      ]
    },
    {
      "cell_type": "markdown",
      "source": [
        "The learning curve shows how well our model learns from the data, using Mean Squared Error (MSE) for both training and validation sets across different amounts of training data.\n",
        "\n",
        "- **Training Error (Blue Line)**: Stays low and consistent, showing the model fits the training data well right from the start. This indicates minimal error from bias.\n",
        "- **Validation Error (Orange Line)**: Begins high when data is scarce, a common issue as models struggle with limited information. However, as we add more data, this error drops significantly. This sharp improvement suggests learning more data helps the model overcome initial overfitting.\n",
        "- **Error Convergence**: Eventually, validation error levels off and gets closer to the training error, indicating the model generalizes well with enough data.\n",
        "- **Stable Model Performance**: There's no late increase in validation error, showing the model keeps its performance even with lots of data.\n",
        "- **High MSE Values**: Despite improvements, the MSE values are very high (up to `10^21`), hinting at large-scale predictions where even small differences lead to big squared errors.\n",
        "\n",
        "In conclusion, our Linear Regression model with PCA is learning effectively, showing good fit without overfitting as training data increases.\n",
        "\n",
        "Next I am going to apply a more complex model, such as the Random Forest Regression."
      ],
      "metadata": {
        "id": "CU0-kSKPlUaA"
      }
    },
    {
      "cell_type": "markdown",
      "source": [
        "###Random Forest Regression"
      ],
      "metadata": {
        "id": "4z0tBKvm-fdu"
      }
    },
    {
      "cell_type": "code",
      "source": [
        "# Define the pipeline\n",
        "pipe = Pipeline(steps=[\n",
        "    ('scaler', StandardScaler()),\n",
        "    ('rf', RandomForestRegressor(n_estimators=100, random_state=42))\n",
        "])\n",
        "\n",
        "# Fit the pipeline on the training data\n",
        "pipe.fit(X_train, y_train)\n",
        "\n",
        "# Predict on the training data and the test data using the pipeline\n",
        "train_predictions = pipe.predict(X_train)\n",
        "val_predictions = pipe.predict(X_val)\n",
        "test_predictions = pipe.predict(X_test)\n",
        "\n",
        "# Calculate the performance metrics on the test and validation data\n",
        "mse_val = mean_squared_error(y_val, val_predictions)\n",
        "r2_val = r2_score(y_val, val_predictions)\n",
        "\n",
        "mse_test = mean_squared_error(y_test, test_predictions)\n",
        "r2_test = r2_score(y_test, test_predictions)\n",
        "\n",
        "print(f\"Mean Squared Error on Validation Set: {mse_val}\")\n",
        "print(f\"R^2 Score on Validation Set: {r2_val}\")\n",
        "\n",
        "print(f\"\\nMean Squared Error on Test Set: {mse_test}\")\n",
        "print(f\"R^2 Score on Test Set: {r2_test}\")"
      ],
      "metadata": {
        "id": "9LKS0CFSuX_M",
        "colab": {
          "base_uri": "https://localhost:8080/"
        },
        "outputId": "77394262-0642-4ebf-fd87-b4494391885b"
      },
      "execution_count": null,
      "outputs": [
        {
          "output_type": "stream",
          "name": "stdout",
          "text": [
            "Mean Squared Error on Validation Set: 1082466536833980.0\n",
            "R^2 Score on Validation Set: 0.9912391499694568\n",
            "\n",
            "Mean Squared Error on Test Set: 3814782777639964.5\n",
            "R^2 Score on Test Set: 0.9890719280932262\n"
          ]
        }
      ]
    },
    {
      "cell_type": "markdown",
      "source": [
        "Validation Set MSE is pretty high, meaning there's a big average difference between what our model predicts and the actual numbers.\n",
        "The R² Score at about 0.991 (99.1%) shows our model can explain most of the variance in our data, which is great.\n",
        "\n",
        "The Test Set MSE is even higher here than on the validation set, hinting our model might not do as well with new, unseen data.\n",
        "The R² Score is still high at 0.989 (98.9%), indicating the model does a good job explaining the variance in the test data too.\n",
        "\n",
        "Even though our R² scores are very good, showing our model does a fantastic job overall, the high MSE values are a bit of a red flag. This could be due to:\n",
        "- The nature of our target variable (maybe it just varies a lot).\n",
        "- A few big mistakes (outliers) skewing the average error.\n",
        "\n",
        "Overall, our model's R² says it's doing an excellent job catching the patterns in the data. But, the MSE tells us to double-check for big errors or overfitting and make sure those great R² scores really mean we're on the right track.\n"
      ],
      "metadata": {
        "id": "BmzPvd-kZZL1"
      }
    },
    {
      "cell_type": "markdown",
      "source": [
        "**Visualisation 1**"
      ],
      "metadata": {
        "id": "neqRGSjLw3jF"
      }
    },
    {
      "cell_type": "code",
      "source": [
        "plt.figure(figsize=(10, 6))\n",
        "plt.scatter(y_test, test_predictions, alpha=0.5)  # Use test_predictions from the pipeline\n",
        "plt.xlabel('Actual Values')\n",
        "plt.ylabel('Predicted Values')\n",
        "plt.title('Actual vs. Predicted Values (Random Forest)')\n",
        "plt.plot([y_test.min(), y_test.max()], [y_test.min(), y_test.max()], 'k--', lw=2)  # Diagonal line for perfect predictions\n",
        "plt.show()"
      ],
      "metadata": {
        "colab": {
          "base_uri": "https://localhost:8080/",
          "height": 564
        },
        "id": "wbqHETFchTEN",
        "outputId": "2dff6cd8-2b2a-48bd-ba59-e634c61659b0"
      },
      "execution_count": null,
      "outputs": [
        {
          "output_type": "display_data",
          "data": {
            "text/plain": [
              "<Figure size 1000x600 with 1 Axes>"
            ],
            "image/png": "[encoded data removed]"
          },
          "metadata": {}
        }
      ]
    },
    {
      "cell_type": "markdown",
      "source": [
        "Most predictions lie near the diagonal line on our scatter plot, showing they're close to actual values — a sign of good model performance. However, some predictions don't line up perfectly with the diagonal, hinting at minor inaccuracies.\n",
        "\n",
        "Both plot axes show a range up to `1e9`, indicating we're dealing with big numbers. Small visual deviations could mean large actual differences because of this scale.\n",
        "\n",
        "With an R2 of 0.989, our model captures most data variance, echoing the visual evidence of accurate predictions.\n",
        "\n",
        "The visuals and R2 suggest our model does a great job predicting unseen data, despite the large numbers and potential outliers it contends with."
      ],
      "metadata": {
        "id": "HcPZBToTdi59"
      }
    },
    {
      "cell_type": "markdown",
      "source": [
        "**Visualisation 2**"
      ],
      "metadata": {
        "id": "gl-IYJOKw7dg"
      }
    },
    {
      "cell_type": "code",
      "source": [
        "# Define the pipeline with a Random Forest Regressor\n",
        "pipe = Pipeline(steps=[('scaler', StandardScaler()),('rf', RandomForestRegressor(n_estimators=100, random_state=42))])\n",
        "\n",
        "# Generate learning curves using the pipeline\n",
        "train_sizes, train_scores, validation_scores = learning_curve(\n",
        "    pipe, X_train, y_train, cv=5,\n",
        "    scoring='neg_mean_squared_error',\n",
        "    train_sizes=np.linspace(0.01, 1.0, 50))\n",
        "\n",
        "# Calculate the mean and standard deviation of the training and validation scores at each training set size\n",
        "train_scores_mean = -train_scores.mean(axis=1)\n",
        "validation_scores_mean = -validation_scores.mean(axis=1)\n",
        "\n",
        "# Plot the learning curves\n",
        "plt.figure(figsize=(10, 6))\n",
        "plt.plot(train_sizes, train_scores_mean, label='Training error')\n",
        "plt.plot(train_sizes, validation_scores_mean, label='Validation error')\n",
        "plt.xlabel('Training Set Size')\n",
        "plt.ylabel('MSE')\n",
        "plt.title('Learning Curve for Random Forest Regressor')\n",
        "plt.legend()\n",
        "plt.show()"
      ],
      "metadata": {
        "id": "zqmSphotsBzC",
        "colab": {
          "base_uri": "https://localhost:8080/",
          "height": 365
        },
        "outputId": "3a8e39f6-3c4c-4359-9ef8-3c8e415db811"
      },
      "execution_count": null,
      "outputs": [
        {
          "output_type": "error",
          "ename": "KeyboardInterrupt",
          "evalue": "",
          "traceback": [
            "\u001b[0;31m---------------------------------------------------------------------------\u001b[0m",
            "\u001b[0;31mKeyboardInterrupt\u001b[0m                         Traceback (most recent call last)",
            "\u001b[0;32m<ipython-input-66-39573ea8cb8e>\u001b[0m in \u001b[0;36m<cell line: 5>\u001b[0;34m()\u001b[0m\n\u001b[1;32m      3\u001b[0m \u001b[0;34m\u001b[0m\u001b[0m\n\u001b[1;32m      4\u001b[0m \u001b[0;31m# Generate learning curves using the pipeline\u001b[0m\u001b[0;34m\u001b[0m\u001b[0;34m\u001b[0m\u001b[0m\n\u001b[0;32m----> 5\u001b[0;31m train_sizes, train_scores, validation_scores = learning_curve(\n\u001b[0m\u001b[1;32m      6\u001b[0m     \u001b[0mpipe\u001b[0m\u001b[0;34m,\u001b[0m \u001b[0mX_train\u001b[0m\u001b[0;34m,\u001b[0m \u001b[0my_train\u001b[0m\u001b[0;34m,\u001b[0m \u001b[0mcv\u001b[0m\u001b[0;34m=\u001b[0m\u001b[0;36m5\u001b[0m\u001b[0;34m,\u001b[0m\u001b[0;34m\u001b[0m\u001b[0;34m\u001b[0m\u001b[0m\n\u001b[1;32m      7\u001b[0m     \u001b[0mscoring\u001b[0m\u001b[0;34m=\u001b[0m\u001b[0;34m'neg_mean_squared_error'\u001b[0m\u001b[0;34m,\u001b[0m\u001b[0;34m\u001b[0m\u001b[0;34m\u001b[0m\u001b[0m\n",
            "\u001b[0;32m/usr/local/lib/python3.10/dist-packages/sklearn/model_selection/_validation.py\u001b[0m in \u001b[0;36mlearning_curve\u001b[0;34m(estimator, X, y, groups, train_sizes, cv, scoring, exploit_incremental_learning, n_jobs, pre_dispatch, verbose, shuffle, random_state, error_score, return_times, fit_params)\u001b[0m\n\u001b[1;32m   1595\u001b[0m                 \u001b[0mtrain_test_proportions\u001b[0m\u001b[0;34m.\u001b[0m\u001b[0mappend\u001b[0m\u001b[0;34m(\u001b[0m\u001b[0;34m(\u001b[0m\u001b[0mtrain\u001b[0m\u001b[0;34m[\u001b[0m\u001b[0;34m:\u001b[0m\u001b[0mn_train_samples\u001b[0m\u001b[0;34m]\u001b[0m\u001b[0;34m,\u001b[0m \u001b[0mtest\u001b[0m\u001b[0;34m)\u001b[0m\u001b[0;34m)\u001b[0m\u001b[0;34m\u001b[0m\u001b[0;34m\u001b[0m\u001b[0m\n\u001b[1;32m   1596\u001b[0m \u001b[0;34m\u001b[0m\u001b[0m\n\u001b[0;32m-> 1597\u001b[0;31m         results = parallel(\n\u001b[0m\u001b[1;32m   1598\u001b[0m             delayed(_fit_and_score)(\n\u001b[1;32m   1599\u001b[0m                 \u001b[0mclone\u001b[0m\u001b[0;34m(\u001b[0m\u001b[0mestimator\u001b[0m\u001b[0;34m)\u001b[0m\u001b[0;34m,\u001b[0m\u001b[0;34m\u001b[0m\u001b[0;34m\u001b[0m\u001b[0m\n",
            "\u001b[0;32m/usr/local/lib/python3.10/dist-packages/sklearn/utils/parallel.py\u001b[0m in \u001b[0;36m__call__\u001b[0;34m(self, iterable)\u001b[0m\n\u001b[1;32m     61\u001b[0m             \u001b[0;32mfor\u001b[0m \u001b[0mdelayed_func\u001b[0m\u001b[0;34m,\u001b[0m \u001b[0margs\u001b[0m\u001b[0;34m,\u001b[0m \u001b[0mkwargs\u001b[0m \u001b[0;32min\u001b[0m \u001b[0miterable\u001b[0m\u001b[0;34m\u001b[0m\u001b[0;34m\u001b[0m\u001b[0m\n\u001b[1;32m     62\u001b[0m         )\n\u001b[0;32m---> 63\u001b[0;31m         \u001b[0;32mreturn\u001b[0m \u001b[0msuper\u001b[0m\u001b[0;34m(\u001b[0m\u001b[0;34m)\u001b[0m\u001b[0;34m.\u001b[0m\u001b[0m__call__\u001b[0m\u001b[0;34m(\u001b[0m\u001b[0miterable_with_config\u001b[0m\u001b[0;34m)\u001b[0m\u001b[0;34m\u001b[0m\u001b[0;34m\u001b[0m\u001b[0m\n\u001b[0m\u001b[1;32m     64\u001b[0m \u001b[0;34m\u001b[0m\u001b[0m\n\u001b[1;32m     65\u001b[0m \u001b[0;34m\u001b[0m\u001b[0m\n",
            "\u001b[0;32m/usr/local/lib/python3.10/dist-packages/joblib/parallel.py\u001b[0m in \u001b[0;36m__call__\u001b[0;34m(self, iterable)\u001b[0m\n\u001b[1;32m   1861\u001b[0m             \u001b[0moutput\u001b[0m \u001b[0;34m=\u001b[0m \u001b[0mself\u001b[0m\u001b[0;34m.\u001b[0m\u001b[0m_get_sequential_output\u001b[0m\u001b[0;34m(\u001b[0m\u001b[0miterable\u001b[0m\u001b[0;34m)\u001b[0m\u001b[0;34m\u001b[0m\u001b[0;34m\u001b[0m\u001b[0m\n\u001b[1;32m   1862\u001b[0m             \u001b[0mnext\u001b[0m\u001b[0;34m(\u001b[0m\u001b[0moutput\u001b[0m\u001b[0;34m)\u001b[0m\u001b[0;34m\u001b[0m\u001b[0;34m\u001b[0m\u001b[0m\n\u001b[0;32m-> 1863\u001b[0;31m             \u001b[0;32mreturn\u001b[0m \u001b[0moutput\u001b[0m \u001b[0;32mif\u001b[0m \u001b[0mself\u001b[0m\u001b[0;34m.\u001b[0m\u001b[0mreturn_generator\u001b[0m \u001b[0;32melse\u001b[0m \u001b[0mlist\u001b[0m\u001b[0;34m(\u001b[0m\u001b[0moutput\u001b[0m\u001b[0;34m)\u001b[0m\u001b[0;34m\u001b[0m\u001b[0;34m\u001b[0m\u001b[0m\n\u001b[0m\u001b[1;32m   1864\u001b[0m \u001b[0;34m\u001b[0m\u001b[0m\n\u001b[1;32m   1865\u001b[0m         \u001b[0;31m# Let's create an ID that uniquely identifies the current call. If the\u001b[0m\u001b[0;34m\u001b[0m\u001b[0;34m\u001b[0m\u001b[0m\n",
            "\u001b[0;32m/usr/local/lib/python3.10/dist-packages/joblib/parallel.py\u001b[0m in \u001b[0;36m_get_sequential_output\u001b[0;34m(self, iterable)\u001b[0m\n\u001b[1;32m   1790\u001b[0m                 \u001b[0mself\u001b[0m\u001b[0;34m.\u001b[0m\u001b[0mn_dispatched_batches\u001b[0m \u001b[0;34m+=\u001b[0m \u001b[0;36m1\u001b[0m\u001b[0;34m\u001b[0m\u001b[0;34m\u001b[0m\u001b[0m\n\u001b[1;32m   1791\u001b[0m                 \u001b[0mself\u001b[0m\u001b[0;34m.\u001b[0m\u001b[0mn_dispatched_tasks\u001b[0m \u001b[0;34m+=\u001b[0m \u001b[0;36m1\u001b[0m\u001b[0;34m\u001b[0m\u001b[0;34m\u001b[0m\u001b[0m\n\u001b[0;32m-> 1792\u001b[0;31m                 \u001b[0mres\u001b[0m \u001b[0;34m=\u001b[0m \u001b[0mfunc\u001b[0m\u001b[0;34m(\u001b[0m\u001b[0;34m*\u001b[0m\u001b[0margs\u001b[0m\u001b[0;34m,\u001b[0m \u001b[0;34m**\u001b[0m\u001b[0mkwargs\u001b[0m\u001b[0;34m)\u001b[0m\u001b[0;34m\u001b[0m\u001b[0;34m\u001b[0m\u001b[0m\n\u001b[0m\u001b[1;32m   1793\u001b[0m                 \u001b[0mself\u001b[0m\u001b[0;34m.\u001b[0m\u001b[0mn_completed_tasks\u001b[0m \u001b[0;34m+=\u001b[0m \u001b[0;36m1\u001b[0m\u001b[0;34m\u001b[0m\u001b[0;34m\u001b[0m\u001b[0m\n\u001b[1;32m   1794\u001b[0m                 \u001b[0mself\u001b[0m\u001b[0;34m.\u001b[0m\u001b[0mprint_progress\u001b[0m\u001b[0;34m(\u001b[0m\u001b[0;34m)\u001b[0m\u001b[0;34m\u001b[0m\u001b[0;34m\u001b[0m\u001b[0m\n",
            "\u001b[0;32m/usr/local/lib/python3.10/dist-packages/sklearn/utils/parallel.py\u001b[0m in \u001b[0;36m__call__\u001b[0;34m(self, *args, **kwargs)\u001b[0m\n\u001b[1;32m    121\u001b[0m             \u001b[0mconfig\u001b[0m \u001b[0;34m=\u001b[0m \u001b[0;34m{\u001b[0m\u001b[0;34m}\u001b[0m\u001b[0;34m\u001b[0m\u001b[0;34m\u001b[0m\u001b[0m\n\u001b[1;32m    122\u001b[0m         \u001b[0;32mwith\u001b[0m \u001b[0mconfig_context\u001b[0m\u001b[0;34m(\u001b[0m\u001b[0;34m**\u001b[0m\u001b[0mconfig\u001b[0m\u001b[0;34m)\u001b[0m\u001b[0;34m:\u001b[0m\u001b[0;34m\u001b[0m\u001b[0;34m\u001b[0m\u001b[0m\n\u001b[0;32m--> 123\u001b[0;31m             \u001b[0;32mreturn\u001b[0m \u001b[0mself\u001b[0m\u001b[0;34m.\u001b[0m\u001b[0mfunction\u001b[0m\u001b[0;34m(\u001b[0m\u001b[0;34m*\u001b[0m\u001b[0margs\u001b[0m\u001b[0;34m,\u001b[0m \u001b[0;34m**\u001b[0m\u001b[0mkwargs\u001b[0m\u001b[0;34m)\u001b[0m\u001b[0;34m\u001b[0m\u001b[0;34m\u001b[0m\u001b[0m\n\u001b[0m",
            "\u001b[0;32m/usr/local/lib/python3.10/dist-packages/sklearn/model_selection/_validation.py\u001b[0m in \u001b[0;36m_fit_and_score\u001b[0;34m(estimator, X, y, scorer, train, test, verbose, parameters, fit_params, return_train_score, return_parameters, return_n_test_samples, return_times, return_estimator, split_progress, candidate_progress, error_score)\u001b[0m\n\u001b[1;32m    684\u001b[0m             \u001b[0mestimator\u001b[0m\u001b[0;34m.\u001b[0m\u001b[0mfit\u001b[0m\u001b[0;34m(\u001b[0m\u001b[0mX_train\u001b[0m\u001b[0;34m,\u001b[0m \u001b[0;34m**\u001b[0m\u001b[0mfit_params\u001b[0m\u001b[0;34m)\u001b[0m\u001b[0;34m\u001b[0m\u001b[0;34m\u001b[0m\u001b[0m\n\u001b[1;32m    685\u001b[0m         \u001b[0;32melse\u001b[0m\u001b[0;34m:\u001b[0m\u001b[0;34m\u001b[0m\u001b[0;34m\u001b[0m\u001b[0m\n\u001b[0;32m--> 686\u001b[0;31m             \u001b[0mestimator\u001b[0m\u001b[0;34m.\u001b[0m\u001b[0mfit\u001b[0m\u001b[0;34m(\u001b[0m\u001b[0mX_train\u001b[0m\u001b[0;34m,\u001b[0m \u001b[0my_train\u001b[0m\u001b[0;34m,\u001b[0m \u001b[0;34m**\u001b[0m\u001b[0mfit_params\u001b[0m\u001b[0;34m)\u001b[0m\u001b[0;34m\u001b[0m\u001b[0;34m\u001b[0m\u001b[0m\n\u001b[0m\u001b[1;32m    687\u001b[0m \u001b[0;34m\u001b[0m\u001b[0m\n\u001b[1;32m    688\u001b[0m     \u001b[0;32mexcept\u001b[0m \u001b[0mException\u001b[0m\u001b[0;34m:\u001b[0m\u001b[0;34m\u001b[0m\u001b[0;34m\u001b[0m\u001b[0m\n",
            "\u001b[0;32m/usr/local/lib/python3.10/dist-packages/sklearn/pipeline.py\u001b[0m in \u001b[0;36mfit\u001b[0;34m(self, X, y, **fit_params)\u001b[0m\n\u001b[1;32m    403\u001b[0m             \u001b[0;32mif\u001b[0m \u001b[0mself\u001b[0m\u001b[0;34m.\u001b[0m\u001b[0m_final_estimator\u001b[0m \u001b[0;34m!=\u001b[0m \u001b[0;34m\"passthrough\"\u001b[0m\u001b[0;34m:\u001b[0m\u001b[0;34m\u001b[0m\u001b[0;34m\u001b[0m\u001b[0m\n\u001b[1;32m    404\u001b[0m                 \u001b[0mfit_params_last_step\u001b[0m \u001b[0;34m=\u001b[0m \u001b[0mfit_params_steps\u001b[0m\u001b[0;34m[\u001b[0m\u001b[0mself\u001b[0m\u001b[0;34m.\u001b[0m\u001b[0msteps\u001b[0m\u001b[0;34m[\u001b[0m\u001b[0;34m-\u001b[0m\u001b[0;36m1\u001b[0m\u001b[0;34m]\u001b[0m\u001b[0;34m[\u001b[0m\u001b[0;36m0\u001b[0m\u001b[0;34m]\u001b[0m\u001b[0;34m]\u001b[0m\u001b[0;34m\u001b[0m\u001b[0;34m\u001b[0m\u001b[0m\n\u001b[0;32m--> 405\u001b[0;31m                 \u001b[0mself\u001b[0m\u001b[0;34m.\u001b[0m\u001b[0m_final_estimator\u001b[0m\u001b[0;34m.\u001b[0m\u001b[0mfit\u001b[0m\u001b[0;34m(\u001b[0m\u001b[0mXt\u001b[0m\u001b[0;34m,\u001b[0m \u001b[0my\u001b[0m\u001b[0;34m,\u001b[0m \u001b[0;34m**\u001b[0m\u001b[0mfit_params_last_step\u001b[0m\u001b[0;34m)\u001b[0m\u001b[0;34m\u001b[0m\u001b[0;34m\u001b[0m\u001b[0m\n\u001b[0m\u001b[1;32m    406\u001b[0m \u001b[0;34m\u001b[0m\u001b[0m\n\u001b[1;32m    407\u001b[0m         \u001b[0;32mreturn\u001b[0m \u001b[0mself\u001b[0m\u001b[0;34m\u001b[0m\u001b[0;34m\u001b[0m\u001b[0m\n",
            "\u001b[0;32m/usr/local/lib/python3.10/dist-packages/sklearn/ensemble/_forest.py\u001b[0m in \u001b[0;36mfit\u001b[0;34m(self, X, y, sample_weight)\u001b[0m\n\u001b[1;32m    471\u001b[0m             \u001b[0;31m# parallel_backend contexts set at a higher level,\u001b[0m\u001b[0;34m\u001b[0m\u001b[0;34m\u001b[0m\u001b[0m\n\u001b[1;32m    472\u001b[0m             \u001b[0;31m# since correctness does not rely on using threads.\u001b[0m\u001b[0;34m\u001b[0m\u001b[0;34m\u001b[0m\u001b[0m\n\u001b[0;32m--> 473\u001b[0;31m             trees = Parallel(\n\u001b[0m\u001b[1;32m    474\u001b[0m                 \u001b[0mn_jobs\u001b[0m\u001b[0;34m=\u001b[0m\u001b[0mself\u001b[0m\u001b[0;34m.\u001b[0m\u001b[0mn_jobs\u001b[0m\u001b[0;34m,\u001b[0m\u001b[0;34m\u001b[0m\u001b[0;34m\u001b[0m\u001b[0m\n\u001b[1;32m    475\u001b[0m                 \u001b[0mverbose\u001b[0m\u001b[0;34m=\u001b[0m\u001b[0mself\u001b[0m\u001b[0;34m.\u001b[0m\u001b[0mverbose\u001b[0m\u001b[0;34m,\u001b[0m\u001b[0;34m\u001b[0m\u001b[0;34m\u001b[0m\u001b[0m\n",
            "\u001b[0;32m/usr/local/lib/python3.10/dist-packages/sklearn/utils/parallel.py\u001b[0m in \u001b[0;36m__call__\u001b[0;34m(self, iterable)\u001b[0m\n\u001b[1;32m     61\u001b[0m             \u001b[0;32mfor\u001b[0m \u001b[0mdelayed_func\u001b[0m\u001b[0;34m,\u001b[0m \u001b[0margs\u001b[0m\u001b[0;34m,\u001b[0m \u001b[0mkwargs\u001b[0m \u001b[0;32min\u001b[0m \u001b[0miterable\u001b[0m\u001b[0;34m\u001b[0m\u001b[0;34m\u001b[0m\u001b[0m\n\u001b[1;32m     62\u001b[0m         )\n\u001b[0;32m---> 63\u001b[0;31m         \u001b[0;32mreturn\u001b[0m \u001b[0msuper\u001b[0m\u001b[0;34m(\u001b[0m\u001b[0;34m)\u001b[0m\u001b[0;34m.\u001b[0m\u001b[0m__call__\u001b[0m\u001b[0;34m(\u001b[0m\u001b[0miterable_with_config\u001b[0m\u001b[0;34m)\u001b[0m\u001b[0;34m\u001b[0m\u001b[0;34m\u001b[0m\u001b[0m\n\u001b[0m\u001b[1;32m     64\u001b[0m \u001b[0;34m\u001b[0m\u001b[0m\n\u001b[1;32m     65\u001b[0m \u001b[0;34m\u001b[0m\u001b[0m\n",
            "\u001b[0;32m/usr/local/lib/python3.10/dist-packages/joblib/parallel.py\u001b[0m in \u001b[0;36m__call__\u001b[0;34m(self, iterable)\u001b[0m\n\u001b[1;32m   1861\u001b[0m             \u001b[0moutput\u001b[0m \u001b[0;34m=\u001b[0m \u001b[0mself\u001b[0m\u001b[0;34m.\u001b[0m\u001b[0m_get_sequential_output\u001b[0m\u001b[0;34m(\u001b[0m\u001b[0miterable\u001b[0m\u001b[0;34m)\u001b[0m\u001b[0;34m\u001b[0m\u001b[0;34m\u001b[0m\u001b[0m\n\u001b[1;32m   1862\u001b[0m             \u001b[0mnext\u001b[0m\u001b[0;34m(\u001b[0m\u001b[0moutput\u001b[0m\u001b[0;34m)\u001b[0m\u001b[0;34m\u001b[0m\u001b[0;34m\u001b[0m\u001b[0m\n\u001b[0;32m-> 1863\u001b[0;31m             \u001b[0;32mreturn\u001b[0m \u001b[0moutput\u001b[0m \u001b[0;32mif\u001b[0m \u001b[0mself\u001b[0m\u001b[0;34m.\u001b[0m\u001b[0mreturn_generator\u001b[0m \u001b[0;32melse\u001b[0m \u001b[0mlist\u001b[0m\u001b[0;34m(\u001b[0m\u001b[0moutput\u001b[0m\u001b[0;34m)\u001b[0m\u001b[0;34m\u001b[0m\u001b[0;34m\u001b[0m\u001b[0m\n\u001b[0m\u001b[1;32m   1864\u001b[0m \u001b[0;34m\u001b[0m\u001b[0m\n\u001b[1;32m   1865\u001b[0m         \u001b[0;31m# Let's create an ID that uniquely identifies the current call. If the\u001b[0m\u001b[0;34m\u001b[0m\u001b[0;34m\u001b[0m\u001b[0m\n",
            "\u001b[0;32m/usr/local/lib/python3.10/dist-packages/joblib/parallel.py\u001b[0m in \u001b[0;36m_get_sequential_output\u001b[0;34m(self, iterable)\u001b[0m\n\u001b[1;32m   1790\u001b[0m                 \u001b[0mself\u001b[0m\u001b[0;34m.\u001b[0m\u001b[0mn_dispatched_batches\u001b[0m \u001b[0;34m+=\u001b[0m \u001b[0;36m1\u001b[0m\u001b[0;34m\u001b[0m\u001b[0;34m\u001b[0m\u001b[0m\n\u001b[1;32m   1791\u001b[0m                 \u001b[0mself\u001b[0m\u001b[0;34m.\u001b[0m\u001b[0mn_dispatched_tasks\u001b[0m \u001b[0;34m+=\u001b[0m \u001b[0;36m1\u001b[0m\u001b[0;34m\u001b[0m\u001b[0;34m\u001b[0m\u001b[0m\n\u001b[0;32m-> 1792\u001b[0;31m                 \u001b[0mres\u001b[0m \u001b[0;34m=\u001b[0m \u001b[0mfunc\u001b[0m\u001b[0;34m(\u001b[0m\u001b[0;34m*\u001b[0m\u001b[0margs\u001b[0m\u001b[0;34m,\u001b[0m \u001b[0;34m**\u001b[0m\u001b[0mkwargs\u001b[0m\u001b[0;34m)\u001b[0m\u001b[0;34m\u001b[0m\u001b[0;34m\u001b[0m\u001b[0m\n\u001b[0m\u001b[1;32m   1793\u001b[0m                 \u001b[0mself\u001b[0m\u001b[0;34m.\u001b[0m\u001b[0mn_completed_tasks\u001b[0m \u001b[0;34m+=\u001b[0m \u001b[0;36m1\u001b[0m\u001b[0;34m\u001b[0m\u001b[0;34m\u001b[0m\u001b[0m\n\u001b[1;32m   1794\u001b[0m                 \u001b[0mself\u001b[0m\u001b[0;34m.\u001b[0m\u001b[0mprint_progress\u001b[0m\u001b[0;34m(\u001b[0m\u001b[0;34m)\u001b[0m\u001b[0;34m\u001b[0m\u001b[0;34m\u001b[0m\u001b[0m\n",
            "\u001b[0;32m/usr/local/lib/python3.10/dist-packages/sklearn/utils/parallel.py\u001b[0m in \u001b[0;36m__call__\u001b[0;34m(self, *args, **kwargs)\u001b[0m\n\u001b[1;32m    121\u001b[0m             \u001b[0mconfig\u001b[0m \u001b[0;34m=\u001b[0m \u001b[0;34m{\u001b[0m\u001b[0;34m}\u001b[0m\u001b[0;34m\u001b[0m\u001b[0;34m\u001b[0m\u001b[0m\n\u001b[1;32m    122\u001b[0m         \u001b[0;32mwith\u001b[0m \u001b[0mconfig_context\u001b[0m\u001b[0;34m(\u001b[0m\u001b[0;34m**\u001b[0m\u001b[0mconfig\u001b[0m\u001b[0;34m)\u001b[0m\u001b[0;34m:\u001b[0m\u001b[0;34m\u001b[0m\u001b[0;34m\u001b[0m\u001b[0m\n\u001b[0;32m--> 123\u001b[0;31m             \u001b[0;32mreturn\u001b[0m \u001b[0mself\u001b[0m\u001b[0;34m.\u001b[0m\u001b[0mfunction\u001b[0m\u001b[0;34m(\u001b[0m\u001b[0;34m*\u001b[0m\u001b[0margs\u001b[0m\u001b[0;34m,\u001b[0m \u001b[0;34m**\u001b[0m\u001b[0mkwargs\u001b[0m\u001b[0;34m)\u001b[0m\u001b[0;34m\u001b[0m\u001b[0;34m\u001b[0m\u001b[0m\n\u001b[0m",
            "\u001b[0;32m/usr/local/lib/python3.10/dist-packages/sklearn/ensemble/_forest.py\u001b[0m in \u001b[0;36m_parallel_build_trees\u001b[0;34m(tree, bootstrap, X, y, sample_weight, tree_idx, n_trees, verbose, class_weight, n_samples_bootstrap)\u001b[0m\n\u001b[1;32m    182\u001b[0m             \u001b[0mcurr_sample_weight\u001b[0m \u001b[0;34m*=\u001b[0m \u001b[0mcompute_sample_weight\u001b[0m\u001b[0;34m(\u001b[0m\u001b[0;34m\"balanced\"\u001b[0m\u001b[0;34m,\u001b[0m \u001b[0my\u001b[0m\u001b[0;34m,\u001b[0m \u001b[0mindices\u001b[0m\u001b[0;34m=\u001b[0m\u001b[0mindices\u001b[0m\u001b[0;34m)\u001b[0m\u001b[0;34m\u001b[0m\u001b[0;34m\u001b[0m\u001b[0m\n\u001b[1;32m    183\u001b[0m \u001b[0;34m\u001b[0m\u001b[0m\n\u001b[0;32m--> 184\u001b[0;31m         \u001b[0mtree\u001b[0m\u001b[0;34m.\u001b[0m\u001b[0mfit\u001b[0m\u001b[0;34m(\u001b[0m\u001b[0mX\u001b[0m\u001b[0;34m,\u001b[0m \u001b[0my\u001b[0m\u001b[0;34m,\u001b[0m \u001b[0msample_weight\u001b[0m\u001b[0;34m=\u001b[0m\u001b[0mcurr_sample_weight\u001b[0m\u001b[0;34m,\u001b[0m \u001b[0mcheck_input\u001b[0m\u001b[0;34m=\u001b[0m\u001b[0;32mFalse\u001b[0m\u001b[0;34m)\u001b[0m\u001b[0;34m\u001b[0m\u001b[0;34m\u001b[0m\u001b[0m\n\u001b[0m\u001b[1;32m    185\u001b[0m     \u001b[0;32melse\u001b[0m\u001b[0;34m:\u001b[0m\u001b[0;34m\u001b[0m\u001b[0;34m\u001b[0m\u001b[0m\n\u001b[1;32m    186\u001b[0m         \u001b[0mtree\u001b[0m\u001b[0;34m.\u001b[0m\u001b[0mfit\u001b[0m\u001b[0;34m(\u001b[0m\u001b[0mX\u001b[0m\u001b[0;34m,\u001b[0m \u001b[0my\u001b[0m\u001b[0;34m,\u001b[0m \u001b[0msample_weight\u001b[0m\u001b[0;34m=\u001b[0m\u001b[0msample_weight\u001b[0m\u001b[0;34m,\u001b[0m \u001b[0mcheck_input\u001b[0m\u001b[0;34m=\u001b[0m\u001b[0;32mFalse\u001b[0m\u001b[0;34m)\u001b[0m\u001b[0;34m\u001b[0m\u001b[0;34m\u001b[0m\u001b[0m\n",
            "\u001b[0;32m/usr/local/lib/python3.10/dist-packages/sklearn/tree/_classes.py\u001b[0m in \u001b[0;36mfit\u001b[0;34m(self, X, y, sample_weight, check_input)\u001b[0m\n\u001b[1;32m   1245\u001b[0m         \"\"\"\n\u001b[1;32m   1246\u001b[0m \u001b[0;34m\u001b[0m\u001b[0m\n\u001b[0;32m-> 1247\u001b[0;31m         super().fit(\n\u001b[0m\u001b[1;32m   1248\u001b[0m             \u001b[0mX\u001b[0m\u001b[0;34m,\u001b[0m\u001b[0;34m\u001b[0m\u001b[0;34m\u001b[0m\u001b[0m\n\u001b[1;32m   1249\u001b[0m             \u001b[0my\u001b[0m\u001b[0;34m,\u001b[0m\u001b[0;34m\u001b[0m\u001b[0;34m\u001b[0m\u001b[0m\n",
            "\u001b[0;32m/usr/local/lib/python3.10/dist-packages/sklearn/tree/_classes.py\u001b[0m in \u001b[0;36mfit\u001b[0;34m(self, X, y, sample_weight, check_input)\u001b[0m\n\u001b[1;32m    377\u001b[0m             )\n\u001b[1;32m    378\u001b[0m \u001b[0;34m\u001b[0m\u001b[0m\n\u001b[0;32m--> 379\u001b[0;31m         \u001b[0mbuilder\u001b[0m\u001b[0;34m.\u001b[0m\u001b[0mbuild\u001b[0m\u001b[0;34m(\u001b[0m\u001b[0mself\u001b[0m\u001b[0;34m.\u001b[0m\u001b[0mtree_\u001b[0m\u001b[0;34m,\u001b[0m \u001b[0mX\u001b[0m\u001b[0;34m,\u001b[0m \u001b[0my\u001b[0m\u001b[0;34m,\u001b[0m \u001b[0msample_weight\u001b[0m\u001b[0;34m)\u001b[0m\u001b[0;34m\u001b[0m\u001b[0;34m\u001b[0m\u001b[0m\n\u001b[0m\u001b[1;32m    380\u001b[0m \u001b[0;34m\u001b[0m\u001b[0m\n\u001b[1;32m    381\u001b[0m         \u001b[0;32mif\u001b[0m \u001b[0mself\u001b[0m\u001b[0;34m.\u001b[0m\u001b[0mn_outputs_\u001b[0m \u001b[0;34m==\u001b[0m \u001b[0;36m1\u001b[0m \u001b[0;32mand\u001b[0m \u001b[0mis_classifier\u001b[0m\u001b[0;34m(\u001b[0m\u001b[0mself\u001b[0m\u001b[0;34m)\u001b[0m\u001b[0;34m:\u001b[0m\u001b[0;34m\u001b[0m\u001b[0;34m\u001b[0m\u001b[0m\n",
            "\u001b[0;31mKeyboardInterrupt\u001b[0m: "
          ]
        }
      ]
    },
    {
      "cell_type": "markdown",
      "source": [
        "At small training sizes, the error is pretty high. This likely happens because the Random Forest model needs more data to grasp the complex patterns in the data. As we add more training data, both training and validation errors drop quickly. This shows the model really benefits from more data.\n",
        "\n",
        "The training and validation errors come closer together with more data, hinting that overfitting isn't a major issue here. Random Forests tend to handle overfitting well, especially with ample data.\n",
        "After reaching a certain amount of data, errors level off, suggesting extra data won't much improve the model's performance on new, unseen data.\n",
        "\n",
        "Despite improvements, the error scale (up to `1e16`) remains large, implying significant prediction errors may still exist.\n",
        "These could stem from data noise, not scaling features properly, or the model not fully capturing data complexity.\n",
        "The initial high error with small data sizes could show that Random Forest has a higher learning capacity than simpler models like linear regression.\n",
        "\n",
        "The learning curve shows the Random Forest model learns well with more data.\n"
      ],
      "metadata": {
        "id": "KOmhwbBmsPyP"
      }
    },
    {
      "cell_type": "markdown",
      "source": [
        "### Random Forest Regression with PCA"
      ],
      "metadata": {
        "id": "Rh-wUIgRxYYY"
      }
    },
    {
      "cell_type": "code",
      "source": [
        "# Define the pipeline with PCA and Random Forest Regressor\n",
        "pipe = Pipeline(steps=[\n",
        "    ('scaler', StandardScaler()),\n",
        "    ('pca', PCA(n_components=0.95)),  # PCA with 95% variance retained\n",
        "    ('rf', RandomForestRegressor(n_estimators=100, random_state=42))\n",
        "])\n",
        "\n",
        "# Fit the pipeline on the training data\n",
        "pipe.fit(X_train, y_train)\n",
        "\n",
        "# Predict on the training data and the test data using the pipeline\n",
        "train_predictions = pipe.predict(X_train)\n",
        "val_predictions = pipe.predict(X_val)\n",
        "test_predictions = pipe.predict(X_test)\n",
        "\n",
        "# Calculate the performance metrics on the test and validation data\n",
        "mse_val = mean_squared_error(y_val, val_predictions)\n",
        "r2_val = r2_score(y_val, val_predictions)\n",
        "\n",
        "mse_test = mean_squared_error(y_test, test_predictions)\n",
        "r2_test = r2_score(y_test, test_predictions)\n",
        "\n",
        "print(f\"Mean Squared Error on Validation Set: {mse_val}\")\n",
        "print(f\"R^2 Score on Validation Set: {r2_val}\")\n",
        "\n",
        "print(f\"\\nMean Squared Error on Test Set: {mse_test}\")\n",
        "print(f\"R^2 Score on Test Set: {r2_test}\")"
      ],
      "metadata": {
        "colab": {
          "base_uri": "https://localhost:8080/"
        },
        "id": "tFhVNa4UxfPk",
        "outputId": "e0a53bbb-fef8-4e58-9797-2ffbd62b8804"
      },
      "execution_count": null,
      "outputs": [
        {
          "output_type": "stream",
          "name": "stdout",
          "text": [
            "Mean Squared Error on Validation Set: 9.996926012650528e+16\n",
            "R^2 Score on Validation Set: 0.1909073714239038\n",
            "\n",
            "Mean Squared Error on Test Set: 1.0784257550667707e+17\n",
            "R^2 Score on Test Set: 0.6910672275610548\n"
          ]
        }
      ]
    },
    {
      "cell_type": "markdown",
      "source": [
        "The test set shows a large MSE, meaning there's a big gap on average between what the model predicts and the actual numbers. Since MSE squares the errors, just a few big mistakes can make this metric jump up.\n",
        "\n",
        "The R² Score tells us the model can explain about 70% of the variance in our target variable based on its features. An R² of 0.7 is pretty good, indicating the model fits our data well overall.\n",
        "\n",
        "The big MSE might come from outliers. These are unusual or extreme values that the model handles poorly, pumping up the MSE. But, these don't affect R² as much, so our model still seems to fit well in general.\n",
        "\n",
        "It's also possible the model does great for most data but drops the ball on a few points, skewing the error distribution.\n",
        "\n",
        "If our target variable covers a huge range or isn't scaled right, that could blow up the MSE too. This is something to check if the MSE feels out of proportion."
      ],
      "metadata": {
        "id": "n3CSaxRZyU2B"
      }
    },
    {
      "cell_type": "markdown",
      "source": [
        "**Visualisation 1**"
      ],
      "metadata": {
        "id": "mT7A3WBJ0EtQ"
      }
    },
    {
      "cell_type": "code",
      "source": [
        "# Assuming `y_test` are your actual values and `test_predictions` are made by your pipeline model\n",
        "plt.figure(figsize=(10, 6))\n",
        "plt.scatter(y_test, test_predictions, alpha=0.5)  # Use test_predictions from the pipeline\n",
        "plt.xlabel('Actual Values')\n",
        "plt.ylabel('Predicted Values')\n",
        "plt.title('Actual vs. Predicted Values (Random Forest with PCA)')\n",
        "plt.plot([y_test.min(), y_test.max()], [y_test.min(), y_test.max()], 'k--', lw=2)  # Diagonal line for perfect predictions\n",
        "plt.show()"
      ],
      "metadata": {
        "id": "Q-6xuLTAyjwx"
      },
      "execution_count": null,
      "outputs": []
    },
    {
      "cell_type": "markdown",
      "source": [
        "Looking at our plot, most data points stick close to the dashed line that shows where perfect predictions should land. This means our model's guesses are mostly on target.\n",
        "\n",
        "Lots of points hugging the diagonal line tell us our model is doing a good job predicting a wide range of values. A few points stray from this line, pointing out times the model misses the mark. Checking out why could help us make the model even better.\n",
        "\n",
        "While the plot shows many predictions are spot-on or close, we can't see exactly how many are almost perfect versus just near.\n",
        "\n",
        "Even though the R² score was pretty solid (around 70%), suggesting our model understands the data well, a high MSE hinted at some big prediction errors here and there. This plot backs that up, showing a general trend but with some notable misses.\n",
        "\n",
        "Overall, the plot paints a picture of a model that works well for a lot of predictions but also points out a few spots, especially those outliers and any negatives, where there's room for improvement."
      ],
      "metadata": {
        "id": "1Pa9QNjr4Nkb"
      }
    },
    {
      "cell_type": "markdown",
      "source": [
        "**Visualisation 2**"
      ],
      "metadata": {
        "id": "Sas47PWB3j1Y"
      }
    },
    {
      "cell_type": "code",
      "source": [
        "# Define the pipeline with a Random Forest Regressor\n",
        "pipe = Pipeline(steps=[\n",
        "    ('scaler', StandardScaler()),\n",
        "    ('rf', RandomForestRegressor(n_estimators=100, random_state=42))\n",
        "])\n",
        "\n",
        "# Generate learning curves using the pipeline\n",
        "train_sizes, train_scores, validation_scores = learning_curve(\n",
        "    pipe, X_train, y_train, cv=5,\n",
        "    scoring='neg_mean_squared_error',\n",
        "    train_sizes=np.linspace(0.01, 1.0, 50))\n",
        "\n",
        "# Calculate the mean and standard deviation of the training and validation scores at each training set size\n",
        "train_scores_mean = -train_scores.mean(axis=1)\n",
        "validation_scores_mean = -validation_scores.mean(axis=1)\n",
        "\n",
        "# Plot the learning curves\n",
        "plt.figure(figsize=(10, 6))\n",
        "plt.plot(train_sizes, train_scores_mean, label='Training error')\n",
        "plt.plot(train_sizes, validation_scores_mean, label='Validation error')\n",
        "plt.xlabel('Training Set Size')\n",
        "plt.ylabel('MSE')\n",
        "plt.title('Learning Curve for Random Forest Regressor with PCA')\n",
        "plt.legend()\n",
        "plt.show()"
      ],
      "metadata": {
        "id": "lmY8q4IY3yWC"
      },
      "execution_count": null,
      "outputs": []
    },
    {
      "cell_type": "markdown",
      "source": [
        "In the beginning, when there's hardly any data to learn from, both training and validation errors are sky-high. That's expected, as the model struggles to grasp the overall pattern from just a few examples. But as we feed it more data, we see a quick drop in errors. This improvement shows the model is eager to learn and does so effectively with more information.\n",
        "\n",
        "Eventually, the errors from training and validation meet, suggesting our model strikes a good balance. It's not overfitting (learning the training data too closely) nor underfitting (missing the broader trends). The errors level off after a certain point, hinting that piling on more data won't really help the model get better. This plateau might mean the model's learned as much as it can with what it's been given.\n",
        "\n",
        "Still, the errors stay high, indicating our predictions often miss the mark. While using PCA with our Random Forest model seemed like a good idea to simplify things, it might've cut out valuable info. Random Forests usually handle complex data well on their own, so maybe PCA wasn't needed.\n",
        "\n",
        "Overall, the learning curve shows our model does a decent job generalizing but still makes significant mistakes on average. It's worth a closer look at the data and maybe a rethink on our approach to improve accuracy."
      ],
      "metadata": {
        "id": "V2KwcDoz7U86"
      }
    },
    {
      "cell_type": "markdown",
      "source": [
        "## Evaluations"
      ],
      "metadata": {
        "id": "E539VMz_9Qba"
      }
    },
    {
      "cell_type": "markdown",
      "source": [
        "### Linear Regression Models"
      ],
      "metadata": {
        "id": "zYu0If-M9lDG"
      }
    },
    {
      "cell_type": "markdown",
      "source": [
        "Applying PCA seems to greatly improve the performance of the linear regression model based on all three metrics. The original model without PCA is performing poorly, while the model with PCA appears to be a better fit for the data, albeit still with room for improvement given the still-large MSE. The high MSE still suggests potential issues, such as outliers or the need for further feature engineering, that might need to be addressed to improve model performance."
      ],
      "metadata": {
        "id": "WBkG2uO09huk"
      }
    },
    {
      "cell_type": "markdown",
      "source": [
        "### Random Forest Regression Models"
      ],
      "metadata": {
        "id": "07EqPUisJYUL"
      }
    },
    {
      "cell_type": "markdown",
      "source": [
        "When we look at how PCA impacts our Random Forest Regression model, the differences are clear:\n",
        "\n",
        "- Without PCA, MSE is way lower. Adding PCA increases MSE significantly, making errors about 100 times bigger.\n",
        "- The same goes in the test set; PCA leads to much bigger MSEs.\n",
        "- Without PCA, R² scores are almost perfect.\n",
        "- It looks like PCA might be throwing out valuable info that helps the Random Forest make good predictions.\n",
        "- Without PCA, our model seems to catch on to the data's patterns pretty well.\n",
        "\n",
        "In summary, skipping PCA seems to be the way to go for our Random Forest model. PCA's dimension reduction doesn't help and might even be stripping away details the model needs to make accurate predictions."
      ],
      "metadata": {
        "id": "t_iWs1dGJe6R"
      }
    },
    {
      "cell_type": "markdown",
      "source": [
        "## Conclusion"
      ],
      "metadata": {
        "id": "zmvWShb8NeEg"
      }
    },
    {
      "cell_type": "markdown",
      "source": [
        "Random Forest tends to handle complex, non-linear relationships better than Linear Regression and is robust to outliers.\n",
        "Linear Regression assumes a linear relationship between features and the target variable, and it is sensitive to outliers.\n",
        "\n",
        "The Linear Regression without PCA has extremely poor performance, while with PCA, it shows a reasonable R² but still a high MSE, indicating potential outliers or scale issues.\n",
        "\n",
        "Random Forest without PCA shows near-perfect performance metrics on both validation and test sets, indicating a very good fit to the data.\n",
        "Random Forest with PCA shows a significant drop in performance, suggesting that the dimensionality reduction might not be beneficial for this ensemble method.\n",
        "\n",
        "\n",
        "PCA seems to improve the performance of Linear Regression, while PCA does not appear to benefit the Random Forest model, which generally performs well with high-dimensional data and may lose information after PCA.\n",
        "\n",
        "Random Forest models (without PCA) outperform Linear Regression models in terms of both MSE and R² scores provided.\n",
        "\n",
        "In conclusion, based on the results, Random Forest Regression without PCA is the superior model, demonstrating strong predictive power and a good fit to the data. Linear Regression seems to struggle with this particular dataset unless PCA is applied, which improves its performance but not to the level of the Random Forest Regression model."
      ],
      "metadata": {
        "id": "honj22-XNgOy"
      }
    }
  ]
}